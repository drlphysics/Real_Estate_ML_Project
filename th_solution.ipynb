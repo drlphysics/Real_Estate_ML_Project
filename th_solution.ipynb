{
 "cells": [
  {
   "cell_type": "code",
   "execution_count": 61,
   "metadata": {},
   "outputs": [
    {
     "data": {
      "text/html": [
       "<div>\n",
       "<style scoped>\n",
       "    .dataframe tbody tr th:only-of-type {\n",
       "        vertical-align: middle;\n",
       "    }\n",
       "\n",
       "    .dataframe tbody tr th {\n",
       "        vertical-align: top;\n",
       "    }\n",
       "\n",
       "    .dataframe thead th {\n",
       "        text-align: right;\n",
       "    }\n",
       "</style>\n",
       "<table border=\"1\" class=\"dataframe\">\n",
       "  <thead>\n",
       "    <tr style=\"text-align: right;\">\n",
       "      <th></th>\n",
       "      <th>MLS #</th>\n",
       "      <th>City</th>\n",
       "      <th>Zip</th>\n",
       "      <th>Bedrooms</th>\n",
       "      <th>Total Baths</th>\n",
       "      <th>SqFt</th>\n",
       "      <th>Acres</th>\n",
       "      <th>Year Built</th>\n",
       "      <th>List Date</th>\n",
       "      <th>Closing Date</th>\n",
       "      <th>List Price</th>\n",
       "      <th>Sold Price</th>\n",
       "      <th>Days on Market</th>\n",
       "      <th>Over Asking</th>\n",
       "      <th>Lat</th>\n",
       "      <th>Lon</th>\n",
       "      <th>Cluster</th>\n",
       "      <th>Price per SqFt</th>\n",
       "    </tr>\n",
       "  </thead>\n",
       "  <tbody>\n",
       "    <tr>\n",
       "      <th>0</th>\n",
       "      <td>2509707</td>\n",
       "      <td>Cary</td>\n",
       "      <td>27511</td>\n",
       "      <td>4</td>\n",
       "      <td>4</td>\n",
       "      <td>6115</td>\n",
       "      <td>1</td>\n",
       "      <td>1985</td>\n",
       "      <td>2023-05-08</td>\n",
       "      <td>2023-06-12</td>\n",
       "      <td>1049900</td>\n",
       "      <td>1275000</td>\n",
       "      <td>35</td>\n",
       "      <td>225100</td>\n",
       "      <td>35.7641</td>\n",
       "      <td>-78.7786</td>\n",
       "      <td>2</td>\n",
       "      <td>208.503679</td>\n",
       "    </tr>\n",
       "    <tr>\n",
       "      <th>1</th>\n",
       "      <td>2444544</td>\n",
       "      <td>Chapel Hill</td>\n",
       "      <td>27517</td>\n",
       "      <td>4</td>\n",
       "      <td>5</td>\n",
       "      <td>4049</td>\n",
       "      <td>1</td>\n",
       "      <td>2004</td>\n",
       "      <td>2022-04-25</td>\n",
       "      <td>2022-06-07</td>\n",
       "      <td>1090000</td>\n",
       "      <td>1300000</td>\n",
       "      <td>43</td>\n",
       "      <td>210000</td>\n",
       "      <td>35.9182</td>\n",
       "      <td>-79.0035</td>\n",
       "      <td>1</td>\n",
       "      <td>321.066930</td>\n",
       "    </tr>\n",
       "    <tr>\n",
       "      <th>2</th>\n",
       "      <td>2320632</td>\n",
       "      <td>Durham</td>\n",
       "      <td>27707</td>\n",
       "      <td>3</td>\n",
       "      <td>5</td>\n",
       "      <td>2763</td>\n",
       "      <td>1</td>\n",
       "      <td>2020</td>\n",
       "      <td>2020-05-22</td>\n",
       "      <td>2021-08-05</td>\n",
       "      <td>575000</td>\n",
       "      <td>729840</td>\n",
       "      <td>440</td>\n",
       "      <td>154840</td>\n",
       "      <td>35.9631</td>\n",
       "      <td>-78.9315</td>\n",
       "      <td>1</td>\n",
       "      <td>264.147666</td>\n",
       "    </tr>\n",
       "    <tr>\n",
       "      <th>3</th>\n",
       "      <td>2428221</td>\n",
       "      <td>Cary</td>\n",
       "      <td>27511</td>\n",
       "      <td>3</td>\n",
       "      <td>4</td>\n",
       "      <td>3477</td>\n",
       "      <td>1</td>\n",
       "      <td>2004</td>\n",
       "      <td>2022-01-24</td>\n",
       "      <td>2022-02-09</td>\n",
       "      <td>949900</td>\n",
       "      <td>1100000</td>\n",
       "      <td>16</td>\n",
       "      <td>150100</td>\n",
       "      <td>35.7641</td>\n",
       "      <td>-78.7786</td>\n",
       "      <td>2</td>\n",
       "      <td>316.364682</td>\n",
       "    </tr>\n",
       "    <tr>\n",
       "      <th>4</th>\n",
       "      <td>10018970</td>\n",
       "      <td>Chapel Hill</td>\n",
       "      <td>27517</td>\n",
       "      <td>4</td>\n",
       "      <td>5</td>\n",
       "      <td>4049</td>\n",
       "      <td>1</td>\n",
       "      <td>2004</td>\n",
       "      <td>2024-04-06</td>\n",
       "      <td>2024-04-17</td>\n",
       "      <td>1350000</td>\n",
       "      <td>1500000</td>\n",
       "      <td>11</td>\n",
       "      <td>150000</td>\n",
       "      <td>35.9182</td>\n",
       "      <td>-79.0035</td>\n",
       "      <td>1</td>\n",
       "      <td>370.461842</td>\n",
       "    </tr>\n",
       "  </tbody>\n",
       "</table>\n",
       "</div>"
      ],
      "text/plain": [
       "      MLS #         City    Zip  Bedrooms  Total Baths  SqFt  Acres  \\\n",
       "0   2509707         Cary  27511         4            4  6115      1   \n",
       "1   2444544  Chapel Hill  27517         4            5  4049      1   \n",
       "2   2320632       Durham  27707         3            5  2763      1   \n",
       "3   2428221         Cary  27511         3            4  3477      1   \n",
       "4  10018970  Chapel Hill  27517         4            5  4049      1   \n",
       "\n",
       "   Year Built   List Date Closing Date  List Price  Sold Price  \\\n",
       "0        1985  2023-05-08   2023-06-12     1049900     1275000   \n",
       "1        2004  2022-04-25   2022-06-07     1090000     1300000   \n",
       "2        2020  2020-05-22   2021-08-05      575000      729840   \n",
       "3        2004  2022-01-24   2022-02-09      949900     1100000   \n",
       "4        2004  2024-04-06   2024-04-17     1350000     1500000   \n",
       "\n",
       "   Days on Market  Over Asking      Lat      Lon  Cluster  Price per SqFt  \n",
       "0              35       225100  35.7641 -78.7786        2      208.503679  \n",
       "1              43       210000  35.9182 -79.0035        1      321.066930  \n",
       "2             440       154840  35.9631 -78.9315        1      264.147666  \n",
       "3              16       150100  35.7641 -78.7786        2      316.364682  \n",
       "4              11       150000  35.9182 -79.0035        1      370.461842  "
      ]
     },
     "execution_count": 61,
     "metadata": {},
     "output_type": "execute_result"
    }
   ],
   "source": [
    "# Import the Utility Functions\n",
    "import pandas as pd\n",
    "from sklearn.metrics import classification_report\n",
    "import mls_utils as utils\n",
    "\n",
    "df = pd.read_csv(\"Clean_Data/mls_th_cleaned.csv\")\n",
    "df.head()"
   ]
  },
  {
   "cell_type": "code",
   "execution_count": 62,
   "metadata": {},
   "outputs": [],
   "source": [
    "#Select features and target variables\n",
    "features = ['Total Baths', 'Bedrooms', 'Year Built', 'Acres', 'Zip', 'Lat', 'Lon', 'Days on Market', 'Over Asking', 'Price per SqFt', 'Cluster'] # Dropping List Price as it is a direct predictor of Sold Price\n",
    "target = 'Sold Price'\n"
   ]
  },
  {
   "cell_type": "code",
   "execution_count": 63,
   "metadata": {},
   "outputs": [],
   "source": [
    "#Call the split_data function to split the data into training and testing sets\n",
    "X_train, X_test, y_train, y_test = utils.split_data(df, features, target)\n",
    "X_train_scaled, X_test_scaled = utils.scale_data(X_train, X_test)"
   ]
  },
  {
   "cell_type": "code",
   "execution_count": 64,
   "metadata": {},
   "outputs": [
    {
     "name": "stdout",
     "output_type": "stream",
     "text": [
      "Decision Tree - Train MSE: 2021013340.7949984\n",
      "Decision Tree - Test MSE: 4075341634.242097\n",
      "Decision Tree - Train R2: 0.8546527375190924\n",
      "Decision Tree - Test R2: 0.7423963212640695\n",
      "Decision Tree - Bias: 15823066177.01539\n",
      "Decision Tree - Variance: 11965375301.14319\n"
     ]
    }
   ],
   "source": [
    "#Build a function to call the Regression Tree Functions within the utils file\n",
    "#dt_regressor = utils.train_decision_tree_model(X_train, y_train)\n",
    "dt_regressor = utils.tune_hyperparameters(X_train_scaled, y_train, 'decision_tree')\n",
    "dt_train_mse, dt_test_mse, dt_train_r2, dt_test_r2 = utils.evaluate_model(dt_regressor, X_train_scaled, X_test_scaled, y_train, y_test)\n",
    "dt_bias, dt_variance = utils.calculate_bias_variance(y_test, dt_regressor.predict(X_test_scaled))\n",
    "\n",
    "\n",
    "print(f'Decision Tree - Train MSE: {dt_train_mse}')\n",
    "print(f'Decision Tree - Test MSE: {dt_test_mse}')\n",
    "print(f'Decision Tree - Train R2: {dt_train_r2}')\n",
    "print(f'Decision Tree - Test R2: {dt_test_r2}')\n",
    "print(f'Decision Tree - Bias: {dt_bias}')\n",
    "print(f'Decision Tree - Variance: {dt_variance}')\n",
    "\n",
    "#utils.visualize_tree(dt_regressor, features)"
   ]
  },
  {
   "cell_type": "code",
   "execution_count": 65,
   "metadata": {},
   "outputs": [
    {
     "name": "stdout",
     "output_type": "stream",
     "text": [
      "Linear Regression - Train MSE: 9912924241.863848\n",
      "Linear Regression - Test MSE: 11565869569.524702\n",
      "Linear Regression - Train R2: 0.2870821915659557\n",
      "Linear Regression - Test R2: 0.26891759850125896\n",
      "Linear Regression - Bias: 15825969413.58412\n",
      "Linear Regression - Variance: 4024486291.223355\n"
     ]
    }
   ],
   "source": [
    "# Linear Regression Model\n",
    "lr_regressor = utils.train_linear_regression_model(X_train_scaled, y_train, alpha=1.0)\n",
    "lr_train_mse, lr_test_mse, lr_train_r2, lr_test_r2 = utils.evaluate_model(lr_regressor, X_train_scaled, X_test_scaled, y_train, y_test)\n",
    "lr_bias, lr_variance = utils.calculate_bias_variance(y_test, lr_regressor.predict(X_test_scaled))\n",
    "\n",
    "    \n",
    "print(f'Linear Regression - Train MSE: {lr_train_mse}')\n",
    "print(f'Linear Regression - Test MSE: {lr_test_mse}')\n",
    "print(f'Linear Regression - Train R2: {lr_train_r2}')\n",
    "print(f'Linear Regression - Test R2: {lr_test_r2}')\n",
    "print(f'Linear Regression - Bias: {lr_bias}')\n",
    "print(f'Linear Regression - Variance: {lr_variance}')"
   ]
  },
  {
   "cell_type": "code",
   "execution_count": 66,
   "metadata": {},
   "outputs": [
    {
     "name": "stdout",
     "output_type": "stream",
     "text": [
      "Random Forest - Train MSE: 322314604.5808526\n",
      "Random Forest - Test MSE: 2763142605.9254904\n",
      "Random Forest - Train R2: 0.9768197742747137\n",
      "Random Forest - Test R2: 0.8253408513834285\n",
      "Random Forest - Bias: 15821189518.13378\n",
      "Random Forest - Variance: 11754319461.66262\n"
     ]
    }
   ],
   "source": [
    "# Random Forest Model\n",
    "rf_regressor = utils.train_random_forest_model(X_train_scaled, y_train, max_depth=50)\n",
    "rf_train_mse, rf_test_mse, rf_train_r2, rf_test_r2 = utils.evaluate_model(rf_regressor, X_train_scaled, X_test_scaled, y_train, y_test)\n",
    "rf_bias, rf_variance = utils.calculate_bias_variance(y_test, rf_regressor.predict(X_test_scaled))\n",
    "\n",
    "    \n",
    "print(f'Random Forest - Train MSE: {rf_train_mse}')\n",
    "print(f'Random Forest - Test MSE: {rf_test_mse}')\n",
    "print(f'Random Forest - Train R2: {rf_train_r2}')\n",
    "print(f'Random Forest - Test R2: {rf_test_r2}')\n",
    "print(f'Random Forest - Bias: {rf_bias}')\n",
    "print(f'Random Forest - Variance: {rf_variance}')"
   ]
  },
  {
   "cell_type": "code",
   "execution_count": 67,
   "metadata": {},
   "outputs": [],
   "source": [
    "#SVM Model\n",
    "#svm_regressor = utils.train_svm_model(X_train, y_train)\n",
    "###svm_regressor = utils.tune_hyperparameters(X_train, y_train, 'svm')\n",
    "#svm_train_mse, svm_test_mse, svm_train_r2, svm_test_r2 = utils.evaluate_model(svm_regressor, X_train, X_test, y_train, y_test)\n",
    "    \n",
    "#print(f'SVM - Train MSE: {svm_train_mse}')\n",
    "#print(f'SVM - Test MSE: {svm_test_mse}')\n",
    "#print(f'SVM - Train R2: {svm_train_r2}')\n",
    "#print(f'SVM - Test R2: {svm_test_r2}')"
   ]
  },
  {
   "cell_type": "code",
   "execution_count": 68,
   "metadata": {},
   "outputs": [
    {
     "name": "stdout",
     "output_type": "stream",
     "text": [
      "KNN - Train MSE: 4247182065.0806713\n",
      "KNN - Test MSE: 6957817444.351467\n",
      "KNN - Train R2: 0.6945511076267057\n",
      "KNN - Test R2: 0.5601940817481187\n",
      "KNN - Bias: 15845108375.606684\n",
      "KNN - Variance: 8286470753.934632\n"
     ]
    }
   ],
   "source": [
    "# KNN Model\n",
    "knn_regressor = utils.tune_hyperparameters(X_train_scaled, y_train, 'knn')\n",
    "knn_train_mse, knn_test_mse, knn_train_r2, knn_test_r2 = utils.evaluate_model(knn_regressor, X_train_scaled, X_test_scaled, y_train, y_test)\n",
    "knn_bias, knn_variance = utils.calculate_bias_variance(y_test, knn_regressor.predict(X_test_scaled))\n",
    "    \n",
    "print(f'KNN - Train MSE: {knn_train_mse}')\n",
    "print(f'KNN - Test MSE: {knn_test_mse}')\n",
    "print(f'KNN - Train R2: {knn_train_r2}')\n",
    "print(f'KNN - Test R2: {knn_test_r2}')\n",
    "print(f'KNN - Bias: {knn_bias}')\n",
    "print(f'KNN - Variance: {knn_variance}')\n"
   ]
  }
 ],
 "metadata": {
  "kernelspec": {
   "display_name": "dev",
   "language": "python",
   "name": "dev"
  },
  "language_info": {
   "codemirror_mode": {
    "name": "ipython",
    "version": 3
   },
   "file_extension": ".py",
   "mimetype": "text/x-python",
   "name": "python",
   "nbconvert_exporter": "python",
   "pygments_lexer": "ipython3",
   "version": "3.11.9"
  }
 },
 "nbformat": 4,
 "nbformat_minor": 4
}
