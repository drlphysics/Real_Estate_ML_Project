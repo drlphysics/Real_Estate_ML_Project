{
 "cells": [
  {
   "cell_type": "code",
   "execution_count": 39,
   "metadata": {},
   "outputs": [
    {
     "data": {
      "text/html": [
       "<div>\n",
       "<style scoped>\n",
       "    .dataframe tbody tr th:only-of-type {\n",
       "        vertical-align: middle;\n",
       "    }\n",
       "\n",
       "    .dataframe tbody tr th {\n",
       "        vertical-align: top;\n",
       "    }\n",
       "\n",
       "    .dataframe thead th {\n",
       "        text-align: right;\n",
       "    }\n",
       "</style>\n",
       "<table border=\"1\" class=\"dataframe\">\n",
       "  <thead>\n",
       "    <tr style=\"text-align: right;\">\n",
       "      <th></th>\n",
       "      <th>Zip</th>\n",
       "      <th>Bedrooms</th>\n",
       "      <th>Total Baths</th>\n",
       "      <th>SqFt</th>\n",
       "      <th>Acres</th>\n",
       "      <th>Year Built</th>\n",
       "      <th>List Price</th>\n",
       "      <th>Sold Price</th>\n",
       "      <th>Days on Market</th>\n",
       "      <th>Over Asking</th>\n",
       "      <th>Lat</th>\n",
       "      <th>Lon</th>\n",
       "      <th>Cluster</th>\n",
       "      <th>Price per SqFt</th>\n",
       "    </tr>\n",
       "  </thead>\n",
       "  <tbody>\n",
       "    <tr>\n",
       "      <th>0</th>\n",
       "      <td>27511</td>\n",
       "      <td>4</td>\n",
       "      <td>4</td>\n",
       "      <td>6115</td>\n",
       "      <td>1</td>\n",
       "      <td>1985</td>\n",
       "      <td>1049900</td>\n",
       "      <td>1275000</td>\n",
       "      <td>35</td>\n",
       "      <td>225100</td>\n",
       "      <td>35.7641</td>\n",
       "      <td>-78.7786</td>\n",
       "      <td>4</td>\n",
       "      <td>208.503679</td>\n",
       "    </tr>\n",
       "    <tr>\n",
       "      <th>1</th>\n",
       "      <td>27517</td>\n",
       "      <td>4</td>\n",
       "      <td>5</td>\n",
       "      <td>4049</td>\n",
       "      <td>1</td>\n",
       "      <td>2004</td>\n",
       "      <td>1090000</td>\n",
       "      <td>1300000</td>\n",
       "      <td>43</td>\n",
       "      <td>210000</td>\n",
       "      <td>35.9182</td>\n",
       "      <td>-79.0035</td>\n",
       "      <td>1</td>\n",
       "      <td>321.066930</td>\n",
       "    </tr>\n",
       "    <tr>\n",
       "      <th>2</th>\n",
       "      <td>27707</td>\n",
       "      <td>3</td>\n",
       "      <td>5</td>\n",
       "      <td>2763</td>\n",
       "      <td>1</td>\n",
       "      <td>2020</td>\n",
       "      <td>575000</td>\n",
       "      <td>729840</td>\n",
       "      <td>440</td>\n",
       "      <td>154840</td>\n",
       "      <td>35.9631</td>\n",
       "      <td>-78.9315</td>\n",
       "      <td>1</td>\n",
       "      <td>264.147666</td>\n",
       "    </tr>\n",
       "    <tr>\n",
       "      <th>3</th>\n",
       "      <td>27511</td>\n",
       "      <td>3</td>\n",
       "      <td>4</td>\n",
       "      <td>3477</td>\n",
       "      <td>1</td>\n",
       "      <td>2004</td>\n",
       "      <td>949900</td>\n",
       "      <td>1100000</td>\n",
       "      <td>16</td>\n",
       "      <td>150100</td>\n",
       "      <td>35.7641</td>\n",
       "      <td>-78.7786</td>\n",
       "      <td>4</td>\n",
       "      <td>316.364682</td>\n",
       "    </tr>\n",
       "    <tr>\n",
       "      <th>4</th>\n",
       "      <td>27517</td>\n",
       "      <td>4</td>\n",
       "      <td>5</td>\n",
       "      <td>4049</td>\n",
       "      <td>1</td>\n",
       "      <td>2004</td>\n",
       "      <td>1350000</td>\n",
       "      <td>1500000</td>\n",
       "      <td>11</td>\n",
       "      <td>150000</td>\n",
       "      <td>35.9182</td>\n",
       "      <td>-79.0035</td>\n",
       "      <td>1</td>\n",
       "      <td>370.461842</td>\n",
       "    </tr>\n",
       "  </tbody>\n",
       "</table>\n",
       "</div>"
      ],
      "text/plain": [
       "     Zip  Bedrooms  Total Baths  SqFt  Acres  Year Built  List Price  \\\n",
       "0  27511         4            4  6115      1        1985     1049900   \n",
       "1  27517         4            5  4049      1        2004     1090000   \n",
       "2  27707         3            5  2763      1        2020      575000   \n",
       "3  27511         3            4  3477      1        2004      949900   \n",
       "4  27517         4            5  4049      1        2004     1350000   \n",
       "\n",
       "   Sold Price  Days on Market  Over Asking      Lat      Lon  Cluster  \\\n",
       "0     1275000              35       225100  35.7641 -78.7786        4   \n",
       "1     1300000              43       210000  35.9182 -79.0035        1   \n",
       "2      729840             440       154840  35.9631 -78.9315        1   \n",
       "3     1100000              16       150100  35.7641 -78.7786        4   \n",
       "4     1500000              11       150000  35.9182 -79.0035        1   \n",
       "\n",
       "   Price per SqFt  \n",
       "0      208.503679  \n",
       "1      321.066930  \n",
       "2      264.147666  \n",
       "3      316.364682  \n",
       "4      370.461842  "
      ]
     },
     "execution_count": 39,
     "metadata": {},
     "output_type": "execute_result"
    }
   ],
   "source": [
    "# Import the Utility Functions\n",
    "import pandas as pd\n",
    "from sklearn.metrics import classification_report\n",
    "import mls_utils as utils\n",
    "\n",
    "df = pd.read_csv(\"Clean_Data/mls_th_cleaned_nostring.csv\")\n",
    "df.head()"
   ]
  },
  {
   "cell_type": "code",
   "execution_count": 40,
   "metadata": {},
   "outputs": [],
   "source": [
    "#Select features and target variables\n",
    "features = ['Total Baths', 'Bedrooms', 'Year Built', 'Acres', 'Zip', 'Lat', 'Lon', 'Days on Market', 'Over Asking', 'SqFt', 'Price per SqFt', 'Cluster'] # Dropping List Price as it is a direct predictor of Sold Price\n",
    "target = 'Sold Price'\n"
   ]
  },
  {
   "cell_type": "code",
   "execution_count": 41,
   "metadata": {},
   "outputs": [],
   "source": [
    "#Call the split_data function to split the data into training and testing sets\n",
    "X_train, X_test, y_train, y_test = utils.split_data(df, features, target)\n",
    "X_train_scaled, X_test_scaled = utils.scale_data(X_train, X_test)"
   ]
  },
  {
   "cell_type": "code",
   "execution_count": 42,
   "metadata": {},
   "outputs": [],
   "source": [
    "# Handle Outliers\n",
    "df = utils.remove_outliers(df, features)"
   ]
  },
  {
   "cell_type": "code",
   "execution_count": 27,
   "metadata": {},
   "outputs": [
    {
     "name": "stdout",
     "output_type": "stream",
     "text": [
      "Decision Tree - Train MSE: 228570.88831546207\n",
      "Decision Tree - Test MSE: 195015147.31539994\n",
      "Decision Tree - Train R2: 0.9999842105774791\n",
      "Decision Tree - Test R2: 0.9870070523672787\n",
      "Decision Tree - Bias: 15009317451.387707\n",
      "Decision Tree - Variance: 14745311073.118114\n"
     ]
    }
   ],
   "source": [
    "#Build a function to call the Regression Tree Functions within the utils file\n",
    "#dt_regressor = utils.train_decision_tree_model(X_train, y_train)\n",
    "dt_regressor = utils.tune_hyperparameters(X_train_scaled, y_train, 'decision_tree')\n",
    "dt_train_mse, dt_test_mse, dt_train_r2, dt_test_r2 = utils.evaluate_model(dt_regressor, X_train_scaled, X_test_scaled, y_train, y_test)\n",
    "dt_bias, dt_variance = utils.calculate_bias_variance(y_test, dt_regressor.predict(X_test_scaled))\n",
    "\n",
    "\n",
    "print(f'Decision Tree - Train MSE: {dt_train_mse}')\n",
    "print(f'Decision Tree - Test MSE: {dt_test_mse}')\n",
    "print(f'Decision Tree - Train R2: {dt_train_r2}')\n",
    "print(f'Decision Tree - Test R2: {dt_test_r2}')\n",
    "print(f'Decision Tree - Bias: {dt_bias}')\n",
    "print(f'Decision Tree - Variance: {dt_variance}')\n",
    "\n",
    "#utils.visualize_tree(dt_regressor, features)"
   ]
  },
  {
   "cell_type": "code",
   "execution_count": 28,
   "metadata": {},
   "outputs": [
    {
     "name": "stdout",
     "output_type": "stream",
     "text": [
      "Linear Regression - Train MSE: 6296861210.540522\n",
      "Linear Regression - Test MSE: 7387203279.233024\n",
      "Linear Regression - Train R2: 0.565019837208625\n",
      "Linear Regression - Test R2: 0.5078251782969974\n",
      "Linear Regression - Bias: 15009677017.28667\n",
      "Linear Regression - Variance: 8447130830.247521\n"
     ]
    }
   ],
   "source": [
    "# Linear Regression Model\n",
    "lr_regressor = utils.train_linear_regression_model(X_train_scaled, y_train, alpha=1.0)\n",
    "lr_train_mse, lr_test_mse, lr_train_r2, lr_test_r2 = utils.evaluate_model(lr_regressor, X_train_scaled, X_test_scaled, y_train, y_test)\n",
    "lr_bias, lr_variance = utils.calculate_bias_variance(y_test, lr_regressor.predict(X_test_scaled))\n",
    "\n",
    "    \n",
    "print(f'Linear Regression - Train MSE: {lr_train_mse}')\n",
    "print(f'Linear Regression - Test MSE: {lr_test_mse}')\n",
    "print(f'Linear Regression - Train R2: {lr_train_r2}')\n",
    "print(f'Linear Regression - Test R2: {lr_test_r2}')\n",
    "print(f'Linear Regression - Bias: {lr_bias}')\n",
    "print(f'Linear Regression - Variance: {lr_variance}')"
   ]
  },
  {
   "cell_type": "code",
   "execution_count": 29,
   "metadata": {},
   "outputs": [
    {
     "name": "stdout",
     "output_type": "stream",
     "text": [
      "Random Forest - Train MSE: 13279505.479563836\n",
      "Random Forest - Test MSE: 97249057.38211256\n",
      "Random Forest - Train R2: 0.9990826665441473\n",
      "Random Forest - Test R2: 0.9935207499146016\n",
      "Random Forest - Bias: 15009322051.483961\n",
      "Random Forest - Variance: 14457466298.857298\n"
     ]
    }
   ],
   "source": [
    "# Random Forest Model\n",
    "rf_regressor = utils.train_random_forest_model(X_train_scaled, y_train, max_depth=50)\n",
    "rf_train_mse, rf_test_mse, rf_train_r2, rf_test_r2 = utils.evaluate_model(rf_regressor, X_train_scaled, X_test_scaled, y_train, y_test)\n",
    "rf_bias, rf_variance = utils.calculate_bias_variance(y_test, rf_regressor.predict(X_test_scaled))\n",
    "\n",
    "    \n",
    "print(f'Random Forest - Train MSE: {rf_train_mse}')\n",
    "print(f'Random Forest - Test MSE: {rf_test_mse}')\n",
    "print(f'Random Forest - Train R2: {rf_train_r2}')\n",
    "print(f'Random Forest - Test R2: {rf_test_r2}')\n",
    "print(f'Random Forest - Bias: {rf_bias}')\n",
    "print(f'Random Forest - Variance: {rf_variance}')"
   ]
  },
  {
   "cell_type": "code",
   "execution_count": 30,
   "metadata": {},
   "outputs": [],
   "source": [
    "#SVM Model\n",
    "#svm_regressor = utils.train_svm_model(X_train, y_train)\n",
    "###svm_regressor = utils.tune_hyperparameters(X_train, y_train, 'svm')\n",
    "#svm_train_mse, svm_test_mse, svm_train_r2, svm_test_r2 = utils.evaluate_model(svm_regressor, X_train, X_test, y_train, y_test)\n",
    "    \n",
    "#print(f'SVM - Train MSE: {svm_train_mse}')\n",
    "#print(f'SVM - Test MSE: {svm_test_mse}')\n",
    "#print(f'SVM - Train R2: {svm_train_r2}')\n",
    "#print(f'SVM - Test R2: {svm_test_r2}')"
   ]
  },
  {
   "cell_type": "code",
   "execution_count": 31,
   "metadata": {},
   "outputs": [
    {
     "name": "stdout",
     "output_type": "stream",
     "text": [
      "KNN - Train MSE: 2953041859.952322\n",
      "KNN - Test MSE: 5036650525.976702\n",
      "KNN - Train R2: 0.7960071556251527\n",
      "KNN - Test R2: 0.664431520170609\n",
      "KNN - Bias: 15018371335.85957\n",
      "KNN - Variance: 9696013652.141308\n"
     ]
    }
   ],
   "source": [
    "# KNN Model\n",
    "knn_regressor = utils.tune_hyperparameters(X_train_scaled, y_train, 'knn')\n",
    "knn_train_mse, knn_test_mse, knn_train_r2, knn_test_r2 = utils.evaluate_model(knn_regressor, X_train_scaled, X_test_scaled, y_train, y_test)\n",
    "knn_bias, knn_variance = utils.calculate_bias_variance(y_test, knn_regressor.predict(X_test_scaled))\n",
    "    \n",
    "print(f'KNN - Train MSE: {knn_train_mse}')\n",
    "print(f'KNN - Test MSE: {knn_test_mse}')\n",
    "print(f'KNN - Train R2: {knn_train_r2}')\n",
    "print(f'KNN - Test R2: {knn_test_r2}')\n",
    "print(f'KNN - Bias: {knn_bias}')\n",
    "print(f'KNN - Variance: {knn_variance}')\n"
   ]
  }
 ],
 "metadata": {
  "kernelspec": {
   "display_name": "dev",
   "language": "python",
   "name": "dev"
  },
  "language_info": {
   "codemirror_mode": {
    "name": "ipython",
    "version": 3
   },
   "file_extension": ".py",
   "mimetype": "text/x-python",
   "name": "python",
   "nbconvert_exporter": "python",
   "pygments_lexer": "ipython3",
   "version": "3.11.9"
  }
 },
 "nbformat": 4,
 "nbformat_minor": 4
}
