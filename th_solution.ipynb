{
 "cells": [
  {
   "cell_type": "code",
   "execution_count": 2,
   "metadata": {},
   "outputs": [
    {
     "name": "stderr",
     "output_type": "stream",
     "text": [
      "/opt/anaconda3/envs/dev/lib/python3.10/site-packages/matplotlib/projections/__init__.py:63: UserWarning: Unable to import Axes3D. This may be due to multiple versions of Matplotlib being installed (e.g. as a system package and as a pip package). As a result, the 3D projection is not available.\n",
      "  warnings.warn(\"Unable to import Axes3D. This may be due to multiple versions of \"\n"
     ]
    },
    {
     "data": {
      "text/html": [
       "<div>\n",
       "<style scoped>\n",
       "    .dataframe tbody tr th:only-of-type {\n",
       "        vertical-align: middle;\n",
       "    }\n",
       "\n",
       "    .dataframe tbody tr th {\n",
       "        vertical-align: top;\n",
       "    }\n",
       "\n",
       "    .dataframe thead th {\n",
       "        text-align: right;\n",
       "    }\n",
       "</style>\n",
       "<table border=\"1\" class=\"dataframe\">\n",
       "  <thead>\n",
       "    <tr style=\"text-align: right;\">\n",
       "      <th></th>\n",
       "      <th>MLS #</th>\n",
       "      <th>City</th>\n",
       "      <th>Zip</th>\n",
       "      <th>Bedrooms</th>\n",
       "      <th>Total Baths</th>\n",
       "      <th>SqFt</th>\n",
       "      <th>Acres</th>\n",
       "      <th>Year Built</th>\n",
       "      <th>List Date</th>\n",
       "      <th>Closing Date</th>\n",
       "      <th>List Price</th>\n",
       "      <th>Sold Price</th>\n",
       "      <th>Days on Market</th>\n",
       "      <th>Over Asking</th>\n",
       "      <th>Lat</th>\n",
       "      <th>Lon</th>\n",
       "      <th>Cluster</th>\n",
       "      <th>Price per SqFt</th>\n",
       "    </tr>\n",
       "  </thead>\n",
       "  <tbody>\n",
       "    <tr>\n",
       "      <th>0</th>\n",
       "      <td>2509707</td>\n",
       "      <td>Cary</td>\n",
       "      <td>27511</td>\n",
       "      <td>4</td>\n",
       "      <td>4</td>\n",
       "      <td>6115</td>\n",
       "      <td>1</td>\n",
       "      <td>1985</td>\n",
       "      <td>2023-05-08</td>\n",
       "      <td>2023-06-12</td>\n",
       "      <td>1049900</td>\n",
       "      <td>1275000</td>\n",
       "      <td>35</td>\n",
       "      <td>225100</td>\n",
       "      <td>35.7641</td>\n",
       "      <td>-78.7786</td>\n",
       "      <td>2</td>\n",
       "      <td>208.503679</td>\n",
       "    </tr>\n",
       "    <tr>\n",
       "      <th>1</th>\n",
       "      <td>2444544</td>\n",
       "      <td>Chapel Hill</td>\n",
       "      <td>27517</td>\n",
       "      <td>4</td>\n",
       "      <td>5</td>\n",
       "      <td>4049</td>\n",
       "      <td>1</td>\n",
       "      <td>2004</td>\n",
       "      <td>2022-04-25</td>\n",
       "      <td>2022-06-07</td>\n",
       "      <td>1090000</td>\n",
       "      <td>1300000</td>\n",
       "      <td>43</td>\n",
       "      <td>210000</td>\n",
       "      <td>35.9182</td>\n",
       "      <td>-79.0035</td>\n",
       "      <td>3</td>\n",
       "      <td>321.066930</td>\n",
       "    </tr>\n",
       "    <tr>\n",
       "      <th>2</th>\n",
       "      <td>2320632</td>\n",
       "      <td>Durham</td>\n",
       "      <td>27707</td>\n",
       "      <td>3</td>\n",
       "      <td>5</td>\n",
       "      <td>2763</td>\n",
       "      <td>1</td>\n",
       "      <td>2020</td>\n",
       "      <td>2020-05-22</td>\n",
       "      <td>2021-08-05</td>\n",
       "      <td>575000</td>\n",
       "      <td>729840</td>\n",
       "      <td>440</td>\n",
       "      <td>154840</td>\n",
       "      <td>35.9631</td>\n",
       "      <td>-78.9315</td>\n",
       "      <td>3</td>\n",
       "      <td>264.147666</td>\n",
       "    </tr>\n",
       "    <tr>\n",
       "      <th>3</th>\n",
       "      <td>2428221</td>\n",
       "      <td>Cary</td>\n",
       "      <td>27511</td>\n",
       "      <td>3</td>\n",
       "      <td>4</td>\n",
       "      <td>3477</td>\n",
       "      <td>1</td>\n",
       "      <td>2004</td>\n",
       "      <td>2022-01-24</td>\n",
       "      <td>2022-02-09</td>\n",
       "      <td>949900</td>\n",
       "      <td>1100000</td>\n",
       "      <td>16</td>\n",
       "      <td>150100</td>\n",
       "      <td>35.7641</td>\n",
       "      <td>-78.7786</td>\n",
       "      <td>2</td>\n",
       "      <td>316.364682</td>\n",
       "    </tr>\n",
       "    <tr>\n",
       "      <th>4</th>\n",
       "      <td>10018970</td>\n",
       "      <td>Chapel Hill</td>\n",
       "      <td>27517</td>\n",
       "      <td>4</td>\n",
       "      <td>5</td>\n",
       "      <td>4049</td>\n",
       "      <td>1</td>\n",
       "      <td>2004</td>\n",
       "      <td>2024-04-06</td>\n",
       "      <td>2024-04-17</td>\n",
       "      <td>1350000</td>\n",
       "      <td>1500000</td>\n",
       "      <td>11</td>\n",
       "      <td>150000</td>\n",
       "      <td>35.9182</td>\n",
       "      <td>-79.0035</td>\n",
       "      <td>3</td>\n",
       "      <td>370.461842</td>\n",
       "    </tr>\n",
       "  </tbody>\n",
       "</table>\n",
       "</div>"
      ],
      "text/plain": [
       "      MLS #         City    Zip  Bedrooms  Total Baths  SqFt  Acres  \\\n",
       "0   2509707         Cary  27511         4            4  6115      1   \n",
       "1   2444544  Chapel Hill  27517         4            5  4049      1   \n",
       "2   2320632       Durham  27707         3            5  2763      1   \n",
       "3   2428221         Cary  27511         3            4  3477      1   \n",
       "4  10018970  Chapel Hill  27517         4            5  4049      1   \n",
       "\n",
       "   Year Built   List Date Closing Date  List Price  Sold Price  \\\n",
       "0        1985  2023-05-08   2023-06-12     1049900     1275000   \n",
       "1        2004  2022-04-25   2022-06-07     1090000     1300000   \n",
       "2        2020  2020-05-22   2021-08-05      575000      729840   \n",
       "3        2004  2022-01-24   2022-02-09      949900     1100000   \n",
       "4        2004  2024-04-06   2024-04-17     1350000     1500000   \n",
       "\n",
       "   Days on Market  Over Asking      Lat      Lon  Cluster  Price per SqFt  \n",
       "0              35       225100  35.7641 -78.7786        2      208.503679  \n",
       "1              43       210000  35.9182 -79.0035        3      321.066930  \n",
       "2             440       154840  35.9631 -78.9315        3      264.147666  \n",
       "3              16       150100  35.7641 -78.7786        2      316.364682  \n",
       "4              11       150000  35.9182 -79.0035        3      370.461842  "
      ]
     },
     "execution_count": 2,
     "metadata": {},
     "output_type": "execute_result"
    }
   ],
   "source": [
    "# Import the Utility Functions\n",
    "import pandas as pd\n",
    "import numpy as np\n",
    "import mls_utils as utils\n",
    "\n",
    "df = pd.read_csv(\"Clean_Data/mls_th_cleaned.csv\")\n",
    "df.head()"
   ]
  },
  {
   "cell_type": "code",
   "execution_count": 3,
   "metadata": {},
   "outputs": [],
   "source": [
    "#Select features and target variables\n",
    "features = ['Total Baths', 'Bedrooms', 'Year Built', 'Acres', 'Zip', 'Lat', 'Lon', 'Days on Market', 'Over Asking', 'SqFt', 'Cluster'] # Dropping List Price as it is a direct predictor of Sold Price\n",
    "target = 'Sold Price'"
   ]
  },
  {
   "cell_type": "code",
   "execution_count": 4,
   "metadata": {},
   "outputs": [],
   "source": [
    "# Split the data\n",
    "X_train, X_test, y_train, y_test = utils.split_data(df, features, target)\n",
    "\n",
    "# Scale the data\n",
    "X_train_scaled, X_test_scaled = utils.scale_data(X_train, X_test)"
   ]
  },
  {
   "cell_type": "code",
   "execution_count": 5,
   "metadata": {},
   "outputs": [],
   "source": [
    "# Feature selection\n",
    "selected_features = utils.select_features(X_train_scaled, y_train)\n",
    "X_train_selected = X_train_scaled[:, selected_features]\n",
    "X_test_selected = X_test_scaled[:, selected_features]"
   ]
  },
  {
   "cell_type": "code",
   "execution_count": 6,
   "metadata": {},
   "outputs": [
    {
     "name": "stdout",
     "output_type": "stream",
     "text": [
      "Ridge Regression - Train MSE: 6042253787.309913\n",
      "Ridge Regression - Test MSE: 7040002937.247601\n",
      "Ridge Regression - Train R2: 0.555535786576741\n",
      "Ridge Regression - Test R2: 0.561488204594756\n"
     ]
    }
   ],
   "source": [
    "# Ridge Regression\n",
    "ridge_model = utils.tune_hyperparameters(X_train_selected, y_train, 'ridge')\n",
    "ridge_train_mse, ridge_test_mse, ridge_train_r2, ridge_test_r2 = utils.evaluate_model(ridge_model, X_train_selected, X_test_selected, y_train, y_test)\n",
    "\n",
    "print(f'Ridge Regression - Train MSE: {ridge_train_mse}')\n",
    "print(f'Ridge Regression - Test MSE: {ridge_test_mse}')\n",
    "print(f'Ridge Regression - Train R2: {ridge_train_r2}')\n",
    "print(f'Ridge Regression - Test R2: {ridge_test_r2}')"
   ]
  },
  {
   "cell_type": "code",
   "execution_count": 7,
   "metadata": {},
   "outputs": [
    {
     "name": "stdout",
     "output_type": "stream",
     "text": [
      "Lasso Regression - Train MSE: 6042247121.307258\n",
      "Lasso Regression - Test MSE: 7038769257.121755\n",
      "Lasso Regression - Train R2: 0.5555362769235107\n",
      "Lasso Regression - Test R2: 0.5615650487795899\n"
     ]
    }
   ],
   "source": [
    "# Lasso Regression\n",
    "lasso_model = utils.tune_hyperparameters(X_train_selected, y_train, 'lasso')\n",
    "lasso_train_mse, lasso_test_mse, lasso_train_r2, lasso_test_r2 = utils.evaluate_model(lasso_model, X_train_selected, X_test_selected, y_train, y_test)\n",
    "\n",
    "print(f'Lasso Regression - Train MSE: {lasso_train_mse}')\n",
    "print(f'Lasso Regression - Test MSE: {lasso_test_mse}')\n",
    "print(f'Lasso Regression - Train R2: {lasso_train_r2}')\n",
    "print(f'Lasso Regression - Test R2: {lasso_test_r2}')\n"
   ]
  },
  {
   "cell_type": "code",
   "execution_count": 8,
   "metadata": {},
   "outputs": [
    {
     "name": "stdout",
     "output_type": "stream",
     "text": [
      "Decision Tree Regressor - Train MSE: 2121750318.043451\n",
      "Decision Tree Regressor - Test MSE: 5248793314.674984\n",
      "Decision Tree Regressor - Train R2: 0.8439254424945983\n",
      "Decision Tree Regressor - Test R2: 0.673060110820204\n"
     ]
    }
   ],
   "source": [
    "# Decision Tree Regressor\n",
    "dt_model = utils.tune_hyperparameters(X_train_selected, y_train, 'decision_tree')\n",
    "dt_train_mse, dt_test_mse, dt_train_r2, dt_test_r2 = utils.evaluate_model(dt_model, X_train_selected, X_test_selected, y_train, y_test)\n",
    "\n",
    "print(f'Decision Tree Regressor - Train MSE: {dt_train_mse}')\n",
    "print(f'Decision Tree Regressor - Test MSE: {dt_test_mse}')\n",
    "print(f'Decision Tree Regressor - Train R2: {dt_train_r2}')\n",
    "print(f'Decision Tree Regressor - Test R2: {dt_test_r2}')"
   ]
  },
  {
   "cell_type": "code",
   "execution_count": 9,
   "metadata": {},
   "outputs": [
    {
     "name": "stdout",
     "output_type": "stream",
     "text": [
      "Random Forest Regressor - Train MSE: 514583274.4974304, Test MSE: 3196191776.1215253\n",
      "Random Forest Regressor - Train R2: 0.9621475928699625, Test R2: 0.8009137486589615\n"
     ]
    }
   ],
   "source": [
    "# Random Forest Regressor\n",
    "rf_model = utils.tune_hyperparameters(X_train_selected, y_train, 'random_forest')\n",
    "rf_train_mse, rf_test_mse, rf_train_r2, rf_test_r2 = utils.evaluate_model(rf_model, X_train_selected, X_test_selected, y_train, y_test)\n",
    "\n",
    "print(f'Random Forest Regressor - Train MSE: {rf_train_mse}, Test MSE: {rf_test_mse}')\n",
    "print(f'Random Forest Regressor - Train R2: {rf_train_r2}, Test R2: {rf_test_r2}')"
   ]
  },
  {
   "cell_type": "code",
   "execution_count": 10,
   "metadata": {},
   "outputs": [
    {
     "name": "stdout",
     "output_type": "stream",
     "text": [
      "Support Vector Regressor - Train MSE: 13017762266.093433, Test MSE: 15531431174.066692\n",
      "Support Vector Regressor - Train R2: 0.04242197203269593, Test R2: 0.03256918639643114\n"
     ]
    }
   ],
   "source": [
    "# Support Vector Regressor\n",
    "svr_model = utils.tune_hyperparameters(X_train_selected, y_train, 'svm')\n",
    "svr_train_mse, svr_test_mse, svr_train_r2, svr_test_r2 = utils.evaluate_model(svr_model, X_train_selected, X_test_selected, y_train, y_test)\n",
    "\n",
    "print(f'Support Vector Regressor - Train MSE: {svr_train_mse}, Test MSE: {svr_test_mse}')\n",
    "print(f'Support Vector Regressor - Train R2: {svr_train_r2}, Test R2: {svr_test_r2}')\n",
    "\n"
   ]
  },
  {
   "cell_type": "code",
   "execution_count": 11,
   "metadata": {},
   "outputs": [
    {
     "name": "stdout",
     "output_type": "stream",
     "text": [
      "K-Nearest Neighbors Regressor - Train MSE: 2571343265.619352, Test MSE: 4547255128.135616\n",
      "K-Nearest Neighbors Regressor - Train R2: 0.8108536810560684, Test R2: 0.7167579291971081\n"
     ]
    }
   ],
   "source": [
    "# K-Nearest Neighbors Regressor\n",
    "knn_model = utils.tune_hyperparameters(X_train_selected, y_train, 'knn')\n",
    "knn_train_mse, knn_test_mse, knn_train_r2, knn_test_r2 = utils.evaluate_model(knn_model, X_train_selected, X_test_selected, y_train, y_test)\n",
    "\n",
    "print(f'K-Nearest Neighbors Regressor - Train MSE: {knn_train_mse}, Test MSE: {knn_test_mse}')\n",
    "print(f'K-Nearest Neighbors Regressor - Train R2: {knn_train_r2}, Test R2: {knn_test_r2}')\n"
   ]
  }
 ],
 "metadata": {
  "kernelspec": {
   "display_name": "dev",
   "language": "python",
   "name": "python3"
  },
  "language_info": {
   "codemirror_mode": {
    "name": "ipython",
    "version": 3
   },
   "file_extension": ".py",
   "mimetype": "text/x-python",
   "name": "python",
   "nbconvert_exporter": "python",
   "pygments_lexer": "ipython3",
   "version": "3.10.13"
  }
 },
 "nbformat": 4,
 "nbformat_minor": 4
}
