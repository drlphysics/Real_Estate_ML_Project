{
 "cells": [
  {
   "cell_type": "code",
   "execution_count": 1,
   "metadata": {},
   "outputs": [
    {
     "data": {
      "text/html": [
       "<div>\n",
       "<style scoped>\n",
       "    .dataframe tbody tr th:only-of-type {\n",
       "        vertical-align: middle;\n",
       "    }\n",
       "\n",
       "    .dataframe tbody tr th {\n",
       "        vertical-align: top;\n",
       "    }\n",
       "\n",
       "    .dataframe thead th {\n",
       "        text-align: right;\n",
       "    }\n",
       "</style>\n",
       "<table border=\"1\" class=\"dataframe\">\n",
       "  <thead>\n",
       "    <tr style=\"text-align: right;\">\n",
       "      <th></th>\n",
       "      <th>Mortgage Rates</th>\n",
       "      <th>Zip</th>\n",
       "      <th>Bedrooms</th>\n",
       "      <th>Total Baths</th>\n",
       "      <th>SqFt</th>\n",
       "      <th>Acres</th>\n",
       "      <th>Year Built</th>\n",
       "      <th>List Date</th>\n",
       "      <th>Closing Date</th>\n",
       "      <th>List Price</th>\n",
       "      <th>...</th>\n",
       "      <th>Lon</th>\n",
       "      <th>Cluster</th>\n",
       "      <th>List Year</th>\n",
       "      <th>List Month</th>\n",
       "      <th>Closing Year</th>\n",
       "      <th>Closing Month</th>\n",
       "      <th>Price Increase Percentage</th>\n",
       "      <th>Age of Property</th>\n",
       "      <th>Geo Cluster</th>\n",
       "      <th>Log Sold Price</th>\n",
       "    </tr>\n",
       "  </thead>\n",
       "  <tbody>\n",
       "    <tr>\n",
       "      <th>0</th>\n",
       "      <td>2.65</td>\n",
       "      <td>27244</td>\n",
       "      <td>3</td>\n",
       "      <td>2</td>\n",
       "      <td>-0.092284</td>\n",
       "      <td>-0.110336</td>\n",
       "      <td>1986</td>\n",
       "      <td>2020-12-17</td>\n",
       "      <td>2021-01-07</td>\n",
       "      <td>-0.833182</td>\n",
       "      <td>...</td>\n",
       "      <td>-79.5067</td>\n",
       "      <td>0</td>\n",
       "      <td>2020</td>\n",
       "      <td>12</td>\n",
       "      <td>2021</td>\n",
       "      <td>1</td>\n",
       "      <td>1.485208</td>\n",
       "      <td>0.257652</td>\n",
       "      <td>3</td>\n",
       "      <td>12.193499</td>\n",
       "    </tr>\n",
       "    <tr>\n",
       "      <th>1</th>\n",
       "      <td>2.65</td>\n",
       "      <td>27601</td>\n",
       "      <td>2</td>\n",
       "      <td>2</td>\n",
       "      <td>0.130379</td>\n",
       "      <td>-0.110336</td>\n",
       "      <td>2018</td>\n",
       "      <td>2018-07-09</td>\n",
       "      <td>2021-01-08</td>\n",
       "      <td>1.909754</td>\n",
       "      <td>...</td>\n",
       "      <td>-78.6324</td>\n",
       "      <td>1</td>\n",
       "      <td>2018</td>\n",
       "      <td>7</td>\n",
       "      <td>2021</td>\n",
       "      <td>1</td>\n",
       "      <td>0.162524</td>\n",
       "      <td>-1.240238</td>\n",
       "      <td>0</td>\n",
       "      <td>13.283977</td>\n",
       "    </tr>\n",
       "    <tr>\n",
       "      <th>2</th>\n",
       "      <td>2.65</td>\n",
       "      <td>27601</td>\n",
       "      <td>2</td>\n",
       "      <td>2</td>\n",
       "      <td>0.130379</td>\n",
       "      <td>-0.110336</td>\n",
       "      <td>2018</td>\n",
       "      <td>2018-02-01</td>\n",
       "      <td>2021-01-08</td>\n",
       "      <td>1.628872</td>\n",
       "      <td>...</td>\n",
       "      <td>-78.6324</td>\n",
       "      <td>1</td>\n",
       "      <td>2018</td>\n",
       "      <td>2</td>\n",
       "      <td>2021</td>\n",
       "      <td>1</td>\n",
       "      <td>0.071551</td>\n",
       "      <td>-1.240238</td>\n",
       "      <td>0</td>\n",
       "      <td>13.205871</td>\n",
       "    </tr>\n",
       "    <tr>\n",
       "      <th>3</th>\n",
       "      <td>2.65</td>\n",
       "      <td>27511</td>\n",
       "      <td>2</td>\n",
       "      <td>2</td>\n",
       "      <td>1.125817</td>\n",
       "      <td>-0.110336</td>\n",
       "      <td>2019</td>\n",
       "      <td>2018-02-25</td>\n",
       "      <td>2021-01-05</td>\n",
       "      <td>1.039366</td>\n",
       "      <td>...</td>\n",
       "      <td>-78.7786</td>\n",
       "      <td>1</td>\n",
       "      <td>2018</td>\n",
       "      <td>2</td>\n",
       "      <td>2021</td>\n",
       "      <td>1</td>\n",
       "      <td>0.021896</td>\n",
       "      <td>-1.287047</td>\n",
       "      <td>0</td>\n",
       "      <td>13.030040</td>\n",
       "    </tr>\n",
       "    <tr>\n",
       "      <th>4</th>\n",
       "      <td>2.65</td>\n",
       "      <td>27609</td>\n",
       "      <td>2</td>\n",
       "      <td>2</td>\n",
       "      <td>-0.679069</td>\n",
       "      <td>-0.110336</td>\n",
       "      <td>1972</td>\n",
       "      <td>2020-12-02</td>\n",
       "      <td>2021-01-07</td>\n",
       "      <td>-1.249304</td>\n",
       "      <td>...</td>\n",
       "      <td>-78.6317</td>\n",
       "      <td>3</td>\n",
       "      <td>2020</td>\n",
       "      <td>12</td>\n",
       "      <td>2021</td>\n",
       "      <td>1</td>\n",
       "      <td>0.547584</td>\n",
       "      <td>0.912979</td>\n",
       "      <td>4</td>\n",
       "      <td>11.737676</td>\n",
       "    </tr>\n",
       "  </tbody>\n",
       "</table>\n",
       "<p>5 rows × 24 columns</p>\n",
       "</div>"
      ],
      "text/plain": [
       "   Mortgage Rates    Zip  Bedrooms  Total Baths      SqFt     Acres  \\\n",
       "0            2.65  27244         3            2 -0.092284 -0.110336   \n",
       "1            2.65  27601         2            2  0.130379 -0.110336   \n",
       "2            2.65  27601         2            2  0.130379 -0.110336   \n",
       "3            2.65  27511         2            2  1.125817 -0.110336   \n",
       "4            2.65  27609         2            2 -0.679069 -0.110336   \n",
       "\n",
       "   Year Built   List Date Closing Date  List Price  ...      Lon  Cluster  \\\n",
       "0        1986  2020-12-17   2021-01-07   -0.833182  ... -79.5067        0   \n",
       "1        2018  2018-07-09   2021-01-08    1.909754  ... -78.6324        1   \n",
       "2        2018  2018-02-01   2021-01-08    1.628872  ... -78.6324        1   \n",
       "3        2019  2018-02-25   2021-01-05    1.039366  ... -78.7786        1   \n",
       "4        1972  2020-12-02   2021-01-07   -1.249304  ... -78.6317        3   \n",
       "\n",
       "   List Year  List Month  Closing Year  Closing Month  \\\n",
       "0       2020          12          2021              1   \n",
       "1       2018           7          2021              1   \n",
       "2       2018           2          2021              1   \n",
       "3       2018           2          2021              1   \n",
       "4       2020          12          2021              1   \n",
       "\n",
       "   Price Increase Percentage  Age of Property  Geo Cluster  Log Sold Price  \n",
       "0                   1.485208         0.257652            3       12.193499  \n",
       "1                   0.162524        -1.240238            0       13.283977  \n",
       "2                   0.071551        -1.240238            0       13.205871  \n",
       "3                   0.021896        -1.287047            0       13.030040  \n",
       "4                   0.547584         0.912979            4       11.737676  \n",
       "\n",
       "[5 rows x 24 columns]"
      ]
     },
     "execution_count": 1,
     "metadata": {},
     "output_type": "execute_result"
    }
   ],
   "source": [
    "# Import the Utility Functions\n",
    "import pandas as pd\n",
    "import numpy as np\n",
    "import mls_utils as utils\n",
    "import matplotlib.pyplot as plt\n",
    "\n",
    "\n",
    "df = pd.read_csv(\"Clean_Data/mls_condo_cleaned_3.csv\")\n",
    "df.head()"
   ]
  },
  {
   "cell_type": "code",
   "execution_count": 2,
   "metadata": {},
   "outputs": [],
   "source": [
    "#Covert the Nan values in Log Sold Price to 0\n",
    "df['Log Sold Price'] = df['Log Sold Price'].fillna(0)"
   ]
  },
  {
   "cell_type": "code",
   "execution_count": 4,
   "metadata": {},
   "outputs": [],
   "source": [
    "#Select features and target variables\n",
    "features = ['Mortgage Rates', 'Bedrooms', 'Total Baths', 'SqFt', 'Acres', 'Year Built', 'Days on Market', 'Over Asking', 'Lat', 'List Year', 'Closing Year',\n",
    "       'Closing Month', 'Price Increase Percentage', 'Geo Cluster'] \n",
    "target = 'Sold Price'"
   ]
  },
  {
   "cell_type": "code",
   "execution_count": 5,
   "metadata": {},
   "outputs": [],
   "source": [
    "# Split the data\n",
    "X_train, X_test, y_train, y_test = utils.split_data(df, features, target)\n",
    "\n",
    "# Scale the data\n",
    "X_train_scaled, X_test_scaled = utils.scale_data(X_train, X_test)"
   ]
  },
  {
   "cell_type": "code",
   "execution_count": 6,
   "metadata": {},
   "outputs": [],
   "source": [
    "# Feature selection\n",
    "selected_features = utils.select_features(X_train_scaled, y_train)\n",
    "X_train_selected = X_train_scaled[:, selected_features]\n",
    "X_test_selected = X_test_scaled[:, selected_features]"
   ]
  },
  {
   "cell_type": "code",
   "execution_count": 7,
   "metadata": {},
   "outputs": [
    {
     "name": "stdout",
     "output_type": "stream",
     "text": [
      "Ridge Regression - Train MSE: 8847703989.124115\n",
      "Ridge Regression - Test MSE: 8883312905.283268\n",
      "Ridge Regression - Train R2: 0.5712120742345141\n",
      "Ridge Regression - Test R2: 0.546495311923193\n"
     ]
    }
   ],
   "source": [
    "# Ridge Regression\n",
    "ridge_model = utils.tune_hyperparameters(X_train_selected, y_train, 'ridge')\n",
    "ridge_train_mse, ridge_test_mse, ridge_train_r2, ridge_test_r2 = utils.evaluate_model(ridge_model, X_train_selected, X_test_selected, y_train, y_test)\n",
    "\n",
    "print(f'Ridge Regression - Train MSE: {ridge_train_mse}')\n",
    "print(f'Ridge Regression - Test MSE: {ridge_test_mse}')\n",
    "print(f'Ridge Regression - Train R2: {ridge_train_r2}')\n",
    "print(f'Ridge Regression - Test R2: {ridge_test_r2}')"
   ]
  },
  {
   "cell_type": "code",
   "execution_count": 8,
   "metadata": {},
   "outputs": [
    {
     "name": "stdout",
     "output_type": "stream",
     "text": [
      "Lasso Regression - Train MSE: 8847695469.915285\n",
      "Lasso Regression - Test MSE: 8882808174.182005\n",
      "Lasso Regression - Train R2: 0.5712124871025179\n",
      "Lasso Regression - Test R2: 0.5465210791029695\n"
     ]
    }
   ],
   "source": [
    "# Lasso Regression\n",
    "lasso_model = utils.tune_hyperparameters(X_train_selected, y_train, 'lasso')\n",
    "lasso_train_mse, lasso_test_mse, lasso_train_r2, lasso_test_r2 = utils.evaluate_model(lasso_model, X_train_selected, X_test_selected, y_train, y_test)\n",
    "\n",
    "print(f'Lasso Regression - Train MSE: {lasso_train_mse}')\n",
    "print(f'Lasso Regression - Test MSE: {lasso_test_mse}')\n",
    "print(f'Lasso Regression - Train R2: {lasso_train_r2}')\n",
    "print(f'Lasso Regression - Test R2: {lasso_test_r2}')\n"
   ]
  },
  {
   "cell_type": "code",
   "execution_count": 9,
   "metadata": {},
   "outputs": [
    {
     "name": "stdout",
     "output_type": "stream",
     "text": [
      "Decision Tree Regressor - Train MSE: 845284028.98462\n",
      "Decision Tree Regressor - Test MSE: 5167862287.913009\n",
      "Decision Tree Regressor - Train R2: 0.9590348427211692\n",
      "Decision Tree Regressor - Test R2: 0.7361739026990686\n"
     ]
    }
   ],
   "source": [
    "# Decision Tree Regressor\n",
    "dt_model = utils.tune_hyperparameters(X_train_selected, y_train, 'decision_tree')\n",
    "dt_train_mse, dt_test_mse, dt_train_r2, dt_test_r2 = utils.evaluate_model(dt_model, X_train_selected, X_test_selected, y_train, y_test)\n",
    "\n",
    "print(f'Decision Tree Regressor - Train MSE: {dt_train_mse}')\n",
    "print(f'Decision Tree Regressor - Test MSE: {dt_test_mse}')\n",
    "print(f'Decision Tree Regressor - Train R2: {dt_train_r2}')\n",
    "print(f'Decision Tree Regressor - Test R2: {dt_test_r2}')"
   ]
  },
  {
   "cell_type": "code",
   "execution_count": 10,
   "metadata": {},
   "outputs": [
    {
     "name": "stdout",
     "output_type": "stream",
     "text": [
      "Random Forest Regressor - Train MSE: 336099420.82679\n",
      "Random Forest Regressor - Test MSE: 2220961385.8325725\n",
      "Random Forest Regressor - Train R2: 0.9837115511906307\n",
      "Random Forest Regressor - Test R2: 0.8866170300143766\n"
     ]
    }
   ],
   "source": [
    "# Random Forest Regressor\n",
    "rf_model = utils.tune_hyperparameters(X_train_selected, y_train, 'random_forest')\n",
    "rf_train_mse, rf_test_mse, rf_train_r2, rf_test_r2 = utils.evaluate_model(rf_model, X_train_selected, X_test_selected, y_train, y_test)\n",
    "\n",
    "print(f'Random Forest Regressor - Train MSE: {rf_train_mse}')\n",
    "print(f'Random Forest Regressor - Test MSE: {rf_test_mse}')\n",
    "print(f'Random Forest Regressor - Train R2: {rf_train_r2}')\n",
    "print(f'Random Forest Regressor - Test R2: {rf_test_r2}')"
   ]
  },
  {
   "cell_type": "code",
   "execution_count": 11,
   "metadata": {},
   "outputs": [
    {
     "name": "stdout",
     "output_type": "stream",
     "text": [
      "Support Vector Regressor - Train MSE: 21727047542.14199\n",
      "Support Vector Regressor - Test MSE: 20318725634.994\n",
      "Support Vector Regressor - Train R2: -0.05296195036080009\n",
      "Support Vector Regressor - Test R2: -0.037297394504234305\n"
     ]
    }
   ],
   "source": [
    "# Support Vector Regressor\n",
    "svr_model = utils.tune_hyperparameters(X_train_selected, y_train, 'svm')\n",
    "svr_train_mse, svr_test_mse, svr_train_r2, svr_test_r2 = utils.evaluate_model(svr_model, X_train_selected, X_test_selected, y_train, y_test)\n",
    "\n",
    "print(f'Support Vector Regressor - Train MSE: {svr_train_mse}')\n",
    "print(f'Support Vector Regressor - Test MSE: {svr_test_mse}')\n",
    "print(f'Support Vector Regressor - Train R2: {svr_train_r2}')\n",
    "print(f'Support Vector Regressor - Test R2: {svr_test_r2}')\n"
   ]
  },
  {
   "cell_type": "code",
   "execution_count": 12,
   "metadata": {},
   "outputs": [
    {
     "name": "stdout",
     "output_type": "stream",
     "text": [
      "K-Nearest Neighbors Regressor - Train MSE: 4251318038.8306966\n",
      "K-Nearest Neighbors Regressor - Test MSE: 5439773970.6723175\n",
      "K-Nearest Neighbors Regressor - Train R2: 0.7939675823377011\n",
      "K-Nearest Neighbors Regressor - Test R2: 0.7222924573206377\n"
     ]
    }
   ],
   "source": [
    "# K-Nearest Neighbors Regressor\n",
    "knn_model = utils.tune_hyperparameters(X_train_selected, y_train, 'knn')\n",
    "knn_train_mse, knn_test_mse, knn_train_r2, knn_test_r2 = utils.evaluate_model(knn_model, X_train_selected, X_test_selected, y_train, y_test)\n",
    "\n",
    "print(f'K-Nearest Neighbors Regressor - Train MSE: {knn_train_mse}')\n",
    "print(f'K-Nearest Neighbors Regressor - Test MSE: {knn_test_mse}')\n",
    "print(f'K-Nearest Neighbors Regressor - Train R2: {knn_train_r2}')\n",
    "print(f'K-Nearest Neighbors Regressor - Test R2: {knn_test_r2}')\n"
   ]
  },
  {
   "cell_type": "markdown",
   "metadata": {},
   "source": [
    "Bar Charts for Error Metrics"
   ]
  },
  {
   "cell_type": "code",
   "execution_count": 13,
   "metadata": {},
   "outputs": [
    {
     "data": {
      "image/png": "[encoded data removed]",
      "text/plain": [
       "<Figure size 640x480 with 1 Axes>"
      ]
     },
     "metadata": {},
     "output_type": "display_data"
    }
   ],
   "source": [
    "# Data\n",
    "models = ['Ridge', 'Lasso', 'Decision Tree', 'Random Forest', 'SVM', 'KNN']\n",
    "train_mse = [ridge_train_mse, lasso_train_mse, dt_train_mse, rf_train_mse, svr_train_mse, knn_train_mse]\n",
    "test_mse = [ridge_test_mse, lasso_test_mse, dt_test_mse, rf_test_mse, svr_test_mse, knn_test_mse]\n",
    "\n",
    "x = range(len(models))  # the label locations\n",
    "\n",
    "fig, ax = plt.subplots()\n",
    "rects1 = ax.bar(x, train_mse, width=0.4, label='Train MSE')\n",
    "rects2 = ax.bar([p + 0.4 for p in x], test_mse, width=0.4, label='Test MSE')\n",
    "\n",
    "# Add some text for labels, title and custom x-axis tick labels, etc.\n",
    "ax.set_xlabel('Models')\n",
    "ax.set_ylabel('Mean Squared Error')\n",
    "ax.set_title('Comparison of Model MSE')\n",
    "ax.set_xticks([p + 0.2 for p in x])\n",
    "ax.set_xticklabels(models)\n",
    "ax.legend()\n",
    "\n",
    "fig.tight_layout()\n",
    "\n",
    "plt.show()"
   ]
  },
  {
   "cell_type": "markdown",
   "metadata": {},
   "source": [
    "Scatter Plots for Predictions vs. Actuals\n"
   ]
  },
  {
   "cell_type": "code",
   "execution_count": 20,
   "metadata": {},
   "outputs": [
    {
     "data": {
      "text/plain": [
       "\"\\nplt.figure(figsize=(10, 6))\\nprint(y_test.shape)\\nprint(rf_test_mse.shape)\\nplt.scatter(y_test, X_test_selected, alpha=0.5)\\nplt.plot([min(y_test), max(y_test)], [min(y_test), max(y_test)], 'r--')  # A reference line\\nplt.title('Actual vs. Predicted Values')\\nplt.xlabel('Actual Values')\\nplt.ylabel('Predicted Values')\\nplt.grid(True)\\nplt.show()\\n\""
      ]
     },
     "execution_count": 20,
     "metadata": {},
     "output_type": "execute_result"
    }
   ],
   "source": [
    "'''\n",
    "plt.figure(figsize=(10, 6))\n",
    "print(y_test.shape)\n",
    "print(rf_test_mse.shape)\n",
    "plt.scatter(y_test, X_test_selected, alpha=0.5)\n",
    "plt.plot([min(y_test), max(y_test)], [min(y_test), max(y_test)], 'r--')  # A reference line\n",
    "plt.title('Actual vs. Predicted Values')\n",
    "plt.xlabel('Actual Values')\n",
    "plt.ylabel('Predicted Values')\n",
    "plt.grid(True)\n",
    "plt.show()\n",
    "'''"
   ]
  }
 ],
 "metadata": {
  "kernelspec": {
   "display_name": "dev",
   "language": "python",
   "name": "dev"
  },
  "language_info": {
   "codemirror_mode": {
    "name": "ipython",
    "version": 3
   },
   "file_extension": ".py",
   "mimetype": "text/x-python",
   "name": "python",
   "nbconvert_exporter": "python",
   "pygments_lexer": "ipython3",
   "version": "3.10.13"
  }
 },
 "nbformat": 4,
 "nbformat_minor": 4
}
