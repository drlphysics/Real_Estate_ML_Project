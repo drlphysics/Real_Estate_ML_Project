{
 "cells": [
  {
   "cell_type": "code",
   "execution_count": null,
   "metadata": {},
   "outputs": [],
   "source": [
    "import pandas as pd  \n",
    "import os                \n",
    "from datetime import datetime\n",
    "import time\n",
    "import matplotlib.pyplot as plt\n",
    "from math import sin, cos, tan\n",
    "import matplotlib.dates as mdates"
   ]
  },
  {
   "cell_type": "markdown",
   "metadata": {},
   "source": [
    "#### check the data structure of all the files "
   ]
  },
  {
   "cell_type": "code",
   "execution_count": null,
   "metadata": {},
   "outputs": [],
   "source": [
    "\n",
    "# loop through directory where your files are located\n",
    "directory = './Data/'\n",
    "dfs = []\n",
    "i = 1\n",
    "#loop through all the files in a data directory\n",
    "for filename in os.listdir(directory):\n",
    "    #ignore a file start with the name weekly, thats the mortageg rates data \n",
    "    if not filename.startswith(\"weekly\"):\n",
    "        #read file path \n",
    "        filepath = os.path.join(directory, filename)\n",
    "        #read a file in a dataframe\n",
    "        df = pd.read_csv(filepath)\n",
    "        #append the file in dictionary \n",
    "        print(f\"DataFrame {i} structure:\")\n",
    "        df.info()\n",
    "        print(\"\\n---\\n\")\n",
    "        i =+ i\n",
    "              \n",
    "\n"
   ]
  },
  {
   "cell_type": "markdown",
   "metadata": {},
   "source": [
    "##### Column structure is consistent across all DFs. \n",
    "##### Dataframe 2 (2021q2) contains the largest set of data at 14862 entries.\n",
    "##### Dataframe 3 (2021q3) comes in at close second at 14693 entries. \n",
    "##### 18 columns for each Df. \n"
   ]
  },
  {
   "cell_type": "code",
   "execution_count": null,
   "metadata": {},
   "outputs": [],
   "source": [
    "# Directory where your files are located\n",
    "directory = './Data/'\n",
    "dfs = []\n",
    "\n",
    "#loop through all the files in a data directory\n",
    "for filename in os.listdir(directory):\n",
    "    #ignore a file start with the name weekly, thats the mortageg rates data \n",
    "    if not filename.startswith(\"weekly\"):\n",
    "        #read file path \n",
    "        filepath = os.path.join(directory, filename)\n",
    "        #read a file in a dataframe\n",
    "        df = pd.read_csv(filepath)\n",
    "        #append the file in dictionary \n",
    "        dfs.append(df)\n",
    "\n",
    "# Concatenate all DataFrames in the list into a single DataFrame\n",
    "combined_df = pd.concat(dfs, ignore_index=True)    \n",
    "combined_df.head()"
   ]
  },
  {
   "cell_type": "markdown",
   "metadata": {},
   "source": []
  },
  {
   "cell_type": "code",
   "execution_count": null,
   "metadata": {},
   "outputs": [],
   "source": [
    "#Checking how many values are null per column\n",
    "combined_df.isnull().sum()"
   ]
  },
  {
   "cell_type": "code",
   "execution_count": null,
   "metadata": {},
   "outputs": [],
   "source": [
    "#Checking basic structure of df\n",
    "combined_df.shape"
   ]
  },
  {
   "cell_type": "markdown",
   "metadata": {},
   "source": [
    "##### 162138 rows\n",
    "##### 18 columns"
   ]
  },
  {
   "cell_type": "code",
   "execution_count": null,
   "metadata": {},
   "outputs": [],
   "source": [
    "#Checking data types of the columns\n",
    "combined_df.dtypes"
   ]
  },
  {
   "cell_type": "markdown",
   "metadata": {},
   "source": [
    "##### Zipcode should stay as object due to certain areas formatting for zip codes such as 27006-8256\n",
    "##### Total living area sqft is currently an object--Should be a float?\n",
    "##### Should convert year built, list date, closing date to date time format rather than float/objects. \n",
    "##### List price and sold price columns should be converted to floats and have \"$\" stripped for graphing/numerical purposes.\n",
    "##### Acres should be converted to float and have \"Acres\" stripped for same reason as list price. "
   ]
  },
  {
   "cell_type": "code",
   "execution_count": null,
   "metadata": {},
   "outputs": [],
   "source": [
    "\n",
    "# Due the existence of 17 null values in the \"Year Built\" column we should convert these values to floats with a value of \"0\"\n",
    "#   prior to the conversion to datetime to avoid any errors. \n",
    "combined_df['Year Built'] = combined_df['Year Built'].fillna(0).astype(float)\n",
    "#Here I convert the recently converted columns that now contain \"0\" to \"0000\" for a more seamless datetime conversion.\n",
    "#   For now we will assume empty columns contain the value \"0000\". This must be reconsidered for any impact it might have on future analytics. \n",
    "combined_df['Year Built'] = combined_df['Year Built'].replace('0', '0000')\n",
    "\n",
    "# converting \"Year Built\" from float to datetime. For now I am assuming jan 1 for the day/month\n",
    "combined_df['Year Built'] = pd.to_datetime(combined_df['Year Built'], format='%Y', errors='coerce')\n",
    "\n",
    "# converting list date and closing date from str to datetime format. \n",
    "combined_df['List Date'] = pd.to_datetime(combined_df['List Date'], format='%m/%d/%Y')\n",
    "combined_df['Closing Date'] = pd.to_datetime(combined_df['Closing Date'], format='%m/%d/%Y')"
   ]
  },
  {
   "cell_type": "code",
   "execution_count": null,
   "metadata": {},
   "outputs": [],
   "source": [
    "combined_df.dtypes"
   ]
  },
  {
   "cell_type": "code",
   "execution_count": null,
   "metadata": {},
   "outputs": [],
   "source": [
    "combined_df"
   ]
  },
  {
   "cell_type": "markdown",
   "metadata": {},
   "source": [
    "##### I am receiving a key error on List Price and Sold Price and have tried copy pasting among other methods so my assumption is that there might be hidden characters or leading spaces.\n",
    "#####       For this reason I will be renaming the columns manually to ensure they are contingent with our eyes. "
   ]
  },
  {
   "cell_type": "code",
   "execution_count": null,
   "metadata": {},
   "outputs": [],
   "source": [
    "#Obtaining index values of columns. \n",
    "combined_df.info()"
   ]
  },
  {
   "cell_type": "code",
   "execution_count": null,
   "metadata": {},
   "outputs": [],
   "source": [
    "#confirming that index values are correct\n",
    "print(f\"List price should equal {combined_df.columns[16]} and Sold price should equal {combined_df.columns[17]}\")"
   ]
  },
  {
   "cell_type": "code",
   "execution_count": null,
   "metadata": {},
   "outputs": [],
   "source": [
    "combined_df.rename(columns={combined_df.columns[16]: \"List Price\"}, inplace=True)\n",
    "combined_df.rename(columns={combined_df.columns[17]: \"Sold Price\"}, inplace=True)\n",
    "combined_df\n"
   ]
  },
  {
   "cell_type": "code",
   "execution_count": null,
   "metadata": {},
   "outputs": [],
   "source": [
    "combined_df[\"List Price\"] = combined_df[\"List Price\"].str.replace(\"$\", \"\").str.replace(',', '').astype(float)\n",
    "combined_df[\"Sold Price\"] = combined_df[\"Sold Price\"].str.replace(\"$\", \"\").str.replace(',', '').astype(float)\n",
    "\n",
    "combined_df"
   ]
  },
  {
   "cell_type": "markdown",
   "metadata": {},
   "source": [
    "##### List price and sold price have successfully been renamed and converted to floats.\n",
    "#####\n",
    "##### Now I will do the same conversion for acres. \n",
    "##### Since acres is a range value it is not possible to display this in a single column as floats are single numeric values. \n",
    "##### For this reason I will be splitting the acres column into two separate columns, one for min and one for max.  \n",
    "##### We can average these two columns for graphing purposes. "
   ]
  },
  {
   "cell_type": "code",
   "execution_count": null,
   "metadata": {},
   "outputs": [],
   "source": [
    "combined_df.info()"
   ]
  },
  {
   "cell_type": "code",
   "execution_count": null,
   "metadata": {},
   "outputs": [],
   "source": [
    "combined_df.rename(columns={combined_df.columns[11]: \"Acres\"}, inplace=True)\n",
    "#Key value error prevention. It seems some column names contain trailing spaces or hidden characters so i'm just going to do this ahead of time. "
   ]
  },
  {
   "cell_type": "code",
   "execution_count": null,
   "metadata": {},
   "outputs": [],
   "source": [
    "def split_range(range_str):\n",
    "    if isinstance(range_str, str):\n",
    "        range_str = range_str.strip()  # removes leading/trailing whitespace\n",
    "        if range_str.endswith('+'):\n",
    "            range_str = range_str[:-1].strip()  # removes trailing '+' and any whitespace\n",
    "        parts = range_str.split('-')\n",
    "        if len(parts) == 1:\n",
    "            return [float(parts[0]), float('inf')]  # use infinity for upper bound on values such as \"11+\" which is an error I received when creating this function. I think Python assumes 11+ means 11-infinity.\n",
    "        else:\n",
    "            return [float(parts[0]), float(parts[1])]\n",
    "    else:\n",
    "        return [float('nan'), float('nan')]\n",
    "combined_df[['Acres min', 'Acres max']] = combined_df['Acres'].str.replace(' Acres', '').apply(split_range).tolist()"
   ]
  },
  {
   "cell_type": "code",
   "execution_count": null,
   "metadata": {},
   "outputs": [],
   "source": [
    "combined_df"
   ]
  },
  {
   "cell_type": "code",
   "execution_count": null,
   "metadata": {},
   "outputs": [],
   "source": [
    "combined_df.info()"
   ]
  },
  {
   "cell_type": "code",
   "execution_count": null,
   "metadata": {},
   "outputs": [],
   "source": [
    "combined_df[\"Total Living Area SqFt\"] = combined_df[\"Total Living Area SqFt\"].str.replace(\",\", \"\").astype(float)"
   ]
  },
  {
   "cell_type": "markdown",
   "metadata": {},
   "source": [
    "### Creating \"Season\" columns and grouping into the new season columns"
   ]
  },
  {
   "cell_type": "code",
   "execution_count": null,
   "metadata": {},
   "outputs": [],
   "source": [
    "def get_season(date):\n",
    "    if date.month in [3, 4, 5]:\n",
    "        return 'Spring'\n",
    "    elif date.month in [6, 7, 8]:\n",
    "        return 'Summer'\n",
    "    elif date.month in [9, 10, 11]:\n",
    "        return 'Fall'\n",
    "    else:\n",
    "        return 'Winter'\n",
    "\n",
    "combined_df['Season Listed'] = combined_df['List Date'].apply(get_season)\n",
    "combined_df['Season Sold'] = combined_df['Closing Date'].apply(get_season)\n",
    "combined_df"
   ]
  },
  {
   "cell_type": "markdown",
   "metadata": {},
   "source": [
    "### Graphing List price over time"
   ]
  },
  {
   "cell_type": "code",
   "execution_count": null,
   "metadata": {},
   "outputs": [],
   "source": [
    "#here I am filtering the data frame so that the graph only displays 2021-now. I had some issues while graphing where the graph was going all the way back to 1978 so it is necessary to filter\n",
    "filtered_df = combined_df[(combined_df['List Date'] >= pd.Timestamp('2021-01-01')) & (combined_df['List Date'] <= pd.Timestamp.now())]\n",
    "\n",
    "#here i am grouping the data by months so that it is easier for us to read. When I plotted it without grouping it resulted in a graph that looks like I had given a monkey a pencil and told it to draw the mona lisa.\n",
    "monthly_data_list = filtered_df.resample('M', on='List Date').agg({'List Price': ['sum', 'count']})\n",
    "monthly_data_sold = filtered_df.resample('M', on='List Date').agg({'Sold Price': ['sum', 'count']})\n",
    "monthly_data_list.columns = ['Total List Price', 'Total Properties Listed']\n",
    "monthly_data_sold.columns = ['Total Sale Price', 'Total Properties Listed']\n"
   ]
  },
  {
   "cell_type": "code",
   "execution_count": null,
   "metadata": {},
   "outputs": [],
   "source": [
    "#setting the fig size. had to play around a bit to find a good fit.\n",
    "fig, ax1 = plt.subplots(figsize=(12, 6))\n",
    "\n",
    "# Plot that displays the sum of total sales price by month.\n",
    "color = 'tab:blue'\n",
    "ax1.set_xlabel('Month')\n",
    "ax1.set_ylabel('Sum of Total Sale Price', color=color)\n",
    "ax1.plot(monthly_data_sold.index, monthly_data_sold['Total Sale Price'], color=color, marker='x')\n",
    "ax1.tick_params(axis='y', labelcolor=color)\n",
    "ax1.set_title('Sum of Total List & Sales Prices Per Month from 2021 to Present')\n",
    "\n",
    "\n",
    "\n",
    "# twin axes for the sum of the list prices\n",
    "# telling the program that the axes will be plotted on the same graph. \n",
    "ax2 = ax1.twinx()  \n",
    "color = 'tab:red'\n",
    "ax2.set_ylabel('Sum of Total List Price', color=color)\n",
    "ax2.plot(monthly_data_list.index, monthly_data_list['Total List Price'], color=color, marker='o')\n",
    "ax2.tick_params(axis='y', labelcolor=color)\n",
    "\n",
    "\n",
    "#tightening the layout\n",
    "fig.tight_layout()  \n",
    "print(monthly_data_list)\n",
    "plt.show()"
   ]
  },
  {
   "cell_type": "code",
   "execution_count": null,
   "metadata": {},
   "outputs": [],
   "source": [
    "# bar chart that displays total properties listed per month.\n",
    "fig, sales_volume = plt.subplots(figsize=(12, 6))\n",
    "color = 'tab:blue'\n",
    "sales_volume.set_xlabel('Month')\n",
    "sales_volume.set_ylabel('Total Properties Listed', color=color)\n",
    "sales_volume.bar(monthly_data_list.index, monthly_data_list['Total Properties Listed'], color=color)\n",
    "sales_volume.tick_params(axis='y', labelcolor=color)\n",
    "sales_volume.set_title('Total Properties Listed by Month')\n"
   ]
  },
  {
   "cell_type": "markdown",
   "metadata": {},
   "source": [
    "### Fixing winston-salem vs winston salem rows:"
   ]
  },
  {
   "cell_type": "code",
   "execution_count": null,
   "metadata": {},
   "outputs": [],
   "source": [
    "combined_df = combined_df.replace([\"Winston Salem\"], \"Winston-Salem\")"
   ]
  },
  {
   "cell_type": "code",
   "execution_count": null,
   "metadata": {},
   "outputs": [],
   "source": [
    "combined_df.loc[combined_df[\"City\"] == \"Winston-Salem\"]"
   ]
  },
  {
   "cell_type": "code",
   "execution_count": null,
   "metadata": {},
   "outputs": [],
   "source": [
    "city_counts = combined_df['City'].value_counts()\n",
    "\n",
    "#resetting index to check alphabetically\n",
    "city_counts_df = city_counts.reset_index()\n",
    "#making new column to show occurrences\n",
    "city_counts_df.columns = ['City', 'Occurrences']\n",
    "\n",
    "#sorting alphabetically\n",
    "city_counts_df = city_counts_df.sort_values('City')\n",
    "\n",
    "\n",
    "city_counts_df.to_csv('City_Occurrences.csv', index=False)"
   ]
  },
  {
   "cell_type": "markdown",
   "metadata": {},
   "source": [
    "###### Winston-Salem looks to be the only duplicate city name."
   ]
  },
  {
   "cell_type": "markdown",
   "metadata": {},
   "source": [
    "#### Grouping by City, Zip, Sold Price:\n",
    "#### Grouping by City, Zip, Days on market:"
   ]
  },
  {
   "cell_type": "code",
   "execution_count": null,
   "metadata": {},
   "outputs": [],
   "source": [
    "sold_price_grouped = combined_df[[\"City\", \"Zip\", \"Sold Price\"]].sort_values(by=\"Sold Price\", ascending=True)\n",
    "DaysOnMarket_grouped = combined_df[[\"City\", \"Zip\", \"Days On Market\"]].sort_values(by=\"Days On Market\", ascending=True)"
   ]
  },
  {
   "cell_type": "markdown",
   "metadata": {},
   "source": [
    "### Days on market grouped for all cities/zipcodes:\n",
    "### Sold Price grouped for all cities/zipcodes:"
   ]
  },
  {
   "cell_type": "code",
   "execution_count": null,
   "metadata": {},
   "outputs": [],
   "source": [
    "display(DaysOnMarket_grouped, sold_price_grouped)"
   ]
  },
  {
   "cell_type": "markdown",
   "metadata": {},
   "source": [
    "####  DOM = days on market\n",
    "#### Sold Price = SP"
   ]
  },
  {
   "cell_type": "code",
   "execution_count": null,
   "metadata": {},
   "outputs": [],
   "source": [
    "raleigh_grouped_all = combined_df.loc[combined_df[\"City\"] == \"Raleigh\"]\n",
    "raleigh_grouped_SP = sold_price_grouped.loc[sold_price_grouped[\"City\"] == \"Raleigh\"]\n",
    "raleigh_grouped_DOM = DaysOnMarket_grouped.loc[DaysOnMarket_grouped[\"City\"] == \"Raleigh\"]\n",
    "raleigh_grouped_all\n",
    "\n",
    "fayetteville_grouped_all = combined_df.loc[combined_df[\"City\"] == \"Fayetteville\"]\n",
    "fayetteville_grouped_SP = sold_price_grouped.loc[sold_price_grouped[\"City\"] == \"Fayetteville\"]\n",
    "fayetteville_grouped_DOM = DaysOnMarket_grouped.loc[DaysOnMarket_grouped[\"City\"] == \"Fayetteville\"]\n",
    "fayetteville_grouped_all"
   ]
  },
  {
   "cell_type": "markdown",
   "metadata": {},
   "source": [
    "### Raleigh Sold price:\n",
    "### Raleigh Days on market:"
   ]
  },
  {
   "cell_type": "code",
   "execution_count": null,
   "metadata": {},
   "outputs": [],
   "source": [
    "display(raleigh_grouped_SP, raleigh_grouped_DOM)"
   ]
  },
  {
   "cell_type": "code",
   "execution_count": null,
   "metadata": {},
   "outputs": [],
   "source": [
    "display(fayetteville_grouped_SP, raleigh_grouped_DOM)"
   ]
  },
  {
   "cell_type": "markdown",
   "metadata": {},
   "source": [
    "### Creating filtered DataFrames for Raleigh & Fayetteville; removing unnecessary columns:"
   ]
  },
  {
   "cell_type": "code",
   "execution_count": null,
   "metadata": {},
   "outputs": [],
   "source": [
    "raleigh_grouped_3_2 = raleigh_grouped_all.loc[\n",
    "    (raleigh_grouped_all[\"Bedrooms\"] == 3.0) &\n",
    "    (raleigh_grouped_all[\"Total Baths\"] == 2.0)\n",
    "]\n",
    "raleigh_grouped_3_2 = raleigh_grouped_3_2[[\n",
    "    \"MLS #\", \"Property Type\", \"City\", \"Bedrooms\", \n",
    "    \"Total Baths\", \"Total Living Area SqFt\",\n",
    "    \"Year Built\", \"List Date\", \"Closing Date\",\n",
    "    \"Days On Market\", \"List Price\", \"Sold Price\", \"Acres min\", \"Acres max\",\n",
    "    \"Season Listed\", \"Season Sold\"\n",
    "    ]]\n",
    "\n",
    "to_drop = raleigh_grouped_3_2[raleigh_grouped_3_2[\"Property Type\"] == \"Duplex\"].index\n",
    "raleigh_grouped_3_2 = raleigh_grouped_3_2.drop(to_drop)\n",
    "raleigh_grouped_3_2\n",
    "\n",
    "\n",
    "single_family_residence_3_2 = raleigh_grouped_3_2.loc[raleigh_grouped_3_2['Property Type'] == 'Single Family Residence']\n",
    "single_family_residence_3_2\n",
    "\n",
    "##################################################################\n",
    "\n",
    "fayetteville_grouped_3_2 = fayetteville_grouped_all.loc[\n",
    "    (fayetteville_grouped_all[\"Bedrooms\"] == 3.0) &\n",
    "    (fayetteville_grouped_all[\"Total Baths\"] == 2.0)\n",
    "]\n",
    "fayetteville_grouped_3_2 = fayetteville_grouped_3_2[[\n",
    "    \"MLS #\", \"Property Type\", \"City\", \"Bedrooms\", \n",
    "    \"Total Baths\", \"Total Living Area SqFt\",\n",
    "    \"Year Built\", \"List Date\", \"Closing Date\",\n",
    "    \"Days On Market\", \"List Price\", \"Sold Price\", \"Acres min\", \"Acres max\",\n",
    "    \"Season Listed\", \"Season Sold\"\n",
    "    ]]\n",
    "\n",
    "to_drop = fayetteville_grouped_3_2[fayetteville_grouped_3_2[\"Property Type\"] == \"Duplex\"].index\n",
    "fayetteville_grouped_3_2 = fayetteville_grouped_3_2.drop(to_drop)\n",
    "fayetteville_grouped_3_2\n",
    "\n",
    "\n",
    "single_family_residence_3_2_fayetteville = fayetteville_grouped_3_2.loc[fayetteville_grouped_3_2['Property Type'] == 'Single Family Residence']\n",
    "single_family_residence_3_2_fayetteville\n"
   ]
  },
  {
   "cell_type": "code",
   "execution_count": null,
   "metadata": {},
   "outputs": [],
   "source": [
    "raleigh_grouped_3_2[\"Property Type\"].value_counts()"
   ]
  },
  {
   "cell_type": "code",
   "execution_count": null,
   "metadata": {},
   "outputs": [],
   "source": [
    "fayetteville_grouped_3_2[\"Property Type\"].value_counts()"
   ]
  },
  {
   "cell_type": "markdown",
   "metadata": {},
   "source": [
    "### Visualization of days on market per season listed"
   ]
  },
  {
   "cell_type": "markdown",
   "metadata": {},
   "source": [
    "##### \"DOM\" = Days on market\n",
    "##### \"SZN\" = Season"
   ]
  },
  {
   "cell_type": "code",
   "execution_count": null,
   "metadata": {},
   "outputs": [],
   "source": [
    "def grouping_by_season(original_df, column_name):\n",
    "\n",
    "    #creating new dataframe that is grouped by season listed and the average days on market for each season listed.\n",
    "    df_to_order = original_df.groupby('Season Listed')[column_name].mean().reset_index()\n",
    "\n",
    "    #creating list to use as template for displaying seasons in order (Spring-Summer-Fall-Winter)\n",
    "    season_order = ['Spring', 'Summer', 'Fall', 'Winter']\n",
    "\n",
    "    #converting season listed column to categorical type and then setting the order based on season_order list.\n",
    "    df_to_order['Season Listed'] = pd.Categorical(df_to_order['Season Listed'], categories=season_order, ordered=True)\n",
    "\n",
    "    #sorting the values now that they are categorized in the correct order\n",
    "    df_to_order = df_to_order.sort_values('Season Listed')\n",
    "    return(df_to_order)"
   ]
  },
  {
   "cell_type": "code",
   "execution_count": null,
   "metadata": {},
   "outputs": [],
   "source": [
    "DOM_var = \"Days On Market\"\n",
    "raleigh_DOM_SZN_grouped = grouping_by_season(original_df=raleigh_grouped_3_2, column_name=DOM_var)\n",
    "\n",
    "\n",
    "plt.figure(figsize=(6, 8))\n",
    "plt.xlabel(\"Season Listed\")\n",
    "plt.ylabel(\"Average days on market\")\n",
    "plt.bar(raleigh_DOM_SZN_grouped['Season Listed'], raleigh_DOM_SZN_grouped['Days On Market'])\n",
    "plt.title(\"Raleigh NC Avg Days on market per season listed\")\n",
    "plt.show()\n"
   ]
  },
  {
   "cell_type": "markdown",
   "metadata": {},
   "source": [
    "##### The chart above shows that the average days on market for Raleigh NC are highest in the fall, and lowest in the spring."
   ]
  },
  {
   "cell_type": "code",
   "execution_count": null,
   "metadata": {},
   "outputs": [],
   "source": [
    "fayetteville_DOM_SZN_grouped = grouping_by_season(original_df=combined_df, column_name=DOM_var)\n",
    "\n",
    "plt.figure(figsize=(6, 8))\n",
    "plt.xlabel(\"Season Listed\")\n",
    "plt.ylabel(\"Average days on market\")\n",
    "plt.bar(fayetteville_DOM_SZN_grouped['Season Listed'], fayetteville_DOM_SZN_grouped['Days On Market'])\n",
    "plt.title(\"Fayetteville Avg Days on market per season listed\")\n",
    "plt.show()"
   ]
  },
  {
   "cell_type": "markdown",
   "metadata": {},
   "source": [
    "##### The chart above shows a similar trend to that of Raleigh NC, with the highest average days on market for Fayetteville NC being in the fall, and the lowest in the spring."
   ]
  },
  {
   "cell_type": "markdown",
   "metadata": {},
   "source": [
    "### Visualization of Delta between List Price and sale price based on seasonality:"
   ]
  },
  {
   "cell_type": "markdown",
   "metadata": {},
   "source": [
    "##### Creating new column called \"Price Delta\":"
   ]
  },
  {
   "cell_type": "code",
   "execution_count": null,
   "metadata": {},
   "outputs": [],
   "source": [
    "raleigh_grouped_3_2[\"Price Delta\"] = raleigh_grouped_3_2[\"Sold Price\"] - raleigh_grouped_3_2[\"List Price\"]\n",
    "fayetteville_grouped_3_2[\"Price Delta\"] = fayetteville_grouped_3_2[\"Sold Price\"] - fayetteville_grouped_3_2[\"List Price\"]\n",
    "#raleigh_grouped_3_2"
   ]
  },
  {
   "cell_type": "markdown",
   "metadata": {},
   "source": [
    "#### Price delta per season bar chart:"
   ]
  },
  {
   "cell_type": "code",
   "execution_count": null,
   "metadata": {},
   "outputs": [],
   "source": [
    "delta_var = \"Price Delta\"\n",
    "raleigh_delta_SZN_grouped = grouping_by_season(original_df=raleigh_grouped_3_2, column_name=delta_var)\n",
    "plt.figure(figsize=(6, 8))\n",
    "plt.xlabel(\"Season Listed\")\n",
    "plt.ylabel(\"Price Delta\")\n",
    "plt.bar(raleigh_delta_SZN_grouped['Season Listed'], raleigh_delta_SZN_grouped[\"Price Delta\"])\n",
    "plt.title(\"Raleigh NC Avg Price Delta per season listed\")\n",
    "plt.show()"
   ]
  },
  {
   "cell_type": "markdown",
   "metadata": {},
   "source": [
    "##### The chart above shows that the highest price delta for Raleigh NC is in the spring, followed by winter and summer, with the fall showing the lowest price delta."
   ]
  },
  {
   "cell_type": "code",
   "execution_count": null,
   "metadata": {},
   "outputs": [],
   "source": [
    "fayetteville_DOM_SZN_grouped = grouping_by_season(original_df=fayetteville_grouped_3_2, column_name=delta_var)\n",
    "\n",
    "plt.figure(figsize=(6, 8))\n",
    "plt.xlabel(\"Season Listed\")\n",
    "plt.ylabel(\"Price Delta\")\n",
    "plt.bar(fayetteville_DOM_SZN_grouped['Season Listed'], fayetteville_DOM_SZN_grouped[\"Price Delta\"])\n",
    "plt.title(\"Fayetteville Avg Price Delta per season listed\")\n",
    "plt.show()"
   ]
  },
  {
   "cell_type": "markdown",
   "metadata": {},
   "source": [
    "##### The chart above shows that similar to Raleigh, Fayetteville also has the highest price delta in the spring. However, the values for summer, fall, and winter are significantly lower compared to Raleigh."
   ]
  },
  {
   "cell_type": "markdown",
   "metadata": {},
   "source": [
    "# Analysis of Mortage rates and its effect on real estate sales \n",
    "\n",
    "#### Read the mortgage rate CSV file "
   ]
  },
  {
   "cell_type": "code",
   "execution_count": null,
   "metadata": {},
   "outputs": [],
   "source": [
    "# read all the mortage data from the CSV  File\n",
    "mortageweekly_df = pd.read_excel(\"../Real-Estate-Analysis-Project/Data/weekly_mortgage_rates.xlsx\",\n",
    "                                 index_col=\"Week\",\n",
    "                                 parse_dates=True\n",
    "                                 )\n",
    "mortageweekly_df.head()"
   ]
  },
  {
   "cell_type": "markdown",
   "metadata": {},
   "source": [
    "#### Clean up mortgage dataframe"
   ]
  },
  {
   "cell_type": "code",
   "execution_count": null,
   "metadata": {},
   "outputs": [],
   "source": [
    "# Get the morrtgage data from 2021 ro 2014 \n",
    "mortageweekly_df_sliced = mortageweekly_df.loc['2021-01-01':'2024-05-30']\n",
    "\n",
    "#drop unwanted columns\n",
    "mortageweekly_df_sliced.drop(columns=['30 years points','15 years FRM','15 years points','ARM','ARM points','margin','spread'],inplace=True)\n",
    "\n",
    "mortageweekly_df_sliced.plot(figsize=[10,5])"
   ]
  },
  {
   "cell_type": "code",
   "execution_count": null,
   "metadata": {},
   "outputs": [],
   "source": [
    "# add a column of week and year\n",
    "mortageweekly_df_sliced[\"week-year\"]  = mortageweekly_df_sliced.index.year.astype(str) + mortageweekly_df_sliced.index.isocalendar().week.astype(str)\n",
    "mortageweekly_df_sliced.head()"
   ]
  },
  {
   "cell_type": "markdown",
   "metadata": {},
   "source": [
    "#### Get single family homes real estate data "
   ]
  },
  {
   "cell_type": "code",
   "execution_count": null,
   "metadata": {},
   "outputs": [],
   "source": [
    "#single_family Raleigh\n",
    "single_family_residence_3_2[\"week-year\"]  = single_family_residence_3_2['List Date'].dt.year.astype(str) + single_family_residence_3_2['List Date'].dt.isocalendar().week.astype(str)\n",
    "single_family_residence_3_2[\"Price Delta\"] = single_family_residence_3_2[\"Sold Price\"] - single_family_residence_3_2[\"List Price\"]\n",
    "single_family_residence_3_2.head() #162138 \n",
    "\n",
    "#single_family Fayetteville\n",
    "single_family_residence_3_2_fayetteville[\"week-year\"]  = single_family_residence_3_2_fayetteville['List Date'].dt.year.astype(str) + single_family_residence_3_2_fayetteville['List Date'].dt.isocalendar().week.astype(str)\n",
    "single_family_residence_3_2_fayetteville[\"Price Delta\"] = single_family_residence_3_2_fayetteville[\"Sold Price\"] - single_family_residence_3_2_fayetteville[\"List Price\"]\n",
    "single_family_residence_3_2_fayetteville.head() #162138 "
   ]
  },
  {
   "cell_type": "markdown",
   "metadata": {},
   "source": [
    "#### Merge morgage data and single family real esate data frame on week-year of list date "
   ]
  },
  {
   "cell_type": "code",
   "execution_count": null,
   "metadata": {},
   "outputs": [],
   "source": [
    "#merge mortageweekly_df_sliced and single_family_residence_3_2 on week year column\n",
    "realeastate_df  = pd.merge(mortageweekly_df_sliced,single_family_residence_3_2,on=\"week-year\",how=\"inner\")\n",
    "realeastate_df_fayetteville  = pd.merge(mortageweekly_df_sliced,single_family_residence_3_2_fayetteville,on=\"week-year\",how=\"inner\")\n"
   ]
  },
  {
   "cell_type": "code",
   "execution_count": null,
   "metadata": {},
   "outputs": [],
   "source": [
    "#Group by month and find average month data \n",
    "realeastate_monthly_df = realeastate_df.resample('M', on='List Date').agg({'Days On Market': ['mean'],\"30 Years FRM\":['mean'], \"Price Delta\":['mean']})\n",
    "\n",
    "realeastate_monthly_df.columns = ['Avg Days on Market', 'Avg Intereset Rate','Avg Price Delta']\n",
    "\n",
    "realeastate_monthly_df.head()"
   ]
  },
  {
   "cell_type": "code",
   "execution_count": null,
   "metadata": {},
   "outputs": [],
   "source": [
    "#Group by month and find average month data \n",
    "realeastate_monthly_df_fayetteville = realeastate_df_fayetteville.resample('M', on='List Date').agg({'Days On Market': ['mean'],\"30 Years FRM\":['mean'], \"Price Delta\":['mean']})\n",
    "\n",
    "realeastate_monthly_df_fayetteville.columns = ['Avg Days on Market', 'Avg Intereset Rate','Avg Price Delta']\n",
    "\n",
    "realeastate_monthly_df_fayetteville.head()"
   ]
  },
  {
   "cell_type": "markdown",
   "metadata": {},
   "source": [
    "### Visualize correlation between mortgage rate and the property days on market "
   ]
  },
  {
   "cell_type": "code",
   "execution_count": null,
   "metadata": {},
   "outputs": [],
   "source": [
    "\n",
    "#setting the fig size. \n",
    "fig, ax1 = plt.subplots(figsize=(12, 6))\n",
    "\n",
    "# bar chart that displays average days on market for property in a month.\n",
    "color = 'tab:blue'\n",
    "ax1.set_xlabel('List Date')\n",
    "ax1.set_ylabel('Days On Market', color=color)\n",
    "ax1.plot(realeastate_monthly_df.index, realeastate_monthly_df['Avg Days on Market'], color=color)\n",
    "ax1.tick_params(axis='y', labelcolor=color)\n",
    "ax1.set_title('Raleigh: Days On market and mortgage rate correlation')\n",
    "\n",
    "# twin axes for the average mortage rate in a month\n",
    "# telling the program that the axes will be plotted on the same graph. \n",
    "ax2 = ax1.twinx()  \n",
    "color = 'tab:red'\n",
    "ax2.set_ylabel('Avg Intereset Rate', color=color)\n",
    "ax2.plot(realeastate_monthly_df.index, realeastate_monthly_df['Avg Intereset Rate'], color=color, marker='o')\n",
    "ax2.tick_params(axis='y', labelcolor=color)\n",
    "\n",
    "\n",
    "#tightening the layout\n",
    "fig.tight_layout()  \n",
    "plt.show()\n"
   ]
  },
  {
   "cell_type": "code",
   "execution_count": null,
   "metadata": {},
   "outputs": [],
   "source": [
    "\n",
    "#setting the fig size. \n",
    "fig, ax1 = plt.subplots(figsize=(12, 6))\n",
    "\n",
    "# bar chart that displays average days on market for property in a month.\n",
    "color = 'tab:blue'\n",
    "ax1.set_xlabel('List Date')\n",
    "ax1.set_ylabel('Days On Market', color=color)\n",
    "ax1.plot(realeastate_monthly_df_fayetteville.index, realeastate_monthly_df_fayetteville['Avg Days on Market'], color=color)\n",
    "ax1.tick_params(axis='y', labelcolor=color)\n",
    "ax1.set_title('Fayetteville: Days On market and mortgage rate correlation')\n",
    "\n",
    "# twin axes for the average mortage rate in a month\n",
    "# telling the program that the axes will be plotted on the same graph. \n",
    "ax2 = ax1.twinx()  \n",
    "color = 'tab:red'\n",
    "ax2.set_ylabel('Avg Intereset Rate', color=color)\n",
    "ax2.plot(realeastate_monthly_df_fayetteville.index, realeastate_monthly_df_fayetteville['Avg Intereset Rate'], color=color, marker='o')\n",
    "ax2.tick_params(axis='y', labelcolor=color)\n",
    "\n",
    "\n",
    "#tightening the layout\n",
    "fig.tight_layout()  \n",
    "plt.show()"
   ]
  },
  {
   "cell_type": "markdown",
   "metadata": {},
   "source": [
    "##### Above graph indicate that the homes days on market has increased when the mortgage rate increased "
   ]
  },
  {
   "cell_type": "markdown",
   "metadata": {},
   "source": [
    "### Visualize correlation between mortgage rate and delta between list price and sales price "
   ]
  },
  {
   "cell_type": "code",
   "execution_count": null,
   "metadata": {},
   "outputs": [],
   "source": [
    "\n",
    "\n",
    "#setting the fig size. had to play around a bit to find a good fit.\n",
    "fig, ax1 = plt.subplots(figsize=(12, 6))\n",
    "\n",
    "# bar chart that displays average delta between list price and sold price \n",
    "color = 'tab:blue'\n",
    "ax1.set_xlabel('List Date')\n",
    "ax1.set_ylabel('Avg Price Delta', color=color)\n",
    "ax1.plot(realeastate_monthly_df.index, realeastate_monthly_df['Avg Price Delta'], color=color)\n",
    "ax1.tick_params(axis='y', labelcolor=color)\n",
    "ax1.set_title('Raleigh: List Price - Sold price delta and mortgage rate correlation')\n",
    "\n",
    "# getting the array of values of y-axis\n",
    "ticks = ax1.get_yticks()\n",
    "# formatted the values into strings beginning with dollar sign\n",
    "new_labels = [f'${amt:,.0f}' for amt in ticks] \n",
    "# Set the new labels\n",
    "ax1.set_yticklabels(new_labels)\n",
    "\n",
    "# twin axes for the average mortage rate in a month\n",
    "# telling the program that the axes will be plotted on the same graph. \n",
    "ax2 = ax1.twinx()  \n",
    "color = 'tab:red'\n",
    "ax2.set_ylabel('Avg Intereset Rate', color=color)\n",
    "ax2.plot(realeastate_monthly_df.index, realeastate_monthly_df['Avg Intereset Rate'], color=color, marker='o')\n",
    "ax2.tick_params(axis='y', labelcolor=color)\n",
    "\n",
    "\n",
    "\n",
    "#tightening the layout\n",
    "fig.tight_layout()  \n",
    "plt.show()\n",
    "\n"
   ]
  },
  {
   "cell_type": "markdown",
   "metadata": {},
   "source": []
  },
  {
   "cell_type": "code",
   "execution_count": null,
   "metadata": {},
   "outputs": [],
   "source": [
    "#setting the fig size. had to play around a bit to find a good fit.\n",
    "fig, ax1 = plt.subplots(figsize=(12, 6))\n",
    "\n",
    "# bar chart that displays average delta between list price and sold price \n",
    "color = 'tab:blue'\n",
    "ax1.set_xlabel('List Date')\n",
    "ax1.set_ylabel('Avg Price Delta', color=color)\n",
    "ax1.plot(realeastate_monthly_df_fayetteville.index, realeastate_monthly_df_fayetteville['Avg Price Delta'], color=color)\n",
    "ax1.tick_params(axis='y', labelcolor=color)\n",
    "ax1.set_title('Fayetteville: List Price - Sold price delta and mortgage rate correlation')\n",
    "\n",
    "# getting the array of values of y-axis\n",
    "ticks = ax1.get_yticks()\n",
    "# formatted the values into strings beginning with dollar sign\n",
    "new_labels = [f'${amt:,.0f}' for amt in ticks] \n",
    "# Set the new labels\n",
    "ax1.set_yticklabels(new_labels)\n",
    "                    \n",
    "# twin axes for the average mortage rate in a month\n",
    "# telling the program that the axes will be plotted on the same graph. \n",
    "ax2 = ax1.twinx()  \n",
    "color = 'tab:red'\n",
    "ax2.set_ylabel('Avg Intereset Rate', color=color)\n",
    "ax2.plot(realeastate_monthly_df_fayetteville.index, realeastate_monthly_df_fayetteville['Avg Intereset Rate'], color=color, marker='o')\n",
    "ax2.tick_params(axis='y', labelcolor=color)\n",
    "\n",
    "\n",
    "#tightening the layout\n",
    "fig.tight_layout()  \n",
    "plt.show()"
   ]
  },
  {
   "cell_type": "markdown",
   "metadata": {},
   "source": [
    "##### There is no correlation between the mortgage rate and delta between list price and sold price "
   ]
  }
 ],
 "metadata": {
  "kernelspec": {
   "display_name": "Python 3 (ipykernel)",
   "language": "python",
   "name": "python3"
  },
  "language_info": {
   "codemirror_mode": {
    "name": "ipython",
    "version": 3
   },
   "file_extension": ".py",
   "mimetype": "text/x-python",
   "name": "python",
   "nbconvert_exporter": "python",
   "pygments_lexer": "ipython3",
   "version": "3.11.7"
  },
  "varInspector": {
   "cols": {
    "lenName": 16,
    "lenType": 16,
    "lenVar": 40
   },
   "kernels_config": {
    "python": {
     "delete_cmd_postfix": "",
     "delete_cmd_prefix": "del ",
     "library": "var_list.py",
     "varRefreshCmd": "print(var_dic_list())"
    },
    "r": {
     "delete_cmd_postfix": ") ",
     "delete_cmd_prefix": "rm(",
     "library": "var_list.r",
     "varRefreshCmd": "cat(var_dic_list()) "
    }
   },
   "types_to_exclude": [
    "module",
    "function",
    "builtin_function_or_method",
    "instance",
    "_Feature"
   ],
   "window_display": false
  }
 },
 "nbformat": 4,
 "nbformat_minor": 2
}
