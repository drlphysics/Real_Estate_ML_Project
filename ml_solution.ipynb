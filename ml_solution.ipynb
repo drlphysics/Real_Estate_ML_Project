{
 "cells": [
  {
   "cell_type": "code",
   "execution_count": 1,
   "metadata": {},
   "outputs": [
    {
     "data": {
      "text/html": [
       "<div>\n",
       "<style scoped>\n",
       "    .dataframe tbody tr th:only-of-type {\n",
       "        vertical-align: middle;\n",
       "    }\n",
       "\n",
       "    .dataframe tbody tr th {\n",
       "        vertical-align: top;\n",
       "    }\n",
       "\n",
       "    .dataframe thead th {\n",
       "        text-align: right;\n",
       "    }\n",
       "</style>\n",
       "<table border=\"1\" class=\"dataframe\">\n",
       "  <thead>\n",
       "    <tr style=\"text-align: right;\">\n",
       "      <th></th>\n",
       "      <th>Zip</th>\n",
       "      <th>Bedrooms</th>\n",
       "      <th>Total Baths</th>\n",
       "      <th>SqFt</th>\n",
       "      <th>Acres</th>\n",
       "      <th>Year Built</th>\n",
       "      <th>List Price</th>\n",
       "      <th>Sold Price</th>\n",
       "      <th>Days on Market</th>\n",
       "      <th>Over Asking</th>\n",
       "      <th>Lat</th>\n",
       "      <th>Lon</th>\n",
       "      <th>Cluster</th>\n",
       "    </tr>\n",
       "  </thead>\n",
       "  <tbody>\n",
       "    <tr>\n",
       "      <th>0</th>\n",
       "      <td>27607</td>\n",
       "      <td>5</td>\n",
       "      <td>8</td>\n",
       "      <td>9376</td>\n",
       "      <td>2</td>\n",
       "      <td>2022</td>\n",
       "      <td>1850000</td>\n",
       "      <td>324999</td>\n",
       "      <td>344</td>\n",
       "      <td>-1525001</td>\n",
       "      <td>35.8014</td>\n",
       "      <td>-78.6877</td>\n",
       "      <td>0</td>\n",
       "    </tr>\n",
       "    <tr>\n",
       "      <th>1</th>\n",
       "      <td>27377</td>\n",
       "      <td>5</td>\n",
       "      <td>7</td>\n",
       "      <td>6983</td>\n",
       "      <td>8</td>\n",
       "      <td>1883</td>\n",
       "      <td>1300000</td>\n",
       "      <td>3240000</td>\n",
       "      <td>469</td>\n",
       "      <td>1940000</td>\n",
       "      <td>36.0330</td>\n",
       "      <td>-79.5972</td>\n",
       "      <td>2</td>\n",
       "    </tr>\n",
       "    <tr>\n",
       "      <th>2</th>\n",
       "      <td>27587</td>\n",
       "      <td>5</td>\n",
       "      <td>5</td>\n",
       "      <td>7200</td>\n",
       "      <td>7</td>\n",
       "      <td>2005</td>\n",
       "      <td>1800000</td>\n",
       "      <td>2900000</td>\n",
       "      <td>52</td>\n",
       "      <td>1100000</td>\n",
       "      <td>35.9815</td>\n",
       "      <td>-78.5392</td>\n",
       "      <td>4</td>\n",
       "    </tr>\n",
       "    <tr>\n",
       "      <th>3</th>\n",
       "      <td>27615</td>\n",
       "      <td>5</td>\n",
       "      <td>7</td>\n",
       "      <td>6289</td>\n",
       "      <td>3</td>\n",
       "      <td>2022</td>\n",
       "      <td>2550000</td>\n",
       "      <td>3577591</td>\n",
       "      <td>526</td>\n",
       "      <td>1027591</td>\n",
       "      <td>35.8887</td>\n",
       "      <td>-78.6393</td>\n",
       "      <td>4</td>\n",
       "    </tr>\n",
       "    <tr>\n",
       "      <th>4</th>\n",
       "      <td>27502</td>\n",
       "      <td>4</td>\n",
       "      <td>6</td>\n",
       "      <td>7266</td>\n",
       "      <td>5</td>\n",
       "      <td>2023</td>\n",
       "      <td>1755900</td>\n",
       "      <td>2598548</td>\n",
       "      <td>273</td>\n",
       "      <td>842648</td>\n",
       "      <td>35.7225</td>\n",
       "      <td>-78.8408</td>\n",
       "      <td>0</td>\n",
       "    </tr>\n",
       "  </tbody>\n",
       "</table>\n",
       "</div>"
      ],
      "text/plain": [
       "     Zip  Bedrooms  Total Baths  SqFt  Acres  Year Built  List Price  \\\n",
       "0  27607         5            8  9376      2        2022     1850000   \n",
       "1  27377         5            7  6983      8        1883     1300000   \n",
       "2  27587         5            5  7200      7        2005     1800000   \n",
       "3  27615         5            7  6289      3        2022     2550000   \n",
       "4  27502         4            6  7266      5        2023     1755900   \n",
       "\n",
       "   Sold Price  Days on Market  Over Asking      Lat      Lon  Cluster  \n",
       "0      324999             344     -1525001  35.8014 -78.6877        0  \n",
       "1     3240000             469      1940000  36.0330 -79.5972        2  \n",
       "2     2900000              52      1100000  35.9815 -78.5392        4  \n",
       "3     3577591             526      1027591  35.8887 -78.6393        4  \n",
       "4     2598548             273       842648  35.7225 -78.8408        0  "
      ]
     },
     "execution_count": 1,
     "metadata": {},
     "output_type": "execute_result"
    }
   ],
   "source": [
    "# Import the Utility Functions\n",
    "import pandas as pd\n",
    "import mls_utils as utils\n",
    "\n",
    "df = pd.read_csv(\"Clean_Data/mls_sfr_cleaned_nostring.csv\")\n",
    "df.head()"
   ]
  },
  {
   "cell_type": "code",
   "execution_count": 2,
   "metadata": {},
   "outputs": [],
   "source": [
    "#Select features and target variables\n",
    "features = ['SqFt', 'Total Baths', 'Bedrooms', 'Year Built', 'Acres', 'Zip', 'Lat', 'Lon', 'Days on Market', 'Over Asking'] # Dropping List Price as it is a direct predictor of Sold Price\n",
    "target = 'Sold Price'"
   ]
  },
  {
   "cell_type": "code",
   "execution_count": 3,
   "metadata": {},
   "outputs": [],
   "source": [
    "#Call the split_data function to split the data into training and testing sets\n",
    "X_train, X_test, y_train, y_test = utils.split_data(df, features, target)"
   ]
  },
  {
   "cell_type": "code",
   "execution_count": 4,
   "metadata": {},
   "outputs": [
    {
     "name": "stdout",
     "output_type": "stream",
     "text": [
      "Decision Tree - Train MSE: 15684457066.888113\n",
      "Decision Tree - Test MSE: 22433937152.572296\n",
      "Decision Tree - Train R2: 0.8205675193545474\n",
      "Decision Tree - Test R2: 0.7373867436161595\n"
     ]
    }
   ],
   "source": [
    "#Build a function to call the Regression Tree Functions within the utils file\n",
    "#dt_regressor = utils.train_decision_tree_model(X_train, y_train)\n",
    "dt_regressor = utils.tune_hyperparameters(X_train, y_train, 'decision_tree')\n",
    "dt_train_mse, dt_test_mse, dt_train_r2, dt_test_r2 = utils.evaluate_model(dt_regressor, X_train, X_test, y_train, y_test)\n",
    "\n",
    "\n",
    "print(f'Decision Tree - Train MSE: {dt_train_mse}')\n",
    "print(f'Decision Tree - Test MSE: {dt_test_mse}')\n",
    "print(f'Decision Tree - Train R2: {dt_train_r2}')\n",
    "print(f'Decision Tree - Test R2: {dt_test_r2}')\n",
    "\n",
    "#utils.visualize_tree(dt_regressor, features)"
   ]
  },
  {
   "cell_type": "code",
   "execution_count": 5,
   "metadata": {},
   "outputs": [
    {
     "name": "stdout",
     "output_type": "stream",
     "text": [
      "Linear Regression - Train MSE: 33135016462.247955\n",
      "Linear Regression - Test MSE: 31553674618.04371\n",
      "Linear Regression - Train R2: 0.6209305700099264\n",
      "Linear Regression - Test R2: 0.6306304512683159\n"
     ]
    }
   ],
   "source": [
    "# Linear Regression Model\n",
    "lr_regressor = utils.train_linear_regression_model(X_train, y_train, alpha=1.0)\n",
    "lr_train_mse, lr_test_mse, lr_train_r2, lr_test_r2 = utils.evaluate_model(lr_regressor, X_train, X_test, y_train, y_test)\n",
    "    \n",
    "print(f'Linear Regression - Train MSE: {lr_train_mse}')\n",
    "print(f'Linear Regression - Test MSE: {lr_test_mse}')\n",
    "print(f'Linear Regression - Train R2: {lr_train_r2}')\n",
    "print(f'Linear Regression - Test R2: {lr_test_r2}')"
   ]
  },
  {
   "cell_type": "code",
   "execution_count": 6,
   "metadata": {},
   "outputs": [
    {
     "name": "stdout",
     "output_type": "stream",
     "text": [
      "Random Forest - Train MSE: 2159500294.7157655\n",
      "Random Forest - Test MSE: 14090617072.805702\n",
      "Random Forest - Train R2: 0.9752950010840054\n",
      "Random Forest - Test R2: 0.8350542390851374\n"
     ]
    }
   ],
   "source": [
    "# Random Forest Model\n",
    "rf_regressor = utils.train_random_forest_model(X_train, y_train, max_depth=50)\n",
    "rf_train_mse, rf_test_mse, rf_train_r2, rf_test_r2 = utils.evaluate_model(rf_regressor, X_train, X_test, y_train, y_test)\n",
    "    \n",
    "print(f'Random Forest - Train MSE: {rf_train_mse}')\n",
    "print(f'Random Forest - Test MSE: {rf_test_mse}')\n",
    "print(f'Random Forest - Train R2: {rf_train_r2}')\n",
    "print(f'Random Forest - Test R2: {rf_test_r2}')"
   ]
  },
  {
   "cell_type": "code",
   "execution_count": 7,
   "metadata": {},
   "outputs": [],
   "source": [
    "#SVM Model\n",
    "#svm_regressor = utils.train_svm_model(X_train, y_train)\n",
    "###svm_regressor = hu.tune_hyperparameters(X_train, y_train, 'svm')\n",
    "#svm_train_mse, svm_test_mse, svm_train_r2, svm_test_r2 = utils.evaluate_model(svm_regressor, X_train, X_test, y_train, y_test)\n",
    "    \n",
    "#print(f'SVM - Train MSE: {svm_train_mse}')\n",
    "#print(f'SVM - Test MSE: {svm_test_mse}')\n",
    "#print(f'SVM - Train R2: {svm_train_r2}')\n",
    "#print(f'SVM - Test R2: {svm_test_r2}')"
   ]
  },
  {
   "cell_type": "code",
   "execution_count": 8,
   "metadata": {},
   "outputs": [
    {
     "name": "stdout",
     "output_type": "stream",
     "text": [
      "KNN - Train MSE: 24567881366.5716\n",
      "KNN - Test MSE: 28992946527.670006\n",
      "KNN - Train R2: 0.718939847327354\n",
      "KNN - Test R2: 0.6606065155655944\n"
     ]
    }
   ],
   "source": [
    "# KNN Model\n",
    "#knn_regressor = utils.train_knn_model(X_train, y_train)\n",
    "knn_regressor = utils.tune_hyperparameters(X_train, y_train, 'knn')\n",
    "knn_train_mse, knn_test_mse, knn_train_r2, knn_test_r2 = utils.evaluate_model(knn_regressor, X_train, X_test, y_train, y_test)\n",
    "\n",
    "print(f'KNN - Train MSE: {knn_train_mse}')\n",
    "print(f'KNN - Test MSE: {knn_test_mse}')\n",
    "print(f'KNN - Train R2: {knn_train_r2}')\n",
    "print(f'KNN - Test R2: {knn_test_r2}')"
   ]
  }
 ],
 "metadata": {
  "kernelspec": {
   "display_name": "dev",
   "language": "python",
   "name": "dev"
  },
  "language_info": {
   "codemirror_mode": {
    "name": "ipython",
    "version": 3
   },
   "file_extension": ".py",
   "mimetype": "text/x-python",
   "name": "python",
   "nbconvert_exporter": "python",
   "pygments_lexer": "ipython3",
   "version": "3.11.9"
  }
 },
 "nbformat": 4,
 "nbformat_minor": 4
}
