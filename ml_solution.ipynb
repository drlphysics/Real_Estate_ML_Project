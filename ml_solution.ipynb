{
 "cells": [
  {
   "cell_type": "code",
   "execution_count": 26,
   "metadata": {},
   "outputs": [
    {
     "data": {
      "text/html": [
       "<div>\n",
       "<style scoped>\n",
       "    .dataframe tbody tr th:only-of-type {\n",
       "        vertical-align: middle;\n",
       "    }\n",
       "\n",
       "    .dataframe tbody tr th {\n",
       "        vertical-align: top;\n",
       "    }\n",
       "\n",
       "    .dataframe thead th {\n",
       "        text-align: right;\n",
       "    }\n",
       "</style>\n",
       "<table border=\"1\" class=\"dataframe\">\n",
       "  <thead>\n",
       "    <tr style=\"text-align: right;\">\n",
       "      <th></th>\n",
       "      <th>Zip</th>\n",
       "      <th>Bedrooms</th>\n",
       "      <th>Total Baths</th>\n",
       "      <th>SqFt</th>\n",
       "      <th>Acres</th>\n",
       "      <th>Year Built</th>\n",
       "      <th>List Price</th>\n",
       "      <th>Sold Price</th>\n",
       "      <th>Days on Market</th>\n",
       "      <th>Over Asking</th>\n",
       "      <th>Lat</th>\n",
       "      <th>Lon</th>\n",
       "      <th>Cluster</th>\n",
       "    </tr>\n",
       "  </thead>\n",
       "  <tbody>\n",
       "    <tr>\n",
       "      <th>0</th>\n",
       "      <td>27607</td>\n",
       "      <td>5</td>\n",
       "      <td>8</td>\n",
       "      <td>9376</td>\n",
       "      <td>2</td>\n",
       "      <td>2022</td>\n",
       "      <td>1850000</td>\n",
       "      <td>324999</td>\n",
       "      <td>344</td>\n",
       "      <td>-1525001</td>\n",
       "      <td>35.8014</td>\n",
       "      <td>-78.6877</td>\n",
       "      <td>0</td>\n",
       "    </tr>\n",
       "    <tr>\n",
       "      <th>1</th>\n",
       "      <td>27377</td>\n",
       "      <td>5</td>\n",
       "      <td>7</td>\n",
       "      <td>6983</td>\n",
       "      <td>8</td>\n",
       "      <td>1883</td>\n",
       "      <td>1300000</td>\n",
       "      <td>3240000</td>\n",
       "      <td>469</td>\n",
       "      <td>1940000</td>\n",
       "      <td>36.0330</td>\n",
       "      <td>-79.5972</td>\n",
       "      <td>2</td>\n",
       "    </tr>\n",
       "    <tr>\n",
       "      <th>2</th>\n",
       "      <td>27587</td>\n",
       "      <td>5</td>\n",
       "      <td>5</td>\n",
       "      <td>7200</td>\n",
       "      <td>7</td>\n",
       "      <td>2005</td>\n",
       "      <td>1800000</td>\n",
       "      <td>2900000</td>\n",
       "      <td>52</td>\n",
       "      <td>1100000</td>\n",
       "      <td>35.9815</td>\n",
       "      <td>-78.5392</td>\n",
       "      <td>4</td>\n",
       "    </tr>\n",
       "    <tr>\n",
       "      <th>3</th>\n",
       "      <td>27615</td>\n",
       "      <td>5</td>\n",
       "      <td>7</td>\n",
       "      <td>6289</td>\n",
       "      <td>3</td>\n",
       "      <td>2022</td>\n",
       "      <td>2550000</td>\n",
       "      <td>3577591</td>\n",
       "      <td>526</td>\n",
       "      <td>1027591</td>\n",
       "      <td>35.8887</td>\n",
       "      <td>-78.6393</td>\n",
       "      <td>4</td>\n",
       "    </tr>\n",
       "    <tr>\n",
       "      <th>4</th>\n",
       "      <td>27502</td>\n",
       "      <td>4</td>\n",
       "      <td>6</td>\n",
       "      <td>7266</td>\n",
       "      <td>5</td>\n",
       "      <td>2023</td>\n",
       "      <td>1755900</td>\n",
       "      <td>2598548</td>\n",
       "      <td>273</td>\n",
       "      <td>842648</td>\n",
       "      <td>35.7225</td>\n",
       "      <td>-78.8408</td>\n",
       "      <td>0</td>\n",
       "    </tr>\n",
       "  </tbody>\n",
       "</table>\n",
       "</div>"
      ],
      "text/plain": [
       "     Zip  Bedrooms  Total Baths  SqFt  Acres  Year Built  List Price  \\\n",
       "0  27607         5            8  9376      2        2022     1850000   \n",
       "1  27377         5            7  6983      8        1883     1300000   \n",
       "2  27587         5            5  7200      7        2005     1800000   \n",
       "3  27615         5            7  6289      3        2022     2550000   \n",
       "4  27502         4            6  7266      5        2023     1755900   \n",
       "\n",
       "   Sold Price  Days on Market  Over Asking      Lat      Lon  Cluster  \n",
       "0      324999             344     -1525001  35.8014 -78.6877        0  \n",
       "1     3240000             469      1940000  36.0330 -79.5972        2  \n",
       "2     2900000              52      1100000  35.9815 -78.5392        4  \n",
       "3     3577591             526      1027591  35.8887 -78.6393        4  \n",
       "4     2598548             273       842648  35.7225 -78.8408        0  "
      ]
     },
     "execution_count": 26,
     "metadata": {},
     "output_type": "execute_result"
    }
   ],
   "source": [
    "# Import the Utility Functions\n",
    "import pandas as pd\n",
    "import mls_utils as utils\n",
    "\n",
    "df = pd.read_csv(\"Clean_Data/mls_sfr_cleaned_nostring.csv\")\n",
    "df.head()"
   ]
  },
  {
   "cell_type": "code",
   "execution_count": 27,
   "metadata": {},
   "outputs": [],
   "source": [
    "#Select features and target variables\n",
    "features = ['SqFt', 'Total Baths', 'Bedrooms', 'Year Built', 'Acres', 'Zip', 'Lat', 'Lon', 'Cluster', 'Days on Market', 'Over Asking'] # Dropping List Price as it is a direct predictor of Sold Price\n",
    "target = 'Sold Price'"
   ]
  },
  {
   "cell_type": "code",
   "execution_count": 28,
   "metadata": {},
   "outputs": [],
   "source": [
    "#Call the split_data function to split the data into training and testing sets\n",
    "X_train, X_test, y_train, y_test = utils.split_data(df, features, target)"
   ]
  },
  {
   "cell_type": "code",
   "execution_count": 29,
   "metadata": {},
   "outputs": [
    {
     "name": "stdout",
     "output_type": "stream",
     "text": [
      "Decision Tree - Train MSE: 783031.5371382446\n",
      "Decision Tree - Test MSE: 28752031182.461483\n",
      "Decision Tree - Train R2: 0.9999910420047992\n",
      "Decision Tree - Test R2: 0.6634266876507601\n"
     ]
    }
   ],
   "source": [
    "#Build a function to call the Regression Tree Functions within the utils file\n",
    "dt_regressor = utils.train_decision_tree_model(X_train, y_train)\n",
    "dt_train_mse, dt_test_mse, dt_train_r2, dt_test_r2 = utils.evaluate_model(dt_regressor, X_train, X_test, y_train, y_test)\n",
    "\n",
    "print(f'Decision Tree - Train MSE: {dt_train_mse}')\n",
    "print(f'Decision Tree - Test MSE: {dt_test_mse}')\n",
    "print(f'Decision Tree - Train R2: {dt_train_r2}')\n",
    "print(f'Decision Tree - Test R2: {dt_test_r2}')\n",
    "\n",
    "#utils.visualize_tree(dt_regressor, features)"
   ]
  },
  {
   "cell_type": "code",
   "execution_count": 30,
   "metadata": {},
   "outputs": [
    {
     "name": "stdout",
     "output_type": "stream",
     "text": [
      "Linear Regression - Train MSE: 32970003866.307724\n",
      "Linear Regression - Test MSE: 31412319786.591965\n",
      "Linear Regression - Train R2: 0.6228183382189904\n",
      "Linear Regression - Test R2: 0.6322851609316562\n"
     ]
    }
   ],
   "source": [
    "# Linear Regression Model\n",
    "lr_regressor = utils.train_linear_regression_model(X_train, y_train)\n",
    "lr_train_mse, lr_test_mse, lr_train_r2, lr_test_r2 = utils.evaluate_model(lr_regressor, X_train, X_test, y_train, y_test)\n",
    "    \n",
    "print(f'Linear Regression - Train MSE: {lr_train_mse}')\n",
    "print(f'Linear Regression - Test MSE: {lr_test_mse}')\n",
    "print(f'Linear Regression - Train R2: {lr_train_r2}')\n",
    "print(f'Linear Regression - Test R2: {lr_test_r2}')"
   ]
  },
  {
   "cell_type": "code",
   "execution_count": 31,
   "metadata": {},
   "outputs": [
    {
     "name": "stdout",
     "output_type": "stream",
     "text": [
      "Random Forest - Train MSE: 2155393502.444209\n",
      "Random Forest - Test MSE: 14074318381.29942\n",
      "Random Forest - Train R2: 0.9753419833876731\n",
      "Random Forest - Test R2: 0.8352450327216778\n"
     ]
    }
   ],
   "source": [
    "# Random Forest Model\n",
    "rf_regressor = utils.train_random_forest_model(X_train, y_train)\n",
    "rf_train_mse, rf_test_mse, rf_train_r2, rf_test_r2 = utils.evaluate_model(rf_regressor, X_train, X_test, y_train, y_test)\n",
    "    \n",
    "print(f'Random Forest - Train MSE: {rf_train_mse}')\n",
    "print(f'Random Forest - Test MSE: {rf_test_mse}')\n",
    "print(f'Random Forest - Train R2: {rf_train_r2}')\n",
    "print(f'Random Forest - Test R2: {rf_test_r2}')"
   ]
  },
  {
   "cell_type": "code",
   "execution_count": 32,
   "metadata": {},
   "outputs": [],
   "source": [
    "# SVM Model\n",
    "#svm_regressor = utils.train_svm_model(X_train, y_train)\n",
    "#svm_train_mse, svm_test_mse, svm_train_r2, svm_test_r2 = utils.evaluate_model(svm_regressor, X_train, X_test, y_train, y_test)\n",
    "    \n",
    "#print(f'SVM - Train MSE: {svm_train_mse}')\n",
    "#print(f'SVM - Test MSE: {svm_test_mse}')\n",
    "#print(f'SVM - Train R2: {svm_train_r2}')\n",
    "#print(f'SVM - Test R2: {svm_test_r2}')"
   ]
  },
  {
   "cell_type": "code",
   "execution_count": 33,
   "metadata": {},
   "outputs": [
    {
     "name": "stdout",
     "output_type": "stream",
     "text": [
      "KNN - Train MSE: 20873315945.890987\n",
      "KNN - Test MSE: 30220564103.13502\n",
      "KNN - Train R2: 0.7612062155868682\n",
      "KNN - Test R2: 0.6462359373253884\n"
     ]
    }
   ],
   "source": [
    "# KNN Model\n",
    "knn_regressor = utils.train_knn_model(X_train, y_train)\n",
    "knn_train_mse, knn_test_mse, knn_train_r2, knn_test_r2 = utils.evaluate_model(knn_regressor, X_train, X_test, y_train, y_test)\n",
    "\n",
    "print(f'KNN - Train MSE: {knn_train_mse}')\n",
    "print(f'KNN - Test MSE: {knn_test_mse}')\n",
    "print(f'KNN - Train R2: {knn_train_r2}')\n",
    "print(f'KNN - Test R2: {knn_test_r2}')"
   ]
  }
 ],
 "metadata": {
  "kernelspec": {
   "display_name": "dev",
   "language": "python",
   "name": "dev"
  },
  "language_info": {
   "codemirror_mode": {
    "name": "ipython",
    "version": 3
   },
   "file_extension": ".py",
   "mimetype": "text/x-python",
   "name": "python",
   "nbconvert_exporter": "python",
   "pygments_lexer": "ipython3",
   "version": "3.11.9"
  }
 },
 "nbformat": 4,
 "nbformat_minor": 4
}
