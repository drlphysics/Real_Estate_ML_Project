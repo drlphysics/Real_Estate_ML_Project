{
 "cells": [
  {
   "cell_type": "code",
   "execution_count": 1,
   "metadata": {},
   "outputs": [
    {
     "data": {
      "text/html": [
       "<div>\n",
       "<style scoped>\n",
       "    .dataframe tbody tr th:only-of-type {\n",
       "        vertical-align: middle;\n",
       "    }\n",
       "\n",
       "    .dataframe tbody tr th {\n",
       "        vertical-align: top;\n",
       "    }\n",
       "\n",
       "    .dataframe thead th {\n",
       "        text-align: right;\n",
       "    }\n",
       "</style>\n",
       "<table border=\"1\" class=\"dataframe\">\n",
       "  <thead>\n",
       "    <tr style=\"text-align: right;\">\n",
       "      <th></th>\n",
       "      <th>Zip</th>\n",
       "      <th>Bedrooms</th>\n",
       "      <th>Total Baths</th>\n",
       "      <th>SqFt</th>\n",
       "      <th>Acres</th>\n",
       "      <th>Year Built</th>\n",
       "      <th>List Price</th>\n",
       "      <th>Sold Price</th>\n",
       "      <th>Days on Market</th>\n",
       "      <th>Over Asking</th>\n",
       "      <th>Lat</th>\n",
       "      <th>Lon</th>\n",
       "      <th>Cluster</th>\n",
       "    </tr>\n",
       "  </thead>\n",
       "  <tbody>\n",
       "    <tr>\n",
       "      <th>0</th>\n",
       "      <td>27516</td>\n",
       "      <td>3</td>\n",
       "      <td>2</td>\n",
       "      <td>1782</td>\n",
       "      <td>1</td>\n",
       "      <td>2013</td>\n",
       "      <td>1000000</td>\n",
       "      <td>1500000</td>\n",
       "      <td>75</td>\n",
       "      <td>500000</td>\n",
       "      <td>35.9162</td>\n",
       "      <td>-79.0999</td>\n",
       "      <td>1</td>\n",
       "    </tr>\n",
       "    <tr>\n",
       "      <th>1</th>\n",
       "      <td>27516</td>\n",
       "      <td>4</td>\n",
       "      <td>4</td>\n",
       "      <td>3157</td>\n",
       "      <td>1</td>\n",
       "      <td>2013</td>\n",
       "      <td>1600000</td>\n",
       "      <td>2000000</td>\n",
       "      <td>15</td>\n",
       "      <td>400000</td>\n",
       "      <td>35.9162</td>\n",
       "      <td>-79.0999</td>\n",
       "      <td>1</td>\n",
       "    </tr>\n",
       "    <tr>\n",
       "      <th>2</th>\n",
       "      <td>27516</td>\n",
       "      <td>3</td>\n",
       "      <td>3</td>\n",
       "      <td>2183</td>\n",
       "      <td>1</td>\n",
       "      <td>2013</td>\n",
       "      <td>1400000</td>\n",
       "      <td>1650000</td>\n",
       "      <td>19</td>\n",
       "      <td>250000</td>\n",
       "      <td>35.9162</td>\n",
       "      <td>-79.0999</td>\n",
       "      <td>1</td>\n",
       "    </tr>\n",
       "    <tr>\n",
       "      <th>3</th>\n",
       "      <td>27516</td>\n",
       "      <td>2</td>\n",
       "      <td>2</td>\n",
       "      <td>1128</td>\n",
       "      <td>5</td>\n",
       "      <td>2013</td>\n",
       "      <td>589900</td>\n",
       "      <td>755000</td>\n",
       "      <td>29</td>\n",
       "      <td>165100</td>\n",
       "      <td>35.9162</td>\n",
       "      <td>-79.0999</td>\n",
       "      <td>1</td>\n",
       "    </tr>\n",
       "    <tr>\n",
       "      <th>4</th>\n",
       "      <td>27612</td>\n",
       "      <td>2</td>\n",
       "      <td>2</td>\n",
       "      <td>1745</td>\n",
       "      <td>1</td>\n",
       "      <td>2006</td>\n",
       "      <td>450000</td>\n",
       "      <td>565000</td>\n",
       "      <td>10</td>\n",
       "      <td>115000</td>\n",
       "      <td>35.8520</td>\n",
       "      <td>-78.6841</td>\n",
       "      <td>0</td>\n",
       "    </tr>\n",
       "  </tbody>\n",
       "</table>\n",
       "</div>"
      ],
      "text/plain": [
       "     Zip  Bedrooms  Total Baths  SqFt  Acres  Year Built  List Price  \\\n",
       "0  27516         3            2  1782      1        2013     1000000   \n",
       "1  27516         4            4  3157      1        2013     1600000   \n",
       "2  27516         3            3  2183      1        2013     1400000   \n",
       "3  27516         2            2  1128      5        2013      589900   \n",
       "4  27612         2            2  1745      1        2006      450000   \n",
       "\n",
       "   Sold Price  Days on Market  Over Asking      Lat      Lon  Cluster  \n",
       "0     1500000              75       500000  35.9162 -79.0999        1  \n",
       "1     2000000              15       400000  35.9162 -79.0999        1  \n",
       "2     1650000              19       250000  35.9162 -79.0999        1  \n",
       "3      755000              29       165100  35.9162 -79.0999        1  \n",
       "4      565000              10       115000  35.8520 -78.6841        0  "
      ]
     },
     "execution_count": 1,
     "metadata": {},
     "output_type": "execute_result"
    }
   ],
   "source": [
    "# Import the Utility Functions\n",
    "import pandas as pd\n",
    "import mls_utils as utils\n",
    "\n",
    "df = pd.read_csv(\"Clean_Data/mls_condo_cleaned_nostring.csv\")\n",
    "df.head()"
   ]
  },
  {
   "cell_type": "code",
   "execution_count": 2,
   "metadata": {},
   "outputs": [],
   "source": [
    "#Select features and target variables\n",
    "features = ['SqFt', 'Total Baths', 'Bedrooms', 'Year Built', 'Acres', 'Zip', 'Lat', 'Lon', 'Days on Market', 'Over Asking'] # Dropping List Price as it is a direct predictor of Sold Price\n",
    "target = 'Sold Price'"
   ]
  },
  {
   "cell_type": "code",
   "execution_count": 3,
   "metadata": {},
   "outputs": [],
   "source": [
    "#Call the split_data function to split the data into training and testing sets\n",
    "X_train, X_test, y_train, y_test = utils.split_data(df, features, target)"
   ]
  },
  {
   "cell_type": "code",
   "execution_count": 4,
   "metadata": {},
   "outputs": [],
   "source": [
    "##Build a function to call the Regression Tree Functions within the utils file\n",
    "##dt_regressor = utils.train_decision_tree_model(X_train, y_train)\n",
    "#dt_regressor = utils.tune_hyperparameters(X_train, y_train, 'decision_tree')\n",
    "#dt_train_mse, dt_test_mse, dt_train_r2, dt_test_r2 = utils.evaluate_model(dt_regressor, X_train, X_test, y_train, y_test)\n",
    "\n",
    "\n",
    "#print(f'Decision Tree - Train MSE: {dt_train_mse}')\n",
    "#print(f'Decision Tree - Test MSE: {dt_test_mse}')\n",
    "#print(f'Decision Tree - Train R2: {dt_train_r2}')\n",
    "#print(f'Decision Tree - Test R2: {dt_test_r2}')\n",
    "\n",
    "##utils.visualize_tree(dt_regressor, features)"
   ]
  },
  {
   "cell_type": "code",
   "execution_count": 5,
   "metadata": {},
   "outputs": [
    {
     "name": "stdout",
     "output_type": "stream",
     "text": [
      "Linear Regression - Train MSE: 22225222795.880047\n",
      "Linear Regression - Test MSE: 17785019248.653816\n",
      "Linear Regression - Train R2: 0.4962308636142828\n",
      "Linear Regression - Test R2: 0.50243035799033\n"
     ]
    }
   ],
   "source": [
    "# Linear Regression Model\n",
    "lr_regressor = utils.train_linear_regression_model(X_train, y_train, alpha=1.0)\n",
    "lr_train_mse, lr_test_mse, lr_train_r2, lr_test_r2 = utils.evaluate_model(lr_regressor, X_train, X_test, y_train, y_test)\n",
    "    \n",
    "print(f'Linear Regression - Train MSE: {lr_train_mse}')\n",
    "print(f'Linear Regression - Test MSE: {lr_test_mse}')\n",
    "print(f'Linear Regression - Train R2: {lr_train_r2}')\n",
    "print(f'Linear Regression - Test R2: {lr_test_r2}')"
   ]
  },
  {
   "cell_type": "code",
   "execution_count": 12,
   "metadata": {},
   "outputs": [
    {
     "name": "stdout",
     "output_type": "stream",
     "text": [
      "Random Forest - Train MSE: 265881.201058201\n",
      "Random Forest - Test MSE: 4881579731.902351\n",
      "Random Forest - Train R2: 0.9999939733903112\n",
      "Random Forest - Test R2: 0.8634285492927896\n"
     ]
    }
   ],
   "source": [
    "# Random Forest Model\n",
    "#rf_regressor = utils.train_random_forest_model(X_train, y_train, max_depth=50)\n",
    "rf_regressor = utils.tune_hyperparameters(X_train, y_train, 'random_forest')\n",
    "rf_train_mse, rf_test_mse, rf_train_r2, rf_test_r2 = utils.evaluate_model(rf_regressor, X_train, X_test, y_train, y_test)\n",
    "    \n",
    "print(f'Random Forest - Train MSE: {rf_train_mse}')\n",
    "print(f'Random Forest - Test MSE: {rf_test_mse}')\n",
    "print(f'Random Forest - Train R2: {rf_train_r2}')\n",
    "print(f'Random Forest - Test R2: {rf_test_r2}')"
   ]
  },
  {
   "cell_type": "code",
   "execution_count": 14,
   "metadata": {},
   "outputs": [
    {
     "name": "stdout",
     "output_type": "stream",
     "text": [
      "SVM - Train MSE: 28024227040.614872\n",
      "SVM - Test MSE: 21465984625.79378\n",
      "SVM - Train R2: 0.364787440657519\n",
      "SVM - Test R2: 0.39944837077138695\n"
     ]
    }
   ],
   "source": [
    "#SVM Model\n",
    "svm_regressor = utils.train_svm_model(X_train, y_train)\n",
    "###svm_regressor = hu.tune_hyperparameters(X_train, y_train, 'svm')\n",
    "svm_train_mse, svm_test_mse, svm_train_r2, svm_test_r2 = utils.evaluate_model(svm_regressor, X_train, X_test, y_train, y_test)\n",
    "    \n",
    "print(f'SVM - Train MSE: {svm_train_mse}')\n",
    "print(f'SVM - Test MSE: {svm_test_mse}')\n",
    "print(f'SVM - Train R2: {svm_train_r2}')\n",
    "print(f'SVM - Test R2: {svm_test_r2}')"
   ]
  },
  {
   "cell_type": "code",
   "execution_count": 15,
   "metadata": {},
   "outputs": [
    {
     "name": "stdout",
     "output_type": "stream",
     "text": [
      "KNN - Train MSE: 18293021598.7155\n",
      "KNN - Test MSE: 18964266938.20683\n",
      "KNN - Train R2: 0.5853603008929803\n",
      "KNN - Test R2: 0.4694386674822618\n"
     ]
    }
   ],
   "source": [
    "# KNN Model\n",
    "#knn_regressor = utils.train_knn_model(X_train, y_train)\n",
    "knn_regressor = utils.tune_hyperparameters(X_train, y_train, 'knn')\n",
    "knn_train_mse, knn_test_mse, knn_train_r2, knn_test_r2 = utils.evaluate_model(knn_regressor, X_train, X_test, y_train, y_test)\n",
    "\n",
    "print(f'KNN - Train MSE: {knn_train_mse}')\n",
    "print(f'KNN - Test MSE: {knn_test_mse}')\n",
    "print(f'KNN - Train R2: {knn_train_r2}')\n",
    "print(f'KNN - Test R2: {knn_test_r2}')"
   ]
  }
 ],
 "metadata": {
  "kernelspec": {
   "display_name": "dev",
   "language": "python",
   "name": "dev"
  },
  "language_info": {
   "codemirror_mode": {
    "name": "ipython",
    "version": 3
   },
   "file_extension": ".py",
   "mimetype": "text/x-python",
   "name": "python",
   "nbconvert_exporter": "python",
   "pygments_lexer": "ipython3",
   "version": "3.10.13"
  }
 },
 "nbformat": 4,
 "nbformat_minor": 4
}
