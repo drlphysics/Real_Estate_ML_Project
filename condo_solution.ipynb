{
 "cells": [
  {
   "cell_type": "code",
   "execution_count": 67,
   "metadata": {},
   "outputs": [
    {
     "data": {
      "text/html": [
       "<div>\n",
       "<style scoped>\n",
       "    .dataframe tbody tr th:only-of-type {\n",
       "        vertical-align: middle;\n",
       "    }\n",
       "\n",
       "    .dataframe tbody tr th {\n",
       "        vertical-align: top;\n",
       "    }\n",
       "\n",
       "    .dataframe thead th {\n",
       "        text-align: right;\n",
       "    }\n",
       "</style>\n",
       "<table border=\"1\" class=\"dataframe\">\n",
       "  <thead>\n",
       "    <tr style=\"text-align: right;\">\n",
       "      <th></th>\n",
       "      <th>Mortgage Rates</th>\n",
       "      <th>Zip</th>\n",
       "      <th>Bedrooms</th>\n",
       "      <th>Total Baths</th>\n",
       "      <th>SqFt</th>\n",
       "      <th>Acres</th>\n",
       "      <th>Year Built</th>\n",
       "      <th>List Price</th>\n",
       "      <th>Sold Price</th>\n",
       "      <th>Days on Market</th>\n",
       "      <th>Over Asking</th>\n",
       "      <th>Lat</th>\n",
       "      <th>Lon</th>\n",
       "      <th>Cluster</th>\n",
       "    </tr>\n",
       "  </thead>\n",
       "  <tbody>\n",
       "    <tr>\n",
       "      <th>0</th>\n",
       "      <td>2.65</td>\n",
       "      <td>27244</td>\n",
       "      <td>3</td>\n",
       "      <td>2</td>\n",
       "      <td>1166</td>\n",
       "      <td>1</td>\n",
       "      <td>1986</td>\n",
       "      <td>180000</td>\n",
       "      <td>197500</td>\n",
       "      <td>21</td>\n",
       "      <td>17500</td>\n",
       "      <td>36.1029</td>\n",
       "      <td>-79.5067</td>\n",
       "      <td>2</td>\n",
       "    </tr>\n",
       "    <tr>\n",
       "      <th>1</th>\n",
       "      <td>2.65</td>\n",
       "      <td>27601</td>\n",
       "      <td>2</td>\n",
       "      <td>2</td>\n",
       "      <td>1251</td>\n",
       "      <td>1</td>\n",
       "      <td>2018</td>\n",
       "      <td>575500</td>\n",
       "      <td>587702</td>\n",
       "      <td>914</td>\n",
       "      <td>12202</td>\n",
       "      <td>35.7727</td>\n",
       "      <td>-78.6324</td>\n",
       "      <td>0</td>\n",
       "    </tr>\n",
       "    <tr>\n",
       "      <th>2</th>\n",
       "      <td>2.65</td>\n",
       "      <td>27601</td>\n",
       "      <td>2</td>\n",
       "      <td>2</td>\n",
       "      <td>1251</td>\n",
       "      <td>1</td>\n",
       "      <td>2018</td>\n",
       "      <td>535000</td>\n",
       "      <td>543546</td>\n",
       "      <td>1072</td>\n",
       "      <td>8546</td>\n",
       "      <td>35.7727</td>\n",
       "      <td>-78.6324</td>\n",
       "      <td>0</td>\n",
       "    </tr>\n",
       "    <tr>\n",
       "      <th>3</th>\n",
       "      <td>2.65</td>\n",
       "      <td>27511</td>\n",
       "      <td>2</td>\n",
       "      <td>2</td>\n",
       "      <td>1631</td>\n",
       "      <td>1</td>\n",
       "      <td>2019</td>\n",
       "      <td>450000</td>\n",
       "      <td>455904</td>\n",
       "      <td>1045</td>\n",
       "      <td>5904</td>\n",
       "      <td>35.7641</td>\n",
       "      <td>-78.7786</td>\n",
       "      <td>0</td>\n",
       "    </tr>\n",
       "    <tr>\n",
       "      <th>4</th>\n",
       "      <td>2.65</td>\n",
       "      <td>27609</td>\n",
       "      <td>2</td>\n",
       "      <td>2</td>\n",
       "      <td>942</td>\n",
       "      <td>1</td>\n",
       "      <td>1972</td>\n",
       "      <td>120000</td>\n",
       "      <td>125200</td>\n",
       "      <td>36</td>\n",
       "      <td>5200</td>\n",
       "      <td>35.8480</td>\n",
       "      <td>-78.6317</td>\n",
       "      <td>3</td>\n",
       "    </tr>\n",
       "  </tbody>\n",
       "</table>\n",
       "</div>"
      ],
      "text/plain": [
       "   Mortgage Rates    Zip  Bedrooms  Total Baths  SqFt  Acres  Year Built  \\\n",
       "0            2.65  27244         3            2  1166      1        1986   \n",
       "1            2.65  27601         2            2  1251      1        2018   \n",
       "2            2.65  27601         2            2  1251      1        2018   \n",
       "3            2.65  27511         2            2  1631      1        2019   \n",
       "4            2.65  27609         2            2   942      1        1972   \n",
       "\n",
       "   List Price  Sold Price  Days on Market  Over Asking      Lat      Lon  \\\n",
       "0      180000      197500              21        17500  36.1029 -79.5067   \n",
       "1      575500      587702             914        12202  35.7727 -78.6324   \n",
       "2      535000      543546            1072         8546  35.7727 -78.6324   \n",
       "3      450000      455904            1045         5904  35.7641 -78.7786   \n",
       "4      120000      125200              36         5200  35.8480 -78.6317   \n",
       "\n",
       "   Cluster  \n",
       "0        2  \n",
       "1        0  \n",
       "2        0  \n",
       "3        0  \n",
       "4        3  "
      ]
     },
     "execution_count": 67,
     "metadata": {},
     "output_type": "execute_result"
    }
   ],
   "source": [
    "# Import the Utility Functions\n",
    "import pandas as pd\n",
    "import mls_utils as utils\n",
    "from sklearn.ensemble import RandomForestRegressor\n",
    "from sklearn.preprocessing import StandardScaler\n",
    "\n",
    "df = pd.read_csv(\"Clean_Data/mls_condo_cleaned_nostring.csv\")\n",
    "df.head()"
   ]
  },
  {
   "cell_type": "code",
   "execution_count": 68,
   "metadata": {},
   "outputs": [],
   "source": [
    "#Select features and target variables\n",
    "features = ['Mortgage Rates', 'SqFt', 'Total Baths', 'Bedrooms', 'Year Built', 'Acres', 'Zip', 'Lat', 'Lon', 'Days on Market', 'Over Asking'] # Dropping List Price as it is a direct predictor of Sold Price\n",
    "target = 'Sold Price'"
   ]
  },
  {
   "cell_type": "code",
   "execution_count": 69,
   "metadata": {},
   "outputs": [],
   "source": [
    "#Call the split_data function to split the data into training and testing sets\n",
    "X_train, X_test, y_train, y_test = utils.split_data(df, features, target)\n",
    "#X_train_scaled, X_test_scaled = utils.scale_data(X_train, X_test)\n",
    "scaler = StandardScaler()\n",
    "X_train_scaled = scaler.fit_transform(X_train)\n",
    "X_test_scaled = scaler.transform(X_test)"
   ]
  },
  {
   "cell_type": "code",
   "execution_count": 4,
   "metadata": {},
   "outputs": [],
   "source": [
    "##Build a function to call the Regression Tree Functions within the utils file\n",
    "##dt_regressor = utils.train_decision_tree_model(X_train, y_train)\n",
    "#dt_regressor = utils.tune_hyperparameters(X_train, y_train, 'decision_tree')\n",
    "#dt_train_mse, dt_test_mse, dt_train_r2, dt_test_r2 = utils.evaluate_model(dt_regressor, X_train, X_test, y_train, y_test)\n",
    "\n",
    "\n",
    "#print(f'Decision Tree - Train MSE: {dt_train_mse}')\n",
    "#print(f'Decision Tree - Test MSE: {dt_test_mse}')\n",
    "#print(f'Decision Tree - Train R2: {dt_train_r2}')\n",
    "#print(f'Decision Tree - Test R2: {dt_test_r2}')\n",
    "\n",
    "##utils.visualize_tree(dt_regressor, features)"
   ]
  },
  {
   "cell_type": "code",
   "execution_count": 21,
   "metadata": {},
   "outputs": [
    {
     "name": "stdout",
     "output_type": "stream",
     "text": [
      "Linear Regression - Train MSE: 21010313827.370358\n",
      "Linear Regression - Test MSE: 16739038085.322855\n",
      "Linear Regression - Train R2: 0.5203642983172683\n",
      "Linear Regression - Test R2: 0.5477509020465383\n"
     ]
    }
   ],
   "source": [
    "# Linear Regression Model\n",
    "lr_regressor = utils.train_linear_regression_model(X_train_scaled, y_train, alpha=1.0)\n",
    "lr_train_mse, lr_test_mse, lr_train_ae, lr_test_ae, lr_train_r2, lr_test_r2 = utils.evaluate_model(lr_regressor, X_train_scaled, X_test_scaled, y_train, y_test)\n",
    "    \n",
    "print(f'Linear Regression - Train MSE: {lr_train_mse}')\n",
    "print(f'Linear Regression - Test MSE: {lr_test_mse}')\n",
    "print(f'Linear Regression - Train R2: {lr_train_r2}')\n",
    "print(f'Linear Regression - Test R2: {lr_test_r2}')"
   ]
  },
  {
   "cell_type": "code",
   "execution_count": 89,
   "metadata": {},
   "outputs": [
    {
     "name": "stdout",
     "output_type": "stream",
     "text": [
      "Random Forest - Train MSE: 870881400.9801553\n",
      "Random Forest - Test MSE: 5706374282.726652\n",
      "Random Forest - Train R2: 0.9801190112973274\n",
      "Random Forest - Test R2: 0.845827304484672\n"
     ]
    }
   ],
   "source": [
    "# Random Forest Model\n",
    "#rf_regressor = utils.train_random_forest_model(X_train, y_train, n_estimators = 1000, max_features = 0.25)\n",
    "rf_regressor = RandomForestRegressor(n_estimators=200, max_features=0.25)\n",
    "rf_regressor.fit(X_train_scaled, y_train)\n",
    "#rf_regressor = utils.tune_hyperparameters(X_train, y_train, 'random_forest')\n",
    "rf_train_mse, rf_test_mse, rf_train_r2, rf_test_r2 = utils.evaluate_model(rf_regressor, X_train_scaled, X_test_scaled, y_train, y_test)\n",
    "    \n",
    "print(f'Random Forest - Train MSE: {rf_train_mse}')\n",
    "print(f'Random Forest - Test MSE: {rf_test_mse}')\n",
    "print(f'Random Forest - Train R2: {rf_train_r2}')\n",
    "print(f'Random Forest - Test R2: {rf_test_r2}')\n"
   ]
  },
  {
   "cell_type": "code",
   "execution_count": 23,
   "metadata": {},
   "outputs": [
    {
     "name": "stdout",
     "output_type": "stream",
     "text": [
      "SVM - Train MSE: 27643715076.747105\n",
      "SVM - Test MSE: 21071116550.841335\n",
      "SVM - Train R2: 0.3689331446025056\n",
      "SVM - Test R2: 0.4307084191805607\n"
     ]
    }
   ],
   "source": [
    "#SVM Model\n",
    "svm_regressor = utils.train_svm_model(X_train, y_train)\n",
    "###svm_regressor = hu.tune_hyperparameters(X_train, y_train, 'svm')\n",
    "svm_train_mse, svm_test_mse, svm_train_r2, svm_test_r2 = utils.evaluate_model(svm_regressor, X_train, X_test, y_train, y_test)\n",
    "    \n",
    "print(f'SVM - Train MSE: {svm_train_mse}')\n",
    "print(f'SVM - Test MSE: {svm_test_mse}')\n",
    "print(f'SVM - Train R2: {svm_train_r2}')\n",
    "print(f'SVM - Test R2: {svm_test_r2}')"
   ]
  },
  {
   "cell_type": "code",
   "execution_count": 24,
   "metadata": {},
   "outputs": [
    {
     "name": "stdout",
     "output_type": "stream",
     "text": [
      "KNN - Train MSE: 15542847601.572077\n",
      "KNN - Test MSE: 21920947663.009037\n",
      "KNN - Train R2: 0.6451788070953893\n",
      "KNN - Test R2: 0.40774799863957256\n"
     ]
    }
   ],
   "source": [
    "# KNN Model\n",
    "#knn_regressor = utils.train_knn_model(X_train, y_train)\n",
    "knn_regressor = utils.tune_hyperparameters(X_train, y_train, 'knn')\n",
    "knn_train_mse, knn_test_mse, knn_train_r2, knn_test_r2 = utils.evaluate_model(knn_regressor, X_train, X_test, y_train, y_test)\n",
    "\n",
    "print(f'KNN - Train MSE: {knn_train_mse}')\n",
    "print(f'KNN - Test MSE: {knn_test_mse}')\n",
    "print(f'KNN - Train R2: {knn_train_r2}')\n",
    "print(f'KNN - Test R2: {knn_test_r2}')"
   ]
  }
 ],
 "metadata": {
  "kernelspec": {
   "display_name": "dev",
   "language": "python",
   "name": "dev"
  },
  "language_info": {
   "codemirror_mode": {
    "name": "ipython",
    "version": 3
   },
   "file_extension": ".py",
   "mimetype": "text/x-python",
   "name": "python",
   "nbconvert_exporter": "python",
   "pygments_lexer": "ipython3",
   "version": "3.11.9"
  }
 },
 "nbformat": 4,
 "nbformat_minor": 4
}
