{
 "cells": [
  {
   "cell_type": "code",
   "execution_count": 1,
   "metadata": {},
   "outputs": [
    {
     "data": {
      "text/html": [
       "<div>\n",
       "<style scoped>\n",
       "    .dataframe tbody tr th:only-of-type {\n",
       "        vertical-align: middle;\n",
       "    }\n",
       "\n",
       "    .dataframe tbody tr th {\n",
       "        vertical-align: top;\n",
       "    }\n",
       "\n",
       "    .dataframe thead th {\n",
       "        text-align: right;\n",
       "    }\n",
       "</style>\n",
       "<table border=\"1\" class=\"dataframe\">\n",
       "  <thead>\n",
       "    <tr style=\"text-align: right;\">\n",
       "      <th></th>\n",
       "      <th>MLS #</th>\n",
       "      <th>City</th>\n",
       "      <th>Zip</th>\n",
       "      <th>Bedrooms</th>\n",
       "      <th>Total Baths</th>\n",
       "      <th>SqFt</th>\n",
       "      <th>Acres</th>\n",
       "      <th>Year Built</th>\n",
       "      <th>List Date</th>\n",
       "      <th>Closing Date</th>\n",
       "      <th>List Price</th>\n",
       "      <th>Sold Price</th>\n",
       "      <th>Days on Market</th>\n",
       "      <th>Over Asking</th>\n",
       "      <th>Lat</th>\n",
       "      <th>Lon</th>\n",
       "      <th>Cluster</th>\n",
       "      <th>Price per SqFt</th>\n",
       "    </tr>\n",
       "  </thead>\n",
       "  <tbody>\n",
       "    <tr>\n",
       "      <th>0</th>\n",
       "      <td>2372641</td>\n",
       "      <td>Raleigh</td>\n",
       "      <td>27607</td>\n",
       "      <td>5</td>\n",
       "      <td>8</td>\n",
       "      <td>9376</td>\n",
       "      <td>2</td>\n",
       "      <td>2022</td>\n",
       "      <td>2021-03-16</td>\n",
       "      <td>2022-02-23</td>\n",
       "      <td>1850000</td>\n",
       "      <td>324999</td>\n",
       "      <td>344</td>\n",
       "      <td>-1525001</td>\n",
       "      <td>35.8014</td>\n",
       "      <td>-78.6877</td>\n",
       "      <td>2</td>\n",
       "      <td>34.662863</td>\n",
       "    </tr>\n",
       "    <tr>\n",
       "      <th>1</th>\n",
       "      <td>2410217</td>\n",
       "      <td>Whitsett</td>\n",
       "      <td>27377</td>\n",
       "      <td>5</td>\n",
       "      <td>7</td>\n",
       "      <td>6983</td>\n",
       "      <td>8</td>\n",
       "      <td>1883</td>\n",
       "      <td>2021-09-27</td>\n",
       "      <td>2023-01-09</td>\n",
       "      <td>1300000</td>\n",
       "      <td>3240000</td>\n",
       "      <td>469</td>\n",
       "      <td>1940000</td>\n",
       "      <td>36.0330</td>\n",
       "      <td>-79.5972</td>\n",
       "      <td>1</td>\n",
       "      <td>463.983961</td>\n",
       "    </tr>\n",
       "    <tr>\n",
       "      <th>2</th>\n",
       "      <td>2375877</td>\n",
       "      <td>Wake Forest</td>\n",
       "      <td>27587</td>\n",
       "      <td>5</td>\n",
       "      <td>5</td>\n",
       "      <td>7200</td>\n",
       "      <td>7</td>\n",
       "      <td>2005</td>\n",
       "      <td>2021-04-05</td>\n",
       "      <td>2021-05-27</td>\n",
       "      <td>1800000</td>\n",
       "      <td>2900000</td>\n",
       "      <td>52</td>\n",
       "      <td>1100000</td>\n",
       "      <td>35.9815</td>\n",
       "      <td>-78.5392</td>\n",
       "      <td>2</td>\n",
       "      <td>402.777778</td>\n",
       "    </tr>\n",
       "    <tr>\n",
       "      <th>3</th>\n",
       "      <td>2378933</td>\n",
       "      <td>Raleigh</td>\n",
       "      <td>27615</td>\n",
       "      <td>5</td>\n",
       "      <td>7</td>\n",
       "      <td>6289</td>\n",
       "      <td>3</td>\n",
       "      <td>2022</td>\n",
       "      <td>2021-04-20</td>\n",
       "      <td>2022-09-28</td>\n",
       "      <td>2550000</td>\n",
       "      <td>3577591</td>\n",
       "      <td>526</td>\n",
       "      <td>1027591</td>\n",
       "      <td>35.8887</td>\n",
       "      <td>-78.6393</td>\n",
       "      <td>2</td>\n",
       "      <td>568.864843</td>\n",
       "    </tr>\n",
       "    <tr>\n",
       "      <th>4</th>\n",
       "      <td>2495996</td>\n",
       "      <td>Apex</td>\n",
       "      <td>27502</td>\n",
       "      <td>4</td>\n",
       "      <td>6</td>\n",
       "      <td>7266</td>\n",
       "      <td>5</td>\n",
       "      <td>2023</td>\n",
       "      <td>2023-02-21</td>\n",
       "      <td>2023-11-21</td>\n",
       "      <td>1755900</td>\n",
       "      <td>2598548</td>\n",
       "      <td>273</td>\n",
       "      <td>842648</td>\n",
       "      <td>35.7225</td>\n",
       "      <td>-78.8408</td>\n",
       "      <td>4</td>\n",
       "      <td>357.631159</td>\n",
       "    </tr>\n",
       "  </tbody>\n",
       "</table>\n",
       "</div>"
      ],
      "text/plain": [
       "     MLS #         City    Zip  Bedrooms  Total Baths  SqFt  Acres  \\\n",
       "0  2372641      Raleigh  27607         5            8  9376      2   \n",
       "1  2410217     Whitsett  27377         5            7  6983      8   \n",
       "2  2375877  Wake Forest  27587         5            5  7200      7   \n",
       "3  2378933      Raleigh  27615         5            7  6289      3   \n",
       "4  2495996         Apex  27502         4            6  7266      5   \n",
       "\n",
       "   Year Built   List Date Closing Date  List Price  Sold Price  \\\n",
       "0        2022  2021-03-16   2022-02-23     1850000      324999   \n",
       "1        1883  2021-09-27   2023-01-09     1300000     3240000   \n",
       "2        2005  2021-04-05   2021-05-27     1800000     2900000   \n",
       "3        2022  2021-04-20   2022-09-28     2550000     3577591   \n",
       "4        2023  2023-02-21   2023-11-21     1755900     2598548   \n",
       "\n",
       "   Days on Market  Over Asking      Lat      Lon  Cluster  Price per SqFt  \n",
       "0             344     -1525001  35.8014 -78.6877        2       34.662863  \n",
       "1             469      1940000  36.0330 -79.5972        1      463.983961  \n",
       "2              52      1100000  35.9815 -78.5392        2      402.777778  \n",
       "3             526      1027591  35.8887 -78.6393        2      568.864843  \n",
       "4             273       842648  35.7225 -78.8408        4      357.631159  "
      ]
     },
     "execution_count": 1,
     "metadata": {},
     "output_type": "execute_result"
    }
   ],
   "source": [
    "# Import the Utility Functions\n",
    "import pandas as pd\n",
    "import numpy as np\n",
    "import mls_utils as utils\n",
    "\n",
    "df = pd.read_csv(\"Clean_Data/mls_sfr_cleaned.csv\")\n",
    "df.head()"
   ]
  },
  {
   "cell_type": "code",
   "execution_count": 2,
   "metadata": {},
   "outputs": [],
   "source": [
    "#Select features and target variables\n",
    "features = ['Total Baths', 'Bedrooms', 'Year Built', 'Acres', 'Zip', 'Lat', 'Lon', 'Days on Market', 'Over Asking', 'SqFt', 'Cluster'] # Dropping List Price as it is a direct predictor of Sold Price\n",
    "target = 'Sold Price'"
   ]
  },
  {
   "cell_type": "code",
   "execution_count": 3,
   "metadata": {},
   "outputs": [],
   "source": [
    "# Split the data\n",
    "X_train, X_test, y_train, y_test = utils.split_data(df, features, target)\n",
    "\n",
    "# Scale the data\n",
    "X_train_scaled, X_test_scaled = utils.scale_data(X_train, X_test)"
   ]
  },
  {
   "cell_type": "code",
   "execution_count": 4,
   "metadata": {},
   "outputs": [],
   "source": [
    "# Feature selection\n",
    "selected_features = utils.select_features(X_train_scaled, y_train)\n",
    "X_train_selected = X_train_scaled[:, selected_features]\n",
    "X_test_selected = X_test_scaled[:, selected_features]"
   ]
  },
  {
   "cell_type": "code",
   "execution_count": 5,
   "metadata": {},
   "outputs": [
    {
     "name": "stdout",
     "output_type": "stream",
     "text": [
      "Ridge Regression - Train MSE: 33506226646.672127, Test MSE: 31129120337.533405\n",
      "Ridge Regression - Train R2: 0.6188316163995848, Test R2: 0.6335148152426853\n"
     ]
    }
   ],
   "source": [
    "# Ridge Regression\n",
    "ridge_model = utils.tune_hyperparameters(X_train_selected, y_train, 'ridge')\n",
    "ridge_train_mse, ridge_test_mse, ridge_train_r2, ridge_test_r2 = utils.evaluate_model(ridge_model, X_train_selected, X_test_selected, y_train, y_test)\n",
    "\n",
    "print(f'Ridge Regression - Train MSE: {ridge_train_mse}')\n",
    "print(f'Ridge Regression - Test MSE: {ridge_test_mse}')\n",
    "print(f'Ridge Regression - Train R2: {ridge_train_r2}')\n",
    "print(f'Ridge Regression - Test R2: {ridge_test_r2}')"
   ]
  },
  {
   "cell_type": "code",
   "execution_count": 6,
   "metadata": {},
   "outputs": [
    {
     "name": "stdout",
     "output_type": "stream",
     "text": [
      "Lasso Regression - Train MSE: 33506226247.64209, Test MSE: 31128971052.934685\n",
      "Lasso Regression - Train R2: 0.618831620938969, Test R2: 0.633516572780102\n"
     ]
    }
   ],
   "source": [
    "# Lasso Regression\n",
    "lasso_model = utils.tune_hyperparameters(X_train_selected, y_train, 'lasso')\n",
    "lasso_train_mse, lasso_test_mse, lasso_train_r2, lasso_test_r2 = utils.evaluate_model(lasso_model, X_train_selected, X_test_selected, y_train, y_test)\n",
    "\n",
    "print(f'Lasso Regression - Train MSE: {lasso_train_mse}')\n",
    "print(f'Lasso Regression - Test MSE: {lasso_test_mse}')\n",
    "print(f'Lasso Regression - Train R2: {lasso_train_r2}')\n",
    "print(f'Lasso Regression - Test R2: {lasso_test_r2}')\n"
   ]
  },
  {
   "cell_type": "code",
   "execution_count": 7,
   "metadata": {},
   "outputs": [
    {
     "name": "stdout",
     "output_type": "stream",
     "text": [
      "Decision Tree Regressor - Train MSE: 11624255842.348106, Test MSE: 19991821990.906593\n",
      "Decision Tree Regressor - Train R2: 0.8677619280526898, Test R2: 0.7646349624875619\n"
     ]
    }
   ],
   "source": [
    "# Decision Tree Regressor\n",
    "dt_model = utils.tune_hyperparameters(X_train_selected, y_train, 'decision_tree')\n",
    "dt_train_mse, dt_test_mse, dt_train_r2, dt_test_r2 = utils.evaluate_model(dt_model, X_train_selected, X_test_selected, y_train, y_test)\n",
    "\n",
    "print(f'Decision Tree Regressor - Train MSE: {dt_train_mse}')\n",
    "print(f'Decision Tree Regressor - Test MSE: {dt_test_mse}')\n",
    "print(f'Decision Tree Regressor - Train R2: {dt_train_r2}')\n",
    "print(f'Decision Tree Regressor - Test R2: {dt_test_r2}')"
   ]
  },
  {
   "cell_type": "code",
   "execution_count": 8,
   "metadata": {},
   "outputs": [],
   "source": [
    "# Random Forest Regressor\n",
    "rf_model = utils.tune_hyperparameters(X_train_selected, y_train, 'random_forest')\n",
    "rf_train_mse, rf_test_mse, rf_train_r2, rf_test_r2 = utils.evaluate_model(rf_model, X_train_selected, X_test_selected, y_train, y_test)\n",
    "\n",
    "print(f'Random Forest Regressor - Train MSE: {rf_train_mse}, Test MSE: {rf_test_mse}')\n",
    "print(f'Random Forest Regressor - Train R2: {rf_train_r2}, Test R2: {rf_test_r2}')"
   ]
  },
  {
   "cell_type": "code",
   "execution_count": null,
   "metadata": {},
   "outputs": [],
   "source": [
    "# Support Vector Regressor\n",
    "svr_model = utils.tune_hyperparameters(X_train_selected, y_train, 'svm')\n",
    "svr_train_mse, svr_test_mse, svr_train_r2, svr_test_r2 = utils.evaluate_model(svr_model, X_train_selected, X_test_selected, y_train, y_test)\n",
    "\n",
    "print(f'Support Vector Regressor - Train MSE: {svr_train_mse}, Test MSE: {svr_test_mse}')\n",
    "print(f'Support Vector Regressor - Train R2: {svr_train_r2}, Test R2: {svr_test_r2}')\n",
    "\n"
   ]
  },
  {
   "cell_type": "code",
   "execution_count": null,
   "metadata": {},
   "outputs": [],
   "source": [
    "# K-Nearest Neighbors Regressor\n",
    "knn_model = utils.tune_hyperparameters(X_train_selected, y_train, 'knn')\n",
    "knn_train_mse, knn_test_mse, knn_train_r2, knn_test_r2 = utils.evaluate_model(knn_model, X_train_selected, X_test_selected, y_train, y_test)\n",
    "\n",
    "print(f'K-Nearest Neighbors Regressor - Train MSE: {knn_train_mse}, Test MSE: {knn_test_mse}')\n",
    "print(f'K-Nearest Neighbors Regressor - Train R2: {knn_train_r2}, Test R2: {knn_test_r2}')\n"
   ]
  }
 ],
 "metadata": {
  "kernelspec": {
   "display_name": "dev",
   "language": "python",
   "name": "dev"
  },
  "language_info": {
   "codemirror_mode": {
    "name": "ipython",
    "version": 3
   },
   "file_extension": ".py",
   "mimetype": "text/x-python",
   "name": "python",
   "nbconvert_exporter": "python",
   "pygments_lexer": "ipython3",
   "version": "3.11.9"
  }
 },
 "nbformat": 4,
 "nbformat_minor": 4
}
