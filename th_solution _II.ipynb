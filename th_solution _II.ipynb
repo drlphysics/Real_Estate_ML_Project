{
 "cells": [
  {
   "cell_type": "code",
   "execution_count": 1,
   "metadata": {},
   "outputs": [
    {
     "data": {
      "text/html": [
       "<div>\n",
       "<style scoped>\n",
       "    .dataframe tbody tr th:only-of-type {\n",
       "        vertical-align: middle;\n",
       "    }\n",
       "\n",
       "    .dataframe tbody tr th {\n",
       "        vertical-align: top;\n",
       "    }\n",
       "\n",
       "    .dataframe thead th {\n",
       "        text-align: right;\n",
       "    }\n",
       "</style>\n",
       "<table border=\"1\" class=\"dataframe\">\n",
       "  <thead>\n",
       "    <tr style=\"text-align: right;\">\n",
       "      <th></th>\n",
       "      <th>Zip</th>\n",
       "      <th>Bedrooms</th>\n",
       "      <th>Total Baths</th>\n",
       "      <th>SqFt</th>\n",
       "      <th>Acres</th>\n",
       "      <th>Year Built</th>\n",
       "      <th>List Date</th>\n",
       "      <th>Closing Date</th>\n",
       "      <th>List Price</th>\n",
       "      <th>Sold Price</th>\n",
       "      <th>...</th>\n",
       "      <th>Cluster</th>\n",
       "      <th>Price per SqFt</th>\n",
       "      <th>List Year</th>\n",
       "      <th>List Month</th>\n",
       "      <th>Closing Year</th>\n",
       "      <th>Closing Month</th>\n",
       "      <th>Price Increase Percentage</th>\n",
       "      <th>Age of Property</th>\n",
       "      <th>Geo Cluster</th>\n",
       "      <th>Log Sold Price</th>\n",
       "    </tr>\n",
       "  </thead>\n",
       "  <tbody>\n",
       "    <tr>\n",
       "      <th>0</th>\n",
       "      <td>27511</td>\n",
       "      <td>4</td>\n",
       "      <td>4</td>\n",
       "      <td>2.740721</td>\n",
       "      <td>-0.087844</td>\n",
       "      <td>1985</td>\n",
       "      <td>2023-05-08</td>\n",
       "      <td>2023-06-12</td>\n",
       "      <td>2.534087</td>\n",
       "      <td>2.557287</td>\n",
       "      <td>...</td>\n",
       "      <td>2</td>\n",
       "      <td>0.229471</td>\n",
       "      <td>2023</td>\n",
       "      <td>5</td>\n",
       "      <td>2023</td>\n",
       "      <td>6</td>\n",
       "      <td>-0.140416</td>\n",
       "      <td>1.941299</td>\n",
       "      <td>2</td>\n",
       "      <td>1.268998</td>\n",
       "    </tr>\n",
       "    <tr>\n",
       "      <th>1</th>\n",
       "      <td>27517</td>\n",
       "      <td>4</td>\n",
       "      <td>5</td>\n",
       "      <td>2.740721</td>\n",
       "      <td>-0.087844</td>\n",
       "      <td>2004</td>\n",
       "      <td>2022-04-25</td>\n",
       "      <td>2022-06-07</td>\n",
       "      <td>2.534087</td>\n",
       "      <td>2.557287</td>\n",
       "      <td>...</td>\n",
       "      <td>1</td>\n",
       "      <td>2.605393</td>\n",
       "      <td>2022</td>\n",
       "      <td>4</td>\n",
       "      <td>2022</td>\n",
       "      <td>6</td>\n",
       "      <td>-0.140416</td>\n",
       "      <td>0.457788</td>\n",
       "      <td>3</td>\n",
       "      <td>1.268998</td>\n",
       "    </tr>\n",
       "    <tr>\n",
       "      <th>2</th>\n",
       "      <td>27707</td>\n",
       "      <td>3</td>\n",
       "      <td>5</td>\n",
       "      <td>2.198993</td>\n",
       "      <td>-0.087844</td>\n",
       "      <td>2020</td>\n",
       "      <td>2020-05-22</td>\n",
       "      <td>2021-08-05</td>\n",
       "      <td>2.199023</td>\n",
       "      <td>2.557287</td>\n",
       "      <td>...</td>\n",
       "      <td>1</td>\n",
       "      <td>1.695578</td>\n",
       "      <td>2020</td>\n",
       "      <td>5</td>\n",
       "      <td>2021</td>\n",
       "      <td>8</td>\n",
       "      <td>1.034598</td>\n",
       "      <td>-0.803197</td>\n",
       "      <td>3</td>\n",
       "      <td>1.268998</td>\n",
       "    </tr>\n",
       "    <tr>\n",
       "      <th>3</th>\n",
       "      <td>27511</td>\n",
       "      <td>3</td>\n",
       "      <td>4</td>\n",
       "      <td>2.740721</td>\n",
       "      <td>-0.087844</td>\n",
       "      <td>2004</td>\n",
       "      <td>2022-01-24</td>\n",
       "      <td>2022-02-09</td>\n",
       "      <td>2.534087</td>\n",
       "      <td>2.557287</td>\n",
       "      <td>...</td>\n",
       "      <td>2</td>\n",
       "      <td>2.605393</td>\n",
       "      <td>2022</td>\n",
       "      <td>1</td>\n",
       "      <td>2022</td>\n",
       "      <td>2</td>\n",
       "      <td>-0.140416</td>\n",
       "      <td>0.457788</td>\n",
       "      <td>2</td>\n",
       "      <td>1.268998</td>\n",
       "    </tr>\n",
       "    <tr>\n",
       "      <th>4</th>\n",
       "      <td>27517</td>\n",
       "      <td>4</td>\n",
       "      <td>5</td>\n",
       "      <td>2.740721</td>\n",
       "      <td>-0.087844</td>\n",
       "      <td>2004</td>\n",
       "      <td>2024-04-06</td>\n",
       "      <td>2024-04-17</td>\n",
       "      <td>2.534087</td>\n",
       "      <td>2.557287</td>\n",
       "      <td>...</td>\n",
       "      <td>1</td>\n",
       "      <td>2.605393</td>\n",
       "      <td>2024</td>\n",
       "      <td>4</td>\n",
       "      <td>2024</td>\n",
       "      <td>4</td>\n",
       "      <td>-0.140416</td>\n",
       "      <td>0.606139</td>\n",
       "      <td>3</td>\n",
       "      <td>1.268998</td>\n",
       "    </tr>\n",
       "  </tbody>\n",
       "</table>\n",
       "<p>5 rows × 24 columns</p>\n",
       "</div>"
      ],
      "text/plain": [
       "     Zip  Bedrooms  Total Baths      SqFt     Acres  Year Built   List Date  \\\n",
       "0  27511         4            4  2.740721 -0.087844        1985  2023-05-08   \n",
       "1  27517         4            5  2.740721 -0.087844        2004  2022-04-25   \n",
       "2  27707         3            5  2.198993 -0.087844        2020  2020-05-22   \n",
       "3  27511         3            4  2.740721 -0.087844        2004  2022-01-24   \n",
       "4  27517         4            5  2.740721 -0.087844        2004  2024-04-06   \n",
       "\n",
       "  Closing Date  List Price  Sold Price  ...  Cluster  Price per SqFt  \\\n",
       "0   2023-06-12    2.534087    2.557287  ...        2        0.229471   \n",
       "1   2022-06-07    2.534087    2.557287  ...        1        2.605393   \n",
       "2   2021-08-05    2.199023    2.557287  ...        1        1.695578   \n",
       "3   2022-02-09    2.534087    2.557287  ...        2        2.605393   \n",
       "4   2024-04-17    2.534087    2.557287  ...        1        2.605393   \n",
       "\n",
       "   List Year  List Month  Closing Year  Closing Month  \\\n",
       "0       2023           5          2023              6   \n",
       "1       2022           4          2022              6   \n",
       "2       2020           5          2021              8   \n",
       "3       2022           1          2022              2   \n",
       "4       2024           4          2024              4   \n",
       "\n",
       "   Price Increase Percentage  Age of Property  Geo Cluster  Log Sold Price  \n",
       "0                  -0.140416         1.941299            2        1.268998  \n",
       "1                  -0.140416         0.457788            3        1.268998  \n",
       "2                   1.034598        -0.803197            3        1.268998  \n",
       "3                  -0.140416         0.457788            2        1.268998  \n",
       "4                  -0.140416         0.606139            3        1.268998  \n",
       "\n",
       "[5 rows x 24 columns]"
      ]
     },
     "execution_count": 1,
     "metadata": {},
     "output_type": "execute_result"
    }
   ],
   "source": [
    "# Import the Utility Functions\n",
    "import pandas as pd\n",
    "import numpy as np\n",
    "import mls_utils as utils\n",
    "import matplotlib.pyplot as plt\n",
    "\n",
    "\n",
    "df = pd.read_csv(\"Clean_Data/mls_th_cleaned_3.csv\")\n",
    "df.head()"
   ]
  },
  {
   "cell_type": "code",
   "execution_count": 2,
   "metadata": {},
   "outputs": [],
   "source": [
    "#Covert the Nan values in Log Sold Price to 0\n",
    "df['Log Sold Price'] = df['Log Sold Price'].fillna(0)"
   ]
  },
  {
   "cell_type": "code",
   "execution_count": 3,
   "metadata": {},
   "outputs": [],
   "source": [
    "#Select features and target variables\n",
    "features = ['Bedrooms', 'Total Baths', 'SqFt', 'Acres', 'Year Built', 'Days on Market', 'Over Asking', 'Lat', 'Price per SqFt', 'List Year', 'Closing Year',\n",
    "       'Closing Month', 'Price Increase Percentage', 'Geo Cluster'] \n",
    "target = 'Sold Price'"
   ]
  },
  {
   "cell_type": "code",
   "execution_count": 4,
   "metadata": {},
   "outputs": [],
   "source": [
    "# Split the data\n",
    "X_train, X_test, y_train, y_test = utils.split_data(df, features, target)\n",
    "\n",
    "# Scale the data\n",
    "X_train_scaled, X_test_scaled = utils.scale_data(X_train, X_test)"
   ]
  },
  {
   "cell_type": "code",
   "execution_count": 5,
   "metadata": {},
   "outputs": [],
   "source": [
    "# Feature selection\n",
    "selected_features = utils.select_features(X_train_scaled, y_train)\n",
    "X_train_selected = X_train_scaled[:, selected_features]\n",
    "X_test_selected = X_test_scaled[:, selected_features]"
   ]
  },
  {
   "cell_type": "code",
   "execution_count": 6,
   "metadata": {},
   "outputs": [
    {
     "name": "stdout",
     "output_type": "stream",
     "text": [
      "Ridge Regression - Train MSE: 0.034070447913521436\n",
      "Ridge Regression - Test MSE: 0.03499764410702557\n",
      "Ridge Regression - Train R2: 0.9657142790109638\n",
      "Ridge Regression - Test R2: 0.9654982405717305\n"
     ]
    }
   ],
   "source": [
    "# Ridge Regression\n",
    "ridge_model = utils.tune_hyperparameters(X_train_selected, y_train, 'ridge')\n",
    "ridge_train_mse, ridge_test_mse, ridge_train_r2, ridge_test_r2 = utils.evaluate_model(ridge_model, X_train_selected, X_test_selected, y_train, y_test)\n",
    "\n",
    "print(f'Ridge Regression - Train MSE: {ridge_train_mse}')\n",
    "print(f'Ridge Regression - Test MSE: {ridge_test_mse}')\n",
    "print(f'Ridge Regression - Train R2: {ridge_train_r2}')\n",
    "print(f'Ridge Regression - Test R2: {ridge_test_r2}')"
   ]
  },
  {
   "cell_type": "code",
   "execution_count": 7,
   "metadata": {},
   "outputs": [
    {
     "name": "stdout",
     "output_type": "stream",
     "text": [
      "Lasso Regression - Train MSE: 0.057323164143807705\n",
      "Lasso Regression - Test MSE: 0.057657193740271\n",
      "Lasso Regression - Train R2: 0.9423146412095357\n",
      "Lasso Regression - Test R2: 0.9431597560780779\n"
     ]
    }
   ],
   "source": [
    "# Lasso Regression\n",
    "lasso_model = utils.tune_hyperparameters(X_train_selected, y_train, 'lasso')\n",
    "lasso_train_mse, lasso_test_mse, lasso_train_r2, lasso_test_r2 = utils.evaluate_model(lasso_model, X_train_selected, X_test_selected, y_train, y_test)\n",
    "\n",
    "print(f'Lasso Regression - Train MSE: {lasso_train_mse}')\n",
    "print(f'Lasso Regression - Test MSE: {lasso_test_mse}')\n",
    "print(f'Lasso Regression - Train R2: {lasso_train_r2}')\n",
    "print(f'Lasso Regression - Test R2: {lasso_test_r2}')\n"
   ]
  },
  {
   "cell_type": "code",
   "execution_count": 8,
   "metadata": {},
   "outputs": [
    {
     "name": "stdout",
     "output_type": "stream",
     "text": [
      "Decision Tree Regressor - Train MSE: 0.0017849576523006594\n",
      "Decision Tree Regressor - Test MSE: 0.0057179325368463835\n",
      "Decision Tree Regressor - Train R2: 0.9982037641477635\n",
      "Decision Tree Regressor - Test R2: 0.9943630853491151\n"
     ]
    }
   ],
   "source": [
    "# Decision Tree Regressor\n",
    "dt_model = utils.tune_hyperparameters(X_train_selected, y_train, 'decision_tree')\n",
    "dt_train_mse, dt_test_mse, dt_train_r2, dt_test_r2 = utils.evaluate_model(dt_model, X_train_selected, X_test_selected, y_train, y_test)\n",
    "\n",
    "print(f'Decision Tree Regressor - Train MSE: {dt_train_mse}')\n",
    "print(f'Decision Tree Regressor - Test MSE: {dt_test_mse}')\n",
    "print(f'Decision Tree Regressor - Train R2: {dt_train_r2}')\n",
    "print(f'Decision Tree Regressor - Test R2: {dt_test_r2}')"
   ]
  },
  {
   "cell_type": "code",
   "execution_count": 9,
   "metadata": {},
   "outputs": [
    {
     "name": "stdout",
     "output_type": "stream",
     "text": [
      "Random Forest Regressor - Train MSE: 0.003038675452554806\n",
      "Random Forest Regressor - Test MSE: 0.003695154202790602\n",
      "Random Forest Regressor - Train R2: 0.9969421247702124\n",
      "Random Forest Regressor - Test R2: 0.9963572027601296\n"
     ]
    }
   ],
   "source": [
    "# Random Forest Regressor\n",
    "rf_model = utils.tune_hyperparameters(X_train_selected, y_train, 'random_forest')\n",
    "rf_train_mse, rf_test_mse, rf_train_r2, rf_test_r2 = utils.evaluate_model(rf_model, X_train_selected, X_test_selected, y_train, y_test)\n",
    "\n",
    "print(f'Random Forest Regressor - Train MSE: {rf_train_mse}')\n",
    "print(f'Random Forest Regressor - Test MSE: {rf_test_mse}')\n",
    "print(f'Random Forest Regressor - Train R2: {rf_train_r2}')\n",
    "print(f'Random Forest Regressor - Test R2: {rf_test_r2}')"
   ]
  },
  {
   "cell_type": "code",
   "execution_count": 10,
   "metadata": {},
   "outputs": [
    {
     "name": "stdout",
     "output_type": "stream",
     "text": [
      "Support Vector Regressor - Train MSE: 0.007876120867544262\n",
      "Support Vector Regressor - Test MSE: 0.007332510251021571\n",
      "Support Vector Regressor - Train R2: 0.9920741141053981\n",
      "Support Vector Regressor - Test R2: 0.9927713847277143\n"
     ]
    }
   ],
   "source": [
    "# Support Vector Regressor\n",
    "svr_model = utils.tune_hyperparameters(X_train_selected, y_train, 'svm')\n",
    "svr_train_mse, svr_test_mse, svr_train_r2, svr_test_r2 = utils.evaluate_model(svr_model, X_train_selected, X_test_selected, y_train, y_test)\n",
    "\n",
    "print(f'Support Vector Regressor - Train MSE: {svr_train_mse}')\n",
    "print(f'Support Vector Regressor - Test MSE: {svr_test_mse}')\n",
    "print(f'Support Vector Regressor - Train R2: {svr_train_r2}')\n",
    "print(f'Support Vector Regressor - Test R2: {svr_test_r2}')\n"
   ]
  },
  {
   "cell_type": "code",
   "execution_count": 11,
   "metadata": {},
   "outputs": [
    {
     "name": "stdout",
     "output_type": "stream",
     "text": [
      "K-Nearest Neighbors Regressor - Train MSE: 0.004461299470872566\n",
      "K-Nearest Neighbors Regressor - Test MSE: 0.004147880646362104\n",
      "K-Nearest Neighbors Regressor - Train R2: 0.9955105119458624\n",
      "K-Nearest Neighbors Regressor - Test R2: 0.9959108910371132\n"
     ]
    }
   ],
   "source": [
    "# K-Nearest Neighbors Regressor\n",
    "knn_model = utils.tune_hyperparameters(X_train_selected, y_train, 'knn')\n",
    "knn_train_mse, knn_test_mse, knn_train_r2, knn_test_r2 = utils.evaluate_model(knn_model, X_train_selected, X_test_selected, y_train, y_test)\n",
    "\n",
    "print(f'K-Nearest Neighbors Regressor - Train MSE: {knn_train_mse}')\n",
    "print(f'K-Nearest Neighbors Regressor - Test MSE: {knn_test_mse}')\n",
    "print(f'K-Nearest Neighbors Regressor - Train R2: {knn_train_r2}')\n",
    "print(f'K-Nearest Neighbors Regressor - Test R2: {knn_test_r2}')\n"
   ]
  },
  {
   "cell_type": "markdown",
   "metadata": {},
   "source": [
    "Bar Charts for Error Metrics"
   ]
  },
  {
   "cell_type": "code",
   "execution_count": 18,
   "metadata": {},
   "outputs": [
    {
     "data": {
      "image/png": "[encoded data removed]",
      "text/plain": [
       "<Figure size 640x480 with 1 Axes>"
      ]
     },
     "metadata": {},
     "output_type": "display_data"
    }
   ],
   "source": [
    "# Data\n",
    "models = ['Ridge', 'Lasso', 'Decision Tree', 'Random Forest', 'SVM', 'KNN']\n",
    "train_mse = [ridge_train_mse, lasso_train_mse, dt_train_mse, rf_train_mse, svr_train_mse, knn_train_mse]\n",
    "test_mse = [ridge_test_mse, lasso_test_mse, dt_test_mse, rf_test_mse, svr_test_mse, knn_test_mse]\n",
    "\n",
    "x = range(len(models))  # the label locations\n",
    "\n",
    "fig, ax = plt.subplots()\n",
    "rects1 = ax.bar(x, train_mse, width=0.4, label='Train MSE')\n",
    "rects2 = ax.bar([p + 0.4 for p in x], test_mse, width=0.4, label='Test MSE')\n",
    "\n",
    "# Add some text for labels, title and custom x-axis tick labels, etc.\n",
    "ax.set_xlabel('Models')\n",
    "ax.set_ylabel('Mean Squared Error')\n",
    "ax.set_title('Comparison of Model MSE')\n",
    "ax.set_xticks([p + 0.2 for p in x])\n",
    "ax.set_xticklabels(models, rotation=45)\n",
    "ax.legend()\n",
    "\n",
    "fig.tight_layout()\n",
    "\n",
    "plt.show()"
   ]
  },
  {
   "cell_type": "markdown",
   "metadata": {},
   "source": [
    "Scatter Plots for Predictions vs. Actuals\n"
   ]
  }
 ],
 "metadata": {
  "kernelspec": {
   "display_name": "dev",
   "language": "python",
   "name": "dev"
  },
  "language_info": {
   "codemirror_mode": {
    "name": "ipython",
    "version": 3
   },
   "file_extension": ".py",
   "mimetype": "text/x-python",
   "name": "python",
   "nbconvert_exporter": "python",
   "pygments_lexer": "ipython3",
   "version": "3.11.9"
  }
 },
 "nbformat": 4,
 "nbformat_minor": 4
}
