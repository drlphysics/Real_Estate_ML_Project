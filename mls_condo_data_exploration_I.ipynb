{
 "cells": [
  {
   "cell_type": "code",
   "execution_count": 69,
   "metadata": {},
   "outputs": [],
   "source": [
    "# Import dependencies\n",
    "from matplotlib import pyplot as plt\n",
    "from scipy.stats import linregress\n",
    "import numpy as np\n",
    "from sklearn import datasets\n",
    "import pandas as pd\n",
    "import seaborn as sns\n",
    "import plotly.express as px\n",
    "from pandas.plotting import scatter_matrix\n",
    "import pgeocode\n"
   ]
  },
  {
   "cell_type": "code",
   "execution_count": 70,
   "metadata": {},
   "outputs": [
    {
     "data": {
      "text/html": [
       "<div>\n",
       "<style scoped>\n",
       "    .dataframe tbody tr th:only-of-type {\n",
       "        vertical-align: middle;\n",
       "    }\n",
       "\n",
       "    .dataframe tbody tr th {\n",
       "        vertical-align: top;\n",
       "    }\n",
       "\n",
       "    .dataframe thead th {\n",
       "        text-align: right;\n",
       "    }\n",
       "</style>\n",
       "<table border=\"1\" class=\"dataframe\">\n",
       "  <thead>\n",
       "    <tr style=\"text-align: right;\">\n",
       "      <th></th>\n",
       "      <th>MLS #</th>\n",
       "      <th>City</th>\n",
       "      <th>Zip</th>\n",
       "      <th>Bedrooms</th>\n",
       "      <th>Total Baths</th>\n",
       "      <th>SqFt</th>\n",
       "      <th>Acres</th>\n",
       "      <th>Year Built</th>\n",
       "      <th>List Date</th>\n",
       "      <th>Closing Date</th>\n",
       "      <th>List Price</th>\n",
       "      <th>Sold Price</th>\n",
       "      <th>Days on Market</th>\n",
       "      <th>Over Asking</th>\n",
       "      <th>Lat</th>\n",
       "      <th>Lon</th>\n",
       "      <th>Cluster</th>\n",
       "    </tr>\n",
       "  </thead>\n",
       "  <tbody>\n",
       "    <tr>\n",
       "      <th>0</th>\n",
       "      <td>2442914</td>\n",
       "      <td>Chapel Hill</td>\n",
       "      <td>27516</td>\n",
       "      <td>3</td>\n",
       "      <td>2</td>\n",
       "      <td>1782</td>\n",
       "      <td>1</td>\n",
       "      <td>2013</td>\n",
       "      <td>2022-04-16</td>\n",
       "      <td>2022-06-30</td>\n",
       "      <td>1000000</td>\n",
       "      <td>1500000</td>\n",
       "      <td>75</td>\n",
       "      <td>500000</td>\n",
       "      <td>35.9162</td>\n",
       "      <td>-79.0999</td>\n",
       "      <td>1</td>\n",
       "    </tr>\n",
       "    <tr>\n",
       "      <th>1</th>\n",
       "      <td>2437799</td>\n",
       "      <td>Chapel Hill</td>\n",
       "      <td>27516</td>\n",
       "      <td>4</td>\n",
       "      <td>4</td>\n",
       "      <td>3157</td>\n",
       "      <td>1</td>\n",
       "      <td>2013</td>\n",
       "      <td>2022-03-21</td>\n",
       "      <td>2022-04-05</td>\n",
       "      <td>1600000</td>\n",
       "      <td>2000000</td>\n",
       "      <td>15</td>\n",
       "      <td>400000</td>\n",
       "      <td>35.9162</td>\n",
       "      <td>-79.0999</td>\n",
       "      <td>1</td>\n",
       "    </tr>\n",
       "    <tr>\n",
       "      <th>2</th>\n",
       "      <td>2498024</td>\n",
       "      <td>Chapel Hill</td>\n",
       "      <td>27516</td>\n",
       "      <td>3</td>\n",
       "      <td>3</td>\n",
       "      <td>2183</td>\n",
       "      <td>1</td>\n",
       "      <td>2013</td>\n",
       "      <td>2023-03-05</td>\n",
       "      <td>2023-03-24</td>\n",
       "      <td>1400000</td>\n",
       "      <td>1650000</td>\n",
       "      <td>19</td>\n",
       "      <td>250000</td>\n",
       "      <td>35.9162</td>\n",
       "      <td>-79.0999</td>\n",
       "      <td>1</td>\n",
       "    </tr>\n",
       "    <tr>\n",
       "      <th>3</th>\n",
       "      <td>2444529</td>\n",
       "      <td>Chapel Hill</td>\n",
       "      <td>27516</td>\n",
       "      <td>2</td>\n",
       "      <td>2</td>\n",
       "      <td>1128</td>\n",
       "      <td>5</td>\n",
       "      <td>2013</td>\n",
       "      <td>2022-04-25</td>\n",
       "      <td>2022-05-24</td>\n",
       "      <td>589900</td>\n",
       "      <td>755000</td>\n",
       "      <td>29</td>\n",
       "      <td>165100</td>\n",
       "      <td>35.9162</td>\n",
       "      <td>-79.0999</td>\n",
       "      <td>1</td>\n",
       "    </tr>\n",
       "    <tr>\n",
       "      <th>4</th>\n",
       "      <td>2443429</td>\n",
       "      <td>Raleigh</td>\n",
       "      <td>27612</td>\n",
       "      <td>2</td>\n",
       "      <td>2</td>\n",
       "      <td>1745</td>\n",
       "      <td>1</td>\n",
       "      <td>2006</td>\n",
       "      <td>2022-04-19</td>\n",
       "      <td>2022-04-29</td>\n",
       "      <td>450000</td>\n",
       "      <td>565000</td>\n",
       "      <td>10</td>\n",
       "      <td>115000</td>\n",
       "      <td>35.8520</td>\n",
       "      <td>-78.6841</td>\n",
       "      <td>0</td>\n",
       "    </tr>\n",
       "  </tbody>\n",
       "</table>\n",
       "</div>"
      ],
      "text/plain": [
       "     MLS #         City    Zip  Bedrooms  Total Baths  SqFt  Acres  \\\n",
       "0  2442914  Chapel Hill  27516         3            2  1782      1   \n",
       "1  2437799  Chapel Hill  27516         4            4  3157      1   \n",
       "2  2498024  Chapel Hill  27516         3            3  2183      1   \n",
       "3  2444529  Chapel Hill  27516         2            2  1128      5   \n",
       "4  2443429      Raleigh  27612         2            2  1745      1   \n",
       "\n",
       "   Year Built   List Date Closing Date  List Price  Sold Price  \\\n",
       "0        2013  2022-04-16   2022-06-30     1000000     1500000   \n",
       "1        2013  2022-03-21   2022-04-05     1600000     2000000   \n",
       "2        2013  2023-03-05   2023-03-24     1400000     1650000   \n",
       "3        2013  2022-04-25   2022-05-24      589900      755000   \n",
       "4        2006  2022-04-19   2022-04-29      450000      565000   \n",
       "\n",
       "   Days on Market  Over Asking      Lat      Lon  Cluster  \n",
       "0              75       500000  35.9162 -79.0999        1  \n",
       "1              15       400000  35.9162 -79.0999        1  \n",
       "2              19       250000  35.9162 -79.0999        1  \n",
       "3              29       165100  35.9162 -79.0999        1  \n",
       "4              10       115000  35.8520 -78.6841        0  "
      ]
     },
     "execution_count": 70,
     "metadata": {},
     "output_type": "execute_result"
    }
   ],
   "source": [
    "# Import the data from the CSV file\n",
    "mls_df = pd.read_csv(\"Clean_Data/mls_cleaned.csv\")\n",
    "mls_df.head()"
   ]
  },
  {
   "cell_type": "code",
   "execution_count": 71,
   "metadata": {},
   "outputs": [
    {
     "ename": "KeyError",
     "evalue": "'Property Type'",
     "output_type": "error",
     "traceback": [
      "\u001b[0;31m---------------------------------------------------------------------------\u001b[0m",
      "\u001b[0;31mKeyError\u001b[0m                                  Traceback (most recent call last)",
      "File \u001b[0;32m/opt/anaconda3/envs/dev/lib/python3.11/site-packages/pandas/core/indexes/base.py:3805\u001b[0m, in \u001b[0;36mIndex.get_loc\u001b[0;34m(self, key)\u001b[0m\n\u001b[1;32m   3804\u001b[0m \u001b[38;5;28;01mtry\u001b[39;00m:\n\u001b[0;32m-> 3805\u001b[0m     \u001b[38;5;28;01mreturn\u001b[39;00m \u001b[38;5;28mself\u001b[39m\u001b[38;5;241m.\u001b[39m_engine\u001b[38;5;241m.\u001b[39mget_loc(casted_key)\n\u001b[1;32m   3806\u001b[0m \u001b[38;5;28;01mexcept\u001b[39;00m \u001b[38;5;167;01mKeyError\u001b[39;00m \u001b[38;5;28;01mas\u001b[39;00m err:\n",
      "File \u001b[0;32mindex.pyx:167\u001b[0m, in \u001b[0;36mpandas._libs.index.IndexEngine.get_loc\u001b[0;34m()\u001b[0m\n",
      "File \u001b[0;32mindex.pyx:196\u001b[0m, in \u001b[0;36mpandas._libs.index.IndexEngine.get_loc\u001b[0;34m()\u001b[0m\n",
      "File \u001b[0;32mpandas/_libs/hashtable_class_helper.pxi:7081\u001b[0m, in \u001b[0;36mpandas._libs.hashtable.PyObjectHashTable.get_item\u001b[0;34m()\u001b[0m\n",
      "File \u001b[0;32mpandas/_libs/hashtable_class_helper.pxi:7089\u001b[0m, in \u001b[0;36mpandas._libs.hashtable.PyObjectHashTable.get_item\u001b[0;34m()\u001b[0m\n",
      "\u001b[0;31mKeyError\u001b[0m: 'Property Type'",
      "\nThe above exception was the direct cause of the following exception:\n",
      "\u001b[0;31mKeyError\u001b[0m                                  Traceback (most recent call last)",
      "Cell \u001b[0;32mIn[71], line 2\u001b[0m\n\u001b[1;32m      1\u001b[0m \u001b[38;5;66;03m#List all the values in the Property Type column\u001b[39;00m\n\u001b[0;32m----> 2\u001b[0m mls_df[\u001b[38;5;124m'\u001b[39m\u001b[38;5;124mProperty Type\u001b[39m\u001b[38;5;124m'\u001b[39m]\u001b[38;5;241m.\u001b[39mvalue_counts()\n",
      "File \u001b[0;32m/opt/anaconda3/envs/dev/lib/python3.11/site-packages/pandas/core/frame.py:4090\u001b[0m, in \u001b[0;36mDataFrame.__getitem__\u001b[0;34m(self, key)\u001b[0m\n\u001b[1;32m   4088\u001b[0m \u001b[38;5;28;01mif\u001b[39;00m \u001b[38;5;28mself\u001b[39m\u001b[38;5;241m.\u001b[39mcolumns\u001b[38;5;241m.\u001b[39mnlevels \u001b[38;5;241m>\u001b[39m \u001b[38;5;241m1\u001b[39m:\n\u001b[1;32m   4089\u001b[0m     \u001b[38;5;28;01mreturn\u001b[39;00m \u001b[38;5;28mself\u001b[39m\u001b[38;5;241m.\u001b[39m_getitem_multilevel(key)\n\u001b[0;32m-> 4090\u001b[0m indexer \u001b[38;5;241m=\u001b[39m \u001b[38;5;28mself\u001b[39m\u001b[38;5;241m.\u001b[39mcolumns\u001b[38;5;241m.\u001b[39mget_loc(key)\n\u001b[1;32m   4091\u001b[0m \u001b[38;5;28;01mif\u001b[39;00m is_integer(indexer):\n\u001b[1;32m   4092\u001b[0m     indexer \u001b[38;5;241m=\u001b[39m [indexer]\n",
      "File \u001b[0;32m/opt/anaconda3/envs/dev/lib/python3.11/site-packages/pandas/core/indexes/base.py:3812\u001b[0m, in \u001b[0;36mIndex.get_loc\u001b[0;34m(self, key)\u001b[0m\n\u001b[1;32m   3807\u001b[0m     \u001b[38;5;28;01mif\u001b[39;00m \u001b[38;5;28misinstance\u001b[39m(casted_key, \u001b[38;5;28mslice\u001b[39m) \u001b[38;5;129;01mor\u001b[39;00m (\n\u001b[1;32m   3808\u001b[0m         \u001b[38;5;28misinstance\u001b[39m(casted_key, abc\u001b[38;5;241m.\u001b[39mIterable)\n\u001b[1;32m   3809\u001b[0m         \u001b[38;5;129;01mand\u001b[39;00m \u001b[38;5;28many\u001b[39m(\u001b[38;5;28misinstance\u001b[39m(x, \u001b[38;5;28mslice\u001b[39m) \u001b[38;5;28;01mfor\u001b[39;00m x \u001b[38;5;129;01min\u001b[39;00m casted_key)\n\u001b[1;32m   3810\u001b[0m     ):\n\u001b[1;32m   3811\u001b[0m         \u001b[38;5;28;01mraise\u001b[39;00m InvalidIndexError(key)\n\u001b[0;32m-> 3812\u001b[0m     \u001b[38;5;28;01mraise\u001b[39;00m \u001b[38;5;167;01mKeyError\u001b[39;00m(key) \u001b[38;5;28;01mfrom\u001b[39;00m \u001b[38;5;21;01merr\u001b[39;00m\n\u001b[1;32m   3813\u001b[0m \u001b[38;5;28;01mexcept\u001b[39;00m \u001b[38;5;167;01mTypeError\u001b[39;00m:\n\u001b[1;32m   3814\u001b[0m     \u001b[38;5;66;03m# If we have a listlike key, _check_indexing_error will raise\u001b[39;00m\n\u001b[1;32m   3815\u001b[0m     \u001b[38;5;66;03m#  InvalidIndexError. Otherwise we fall through and re-raise\u001b[39;00m\n\u001b[1;32m   3816\u001b[0m     \u001b[38;5;66;03m#  the TypeError.\u001b[39;00m\n\u001b[1;32m   3817\u001b[0m     \u001b[38;5;28mself\u001b[39m\u001b[38;5;241m.\u001b[39m_check_indexing_error(key)\n",
      "\u001b[0;31mKeyError\u001b[0m: 'Property Type'"
     ]
    }
   ],
   "source": [
    "#List all the values in the Property Type column\n",
    "mls_df['Property Type'].value_counts()"
   ]
  },
  {
   "cell_type": "code",
   "execution_count": null,
   "metadata": {},
   "outputs": [],
   "source": [
    "# Copy the data frame to a new data frame\n",
    "condo_df = mls_df.copy()\n",
    "\n",
    "# Keep only the 'Single Family Residence' values in column 'Property Type'\n",
    "condo_df = condo_df[condo_df['Property Type'] == 'Condo']\n",
    "\n",
    "# Drop the 'Property Type' column\n",
    "condo_df = condo_df.drop(columns=['Property Type'])\n",
    "\n",
    "\n",
    "condo_df.head()"
   ]
  },
  {
   "cell_type": "code",
   "execution_count": null,
   "metadata": {},
   "outputs": [],
   "source": [
    "condo_df.describe()"
   ]
  },
  {
   "cell_type": "code",
   "execution_count": null,
   "metadata": {},
   "outputs": [],
   "source": [
    "condo_df.info()"
   ]
  },
  {
   "cell_type": "code",
   "execution_count": null,
   "metadata": {},
   "outputs": [],
   "source": [
    "#Create a copy of the data frame and drop the non-numeric columns\n",
    "condo_nostr_df = condo_df.copy()\n",
    "condo_nostr_df = condo_nostr_df.drop(columns=['City'])\n",
    "condo_nostr_df = condo_nostr_df.drop(columns=['List Date'])\n",
    "condo_nostr_df = condo_nostr_df.drop(columns=['Closing Date'])\n",
    "condo_nostr_df = condo_nostr_df.drop(columns=['MLS #'])\n",
    "\n",
    "#Create a correlation matrix\n",
    "corr_matrix = condo_nostr_df.corr()\n",
    "corr_matrix[\"Sold Price\"].sort_values(ascending=False)"
   ]
  },
  {
   "cell_type": "code",
   "execution_count": null,
   "metadata": {},
   "outputs": [],
   "source": [
    "#Visualize the scatter matrix\n",
    "scatter_columns = [\"Sold Price\", \"SqFt\", \"Total Baths\", \"Bedrooms\", 'Lat', 'Lon']\n",
    "scatter_matrix(condo_nostr_df[scatter_columns], figsize=(12, 8))\n",
    "#plt.savefig('matrix.png')"
   ]
  },
  {
   "cell_type": "code",
   "execution_count": null,
   "metadata": {},
   "outputs": [],
   "source": [
    "#Visualize the scatter plot for Total Living Area SqFt vs Sold Price\n",
    "condo_nostr_df.plot(kind=\"scatter\", x=\"SqFt\", y=\"Sold Price\", alpha=0.5)\n",
    "#plt.savefig('scatter.png')"
   ]
  },
  {
   "cell_type": "code",
   "execution_count": null,
   "metadata": {},
   "outputs": [],
   "source": [
    "#Create a new column for the price per square foot\n",
    "condo_nostr_df['Price per SqFt'] = condo_nostr_df['Sold Price'] / condo_nostr_df['SqFt']\n",
    "\n",
    "#Create a correlation matrix to see what the correlation is for Price per SqFt\n",
    "corr_matrix = condo_nostr_df.corr()\n",
    "corr_matrix[\"Sold Price\"].sort_values(ascending=False)"
   ]
  },
  {
   "cell_type": "code",
   "execution_count": null,
   "metadata": {},
   "outputs": [],
   "source": [
    "#Check the orginal data frame to see how many cities are in the data\n",
    "len(condo_df['City'].value_counts())"
   ]
  },
  {
   "cell_type": "code",
   "execution_count": null,
   "metadata": {},
   "outputs": [],
   "source": [
    "#Cluster the Lat and  Lon into groups\n",
    "from sklearn.cluster import KMeans\n",
    "condo_df['Cluster'] = KMeans(n_clusters=5).fit_predict(condo_df[['Lat', 'Lon']])\n",
    "condo_df.plot(kind=\"scatter\", x=\"Lon\", y=\"Lat\", c=\"Cluster\", cmap='viridis', colorbar=False, alpha=0.5)\n",
    "plt.title('Clustered Lat and Lon')\n",
    "plt.savefig('clustered.png')\n"
   ]
  },
  {
   "cell_type": "code",
   "execution_count": null,
   "metadata": {},
   "outputs": [],
   "source": [
    "#Create a variable for the top 10 cities with the highest average sold price\n",
    "top10 = condo_df.groupby('City')['Sold Price'].mean().nlargest(373).reset_index()\n",
    "\n",
    "#Plot the top 10 cities with the highest average sold price\n",
    "fig = px.bar(top10, x='City', y='Sold Price',color='City', template='plotly',\n",
    "             title='Cities with Highest Avg. Sold Price') \n",
    "fig.update_traces(textposition='outside')\n",
    "fig.show()"
   ]
  },
  {
   "cell_type": "code",
   "execution_count": null,
   "metadata": {},
   "outputs": [],
   "source": [
    "top10 = condo_df.groupby('City')['Total Baths'].mean().nlargest(10).reset_index()\n",
    "\n",
    "fig = px.bar(top10, x='City', y='Total Baths',color='Total Baths', template='plotly', \n",
    "             title='Top 10 Cities with the Most Avg Total Baths')\n",
    "fig.update_traces(texttemplate='%{y:.}', textposition='outside')\n",
    "fig.show()"
   ]
  },
  {
   "cell_type": "code",
   "execution_count": null,
   "metadata": {},
   "outputs": [],
   "source": [
    "df_mean = condo_df.groupby('Over Asking')['SqFt'].mean().reset_index()\n",
    "\n",
    "fig = px.scatter(df_mean, x='Over Asking', y='SqFt', trendline='ols', \n",
    "                 labels={'Over Asking':'Over Asking', 'SqFt':'Mean House Size'})\n",
    "fig.update_layout(title='Distribution of Mean House Size by Over Asking')\n",
    "fig.show()"
   ]
  },
  {
   "cell_type": "code",
   "execution_count": null,
   "metadata": {},
   "outputs": [],
   "source": [
    "fig = px.scatter(condo_df, x='SqFt', y='Over Asking', color='Bedrooms', size='Total Baths',trendline='ols')\n",
    "fig.update_layout(title='House Size vs Over Asking',\n",
    "                  xaxis_title='House Size',\n",
    "                  yaxis_title='Over Asking')\n",
    "fig.show()"
   ]
  },
  {
   "cell_type": "code",
   "execution_count": null,
   "metadata": {},
   "outputs": [],
   "source": [
    "condo_df.hist(bins=5, figsize=(20,15))\n",
    "#plt.savefig(\"attribute_histogram_plots\")\n",
    "plt.show()"
   ]
  },
  {
   "cell_type": "code",
   "execution_count": null,
   "metadata": {},
   "outputs": [],
   "source": [
    "condo_df.head()"
   ]
  },
  {
   "cell_type": "code",
   "execution_count": null,
   "metadata": {},
   "outputs": [],
   "source": [
    "# Variable with the Longitude and Latitude\n",
    "X=condo_df.loc[:,['MLS #','Lat','Lon']]\n",
    "X.head(10)"
   ]
  },
  {
   "cell_type": "code",
   "execution_count": null,
   "metadata": {},
   "outputs": [],
   "source": [
    "K_clusters = range(1,10)\n",
    "kmeans = [KMeans(n_clusters=i) for i in K_clusters]\n",
    "Y_axis = condo_df[['Lat']]\n",
    "X_axis = condo_df[['Lon']]\n",
    "score = [kmeans[i].fit(Y_axis).score(Y_axis) for i in range(len(kmeans))]\n",
    "# Visualize\n",
    "plt.plot(K_clusters, score)\n",
    "plt.xlabel('Number of Clusters')\n",
    "plt.ylabel('Score')\n",
    "plt.title('Elbow Curve')\n",
    "plt.show()"
   ]
  },
  {
   "cell_type": "code",
   "execution_count": null,
   "metadata": {},
   "outputs": [],
   "source": [
    "kmeans = KMeans(n_clusters = 4, init ='k-means++')\n",
    "kmeans.fit(X[X.columns[1:3]]) # Compute k-means clustering.\n",
    "X['cluster_label'] = kmeans.fit_predict(X[X.columns[1:3]])\n",
    "centers = kmeans.cluster_centers_ # Coordinates of cluster centers.\n",
    "labels = kmeans.predict(X[X.columns[1:3]]) # Labels of each point\n",
    "X.head(10)"
   ]
  },
  {
   "cell_type": "code",
   "execution_count": null,
   "metadata": {},
   "outputs": [],
   "source": [
    "X.plot.scatter(x = 'Lat', y = 'Lon', c=labels, s=50, cmap='viridis')\n",
    "plt.scatter(centers[:, 0], centers[:, 1], c='black', s=200, alpha=0.5)"
   ]
  },
  {
   "cell_type": "code",
   "execution_count": null,
   "metadata": {},
   "outputs": [],
   "source": [
    "#Visualize the distribution of each numerical feature using box plots. Points beyond the “whiskers” of the box plot can be considered potential outliers.  \n",
    "plt.figure(figsize=(8, 6)) \n",
    "sns.boxplot(x=condo_df['SqFt'], color='lightgreen')"
   ]
  },
  {
   "cell_type": "code",
   "execution_count": null,
   "metadata": {},
   "outputs": [],
   "source": [
    "plt.figure(figsize=(8, 6)) \n",
    "sns.boxplot(x=condo_df['Bedrooms'], color='lightgreen')"
   ]
  },
  {
   "cell_type": "code",
   "execution_count": null,
   "metadata": {},
   "outputs": [],
   "source": [
    "plt.figure(figsize=(8, 6)) \n",
    "sns.boxplot(x=condo_df['Total Baths'], color='lightgreen')"
   ]
  },
  {
   "cell_type": "code",
   "execution_count": null,
   "metadata": {},
   "outputs": [],
   "source": [
    "plt.figure(figsize=(8, 6)) \n",
    "sns.boxplot(x=condo_df['Acres'], color='lightgreen')"
   ]
  },
  {
   "cell_type": "code",
   "execution_count": null,
   "metadata": {},
   "outputs": [],
   "source": [
    "plt.figure(figsize=(8, 6)) \n",
    "sns.boxplot(x=condo_df['Days on Market'], color='lightgreen')"
   ]
  },
  {
   "cell_type": "code",
   "execution_count": null,
   "metadata": {},
   "outputs": [],
   "source": [
    "plt.figure(figsize=(8, 6)) \n",
    "sns.boxplot(x=condo_df['Year Built'], color='lightgreen')"
   ]
  },
  {
   "cell_type": "code",
   "execution_count": null,
   "metadata": {},
   "outputs": [],
   "source": [
    "#Find the row with the value of 44 in the 'Bedrooms' column\n",
    "condo_df.loc[condo_df['Bedrooms'] == 44]\n",
    "\n",
    "#Drop the row with the value of 44 in the 'Bedrooms' column\n",
    "condo_df = condo_df[condo_df['Bedrooms'] != 44]\n"
   ]
  },
  {
   "cell_type": "code",
   "execution_count": null,
   "metadata": {},
   "outputs": [],
   "source": [
    "#Find the row with the most 'Total Baths'\n",
    "max_idx = condo_df['Bedrooms'].idxmax()\n",
    "row_with_max_total_baths = condo_df.loc[max_idx]\n",
    "\n",
    "row_with_max_total_baths"
   ]
  },
  {
   "cell_type": "code",
   "execution_count": null,
   "metadata": {},
   "outputs": [],
   "source": [
    "#Drop the row with the value of 44 in the 'Bedrooms' column\n",
    "condo_df = condo_df[condo_df['Bedrooms'] != 43]\n",
    "condo_df = condo_df[condo_df['Bedrooms'] != 0]\n"
   ]
  },
  {
   "cell_type": "code",
   "execution_count": null,
   "metadata": {},
   "outputs": [],
   "source": [
    "#Find the row with the most 'Total Baths'\n",
    "max_idx = condo_df['Bedrooms'].idxmax()\n",
    "row_with_max_total_baths = condo_df.loc[max_idx]\n",
    "\n",
    "row_with_max_total_baths"
   ]
  },
  {
   "cell_type": "code",
   "execution_count": null,
   "metadata": {},
   "outputs": [],
   "source": [
    "#Find the row with the most 'Total Baths'\n",
    "max_idx = condo_df['Total Baths'].idxmax()\n",
    "row_with_max_total_baths = condo_df.loc[max_idx]\n",
    "\n",
    "row_with_max_total_baths"
   ]
  },
  {
   "cell_type": "code",
   "execution_count": null,
   "metadata": {},
   "outputs": [],
   "source": [
    "#Drop the row with the value of 34 in the 'Total Baths' column\n",
    "condo_df = condo_df[condo_df['Total Baths'] != 34]\n",
    "condo_df = condo_df[condo_df['Total Baths'] != 0]"
   ]
  },
  {
   "cell_type": "code",
   "execution_count": null,
   "metadata": {},
   "outputs": [],
   "source": [
    "#Find the row with the most 'Total Baths'\n",
    "max_idx = condo_df['Total Baths'].idxmax()\n",
    "row_with_max_total_baths = condo_df.loc[max_idx]\n",
    "\n",
    "row_with_max_total_baths"
   ]
  },
  {
   "cell_type": "code",
   "execution_count": null,
   "metadata": {},
   "outputs": [],
   "source": [
    "#Drop the row with the value of 34 in the 'Total Baths' column\n",
    "condo_df = condo_df[condo_df['Total Baths'] != 32]\n"
   ]
  },
  {
   "cell_type": "code",
   "execution_count": null,
   "metadata": {},
   "outputs": [],
   "source": [
    "#Find the row with the most 'Total Baths'\n",
    "max_idx = condo_df['Total Baths'].idxmax()\n",
    "row_with_max_total_baths = condo_df.loc[max_idx]\n",
    "\n",
    "row_with_max_total_baths"
   ]
  },
  {
   "cell_type": "code",
   "execution_count": null,
   "metadata": {},
   "outputs": [],
   "source": [
    "#Drop the row with the value of 26 in the 'Total Baths' column\n",
    "condo_df = condo_df[condo_df['Total Baths'] != 26]"
   ]
  },
  {
   "cell_type": "code",
   "execution_count": null,
   "metadata": {},
   "outputs": [],
   "source": [
    "#Find the row with the most 'Total Baths'\n",
    "max_idx = condo_df['Total Baths'].idxmax()\n",
    "row_with_max_total_baths = condo_df.loc[max_idx]\n",
    "\n",
    "row_with_max_total_baths"
   ]
  },
  {
   "cell_type": "code",
   "execution_count": null,
   "metadata": {},
   "outputs": [],
   "source": [
    "#Drop the row with the value of 26 in the 'Total Baths' column\n",
    "condo_df = condo_df[condo_df['Total Baths'] != 23]"
   ]
  },
  {
   "cell_type": "code",
   "execution_count": null,
   "metadata": {},
   "outputs": [],
   "source": [
    "#Find the row with the most 'Total Baths'\n",
    "max_idx = condo_df['Total Baths'].idxmax()\n",
    "row_with_max_total_baths = condo_df.loc[max_idx]\n",
    "\n",
    "row_with_max_total_baths"
   ]
  },
  {
   "cell_type": "code",
   "execution_count": null,
   "metadata": {},
   "outputs": [],
   "source": [
    "#Find the row with the most 'Total Baths'\n",
    "max_idx = condo_df['Year Built'].idxmax()\n",
    "row_with_max_total_baths = condo_df.loc[max_idx]\n",
    "\n",
    "row_with_max_total_baths"
   ]
  },
  {
   "cell_type": "code",
   "execution_count": null,
   "metadata": {},
   "outputs": [],
   "source": [
    "condo_df.sort_values('Year Built', ascending=True)"
   ]
  },
  {
   "cell_type": "code",
   "execution_count": null,
   "metadata": {},
   "outputs": [],
   "source": [
    "condo_df = condo_df[condo_df['Year Built'] != 0]\n",
    "condo_df = condo_df[condo_df['Year Built'] != 1]\n",
    "condo_df = condo_df[condo_df['Year Built'] != 3]\n",
    "condo_df = condo_df[condo_df['Year Built'] != 97]\n",
    "condo_df = condo_df[condo_df['Year Built'] != 202]\n",
    "\n",
    "condo_df.sort_values('Year Built', ascending=True)"
   ]
  },
  {
   "cell_type": "code",
   "execution_count": null,
   "metadata": {},
   "outputs": [],
   "source": [
    "condo_df.sort_values('Year Built', ascending=False)"
   ]
  },
  {
   "cell_type": "code",
   "execution_count": null,
   "metadata": {},
   "outputs": [],
   "source": [
    "# Edit the first occurrence of '3837737' in the 'List Price' column to '383737'\n",
    "index = (condo_df['Year Built'] == 20223).idxmax()\n",
    "condo_df.loc[index, 'Year Built'] = 2023"
   ]
  },
  {
   "cell_type": "code",
   "execution_count": null,
   "metadata": {},
   "outputs": [],
   "source": [
    "condo_df.sort_values('Year Built', ascending=False)"
   ]
  },
  {
   "cell_type": "code",
   "execution_count": null,
   "metadata": {},
   "outputs": [],
   "source": [
    "index = (condo_df['Year Built'] == 20211).idxmax()\n",
    "condo_df.loc[index, 'Year Built'] = 2021"
   ]
  },
  {
   "cell_type": "code",
   "execution_count": null,
   "metadata": {},
   "outputs": [],
   "source": [
    "condo_df.sort_values('Year Built', ascending=False)"
   ]
  },
  {
   "cell_type": "code",
   "execution_count": null,
   "metadata": {},
   "outputs": [],
   "source": [
    "index = (condo_df['Year Built'] == 20116).idxmax()\n",
    "condo_df.loc[index, 'Year Built'] = 2016"
   ]
  },
  {
   "cell_type": "code",
   "execution_count": null,
   "metadata": {},
   "outputs": [],
   "source": [
    "condo_df.sort_values('Year Built', ascending=False)"
   ]
  },
  {
   "cell_type": "code",
   "execution_count": null,
   "metadata": {},
   "outputs": [],
   "source": [
    "index = (condo_df['Year Built'] == 20023).idxmax()\n",
    "condo_df.loc[index, 'Year Built'] = 2023"
   ]
  },
  {
   "cell_type": "code",
   "execution_count": null,
   "metadata": {},
   "outputs": [],
   "source": [
    "condo_df.sort_values('Year Built', ascending=False)"
   ]
  },
  {
   "cell_type": "code",
   "execution_count": null,
   "metadata": {},
   "outputs": [],
   "source": [
    "index = (condo_df['Year Built'] == 20006).idxmax()\n",
    "condo_df.loc[index, 'Year Built'] = 2006"
   ]
  },
  {
   "cell_type": "code",
   "execution_count": null,
   "metadata": {},
   "outputs": [],
   "source": [
    "condo_df.sort_values('Year Built', ascending=False)\n"
   ]
  },
  {
   "cell_type": "code",
   "execution_count": null,
   "metadata": {},
   "outputs": [],
   "source": [
    "index = (condo_df['Year Built'] == 19496).idxmax()\n",
    "condo_df.loc[index, 'Year Built'] = 1949"
   ]
  },
  {
   "cell_type": "code",
   "execution_count": null,
   "metadata": {},
   "outputs": [],
   "source": [
    "condo_df.sort_values('Year Built', ascending=False)\n"
   ]
  },
  {
   "cell_type": "code",
   "execution_count": null,
   "metadata": {},
   "outputs": [],
   "source": [
    "condo_df = condo_df[condo_df['Year Built'] != 3023]\n",
    "condo_df = condo_df[condo_df['Year Built'] != 2083]\n",
    "condo_df = condo_df[condo_df['Year Built'] != 2121]\n",
    "\n",
    "\n",
    "\n",
    "#Remove all the rows where the 'SqFt' is less than 100\n",
    "condo_df = condo_df[condo_df['SqFt'] > 199]\n",
    "\n",
    "condo_df.sort_values('Year Built', ascending=False)\n"
   ]
  },
  {
   "cell_type": "code",
   "execution_count": null,
   "metadata": {},
   "outputs": [],
   "source": [
    "condo_df.sort_values('Year Built', ascending=True)\n"
   ]
  },
  {
   "cell_type": "code",
   "execution_count": null,
   "metadata": {},
   "outputs": [],
   "source": [
    "condo_df = condo_df[condo_df['Year Built'] != 1073]\n",
    "condo_df = condo_df[condo_df['Year Built'] != 1577]\n",
    "condo_df = condo_df[condo_df['Year Built'] != 1647]"
   ]
  },
  {
   "cell_type": "code",
   "execution_count": null,
   "metadata": {},
   "outputs": [],
   "source": [
    "condo_df.sort_values('Year Built', ascending=False)\n"
   ]
  },
  {
   "cell_type": "code",
   "execution_count": null,
   "metadata": {},
   "outputs": [],
   "source": [
    "#Add the Price per SqFt to this data frame\n",
    "condo_df[\"Price per SqFt\"] = condo_df[\"Sold Price\"]/condo_df[\"SqFt\"]\n",
    "condo_df.head()"
   ]
  },
  {
   "cell_type": "code",
   "execution_count": null,
   "metadata": {},
   "outputs": [],
   "source": [
    "# Save the DataFrame to a CSV file\n",
    "condo_df.to_csv('Clean_Data/mls_condo_cleaned_2.csv', index=False)"
   ]
  },
  {
   "cell_type": "code",
   "execution_count": null,
   "metadata": {},
   "outputs": [],
   "source": [
    "condo_df.sort_values('Zip', ascending=False)\n"
   ]
  }
 ],
 "metadata": {
  "kernelspec": {
   "display_name": "dev",
   "language": "python",
   "name": "dev"
  },
  "language_info": {
   "codemirror_mode": {
    "name": "ipython",
    "version": 3
   },
   "file_extension": ".py",
   "mimetype": "text/x-python",
   "name": "python",
   "nbconvert_exporter": "python",
   "pygments_lexer": "ipython3",
   "version": "3.11.9"
  }
 },
 "nbformat": 4,
 "nbformat_minor": 2
}
