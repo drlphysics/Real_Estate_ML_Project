{
 "cells": [
  {
   "cell_type": "code",
   "execution_count": 1,
   "metadata": {},
   "outputs": [],
   "source": [
    "# Import dependencies\n",
    "from matplotlib import pyplot as plt\n",
    "from scipy.stats import linregress\n",
    "import numpy as np\n",
    "from sklearn import datasets\n",
    "import pandas as pd\n",
    "import seaborn as sns\n",
    "import plotly.express as px\n",
    "from pandas.plotting import scatter_matrix\n",
    "import pgeocode\n"
   ]
  },
  {
   "cell_type": "code",
   "execution_count": 2,
   "metadata": {},
   "outputs": [
    {
     "name": "stderr",
     "output_type": "stream",
     "text": [
      "C:\\Users\\David\\AppData\\Local\\Temp\\ipykernel_22148\\574837584.py:2: DtypeWarning: Columns (1) have mixed types. Specify dtype option on import or set low_memory=False.\n",
      "  mls_df = pd.read_csv(\"Clean_Data/mls_cleaned.csv\")\n"
     ]
    },
    {
     "data": {
      "text/html": [
       "<div>\n",
       "<style scoped>\n",
       "    .dataframe tbody tr th:only-of-type {\n",
       "        vertical-align: middle;\n",
       "    }\n",
       "\n",
       "    .dataframe tbody tr th {\n",
       "        vertical-align: top;\n",
       "    }\n",
       "\n",
       "    .dataframe thead th {\n",
       "        text-align: right;\n",
       "    }\n",
       "</style>\n",
       "<table border=\"1\" class=\"dataframe\">\n",
       "  <thead>\n",
       "    <tr style=\"text-align: right;\">\n",
       "      <th></th>\n",
       "      <th>Mortgage Rates</th>\n",
       "      <th>MLS #</th>\n",
       "      <th>Property Type</th>\n",
       "      <th>City</th>\n",
       "      <th>Zip</th>\n",
       "      <th>Bedrooms</th>\n",
       "      <th>Total Baths</th>\n",
       "      <th>SqFt</th>\n",
       "      <th>Acres</th>\n",
       "      <th>Year Built</th>\n",
       "      <th>List Date</th>\n",
       "      <th>Closing Date</th>\n",
       "      <th>List Price</th>\n",
       "      <th>Sold Price</th>\n",
       "      <th>Days on Market</th>\n",
       "      <th>Over Asking</th>\n",
       "      <th>Lat</th>\n",
       "      <th>Lon</th>\n",
       "    </tr>\n",
       "  </thead>\n",
       "  <tbody>\n",
       "    <tr>\n",
       "      <th>0</th>\n",
       "      <td>2.65</td>\n",
       "      <td>2326882</td>\n",
       "      <td>Single Family Residence</td>\n",
       "      <td>Raleigh</td>\n",
       "      <td>27608</td>\n",
       "      <td>3</td>\n",
       "      <td>4</td>\n",
       "      <td>2450</td>\n",
       "      <td>1</td>\n",
       "      <td>2020</td>\n",
       "      <td>2020-06-24</td>\n",
       "      <td>2021-01-04</td>\n",
       "      <td>700000</td>\n",
       "      <td>770796</td>\n",
       "      <td>194</td>\n",
       "      <td>70796</td>\n",
       "      <td>35.8077</td>\n",
       "      <td>-78.6463</td>\n",
       "    </tr>\n",
       "    <tr>\n",
       "      <th>1</th>\n",
       "      <td>2.65</td>\n",
       "      <td>2355109</td>\n",
       "      <td>Single Family Residence</td>\n",
       "      <td>Holly Springs</td>\n",
       "      <td>27540</td>\n",
       "      <td>6</td>\n",
       "      <td>6</td>\n",
       "      <td>4100</td>\n",
       "      <td>3</td>\n",
       "      <td>2012</td>\n",
       "      <td>2020-11-23</td>\n",
       "      <td>2021-01-08</td>\n",
       "      <td>890000</td>\n",
       "      <td>955000</td>\n",
       "      <td>46</td>\n",
       "      <td>65000</td>\n",
       "      <td>35.6263</td>\n",
       "      <td>-78.8458</td>\n",
       "    </tr>\n",
       "    <tr>\n",
       "      <th>2</th>\n",
       "      <td>2.65</td>\n",
       "      <td>2354513</td>\n",
       "      <td>Single Family Residence</td>\n",
       "      <td>Durham</td>\n",
       "      <td>27705</td>\n",
       "      <td>4</td>\n",
       "      <td>5</td>\n",
       "      <td>4433</td>\n",
       "      <td>5</td>\n",
       "      <td>2017</td>\n",
       "      <td>2020-11-19</td>\n",
       "      <td>2021-01-05</td>\n",
       "      <td>1219075</td>\n",
       "      <td>1275000</td>\n",
       "      <td>47</td>\n",
       "      <td>55925</td>\n",
       "      <td>36.0218</td>\n",
       "      <td>-78.9478</td>\n",
       "    </tr>\n",
       "    <tr>\n",
       "      <th>3</th>\n",
       "      <td>2.65</td>\n",
       "      <td>2345181</td>\n",
       "      <td>Single Family Residence</td>\n",
       "      <td>Chapel Hill</td>\n",
       "      <td>27514</td>\n",
       "      <td>4</td>\n",
       "      <td>3</td>\n",
       "      <td>2314</td>\n",
       "      <td>3</td>\n",
       "      <td>1970</td>\n",
       "      <td>2020-09-27</td>\n",
       "      <td>2021-01-04</td>\n",
       "      <td>680000</td>\n",
       "      <td>730000</td>\n",
       "      <td>99</td>\n",
       "      <td>50000</td>\n",
       "      <td>35.9203</td>\n",
       "      <td>-79.0372</td>\n",
       "    </tr>\n",
       "    <tr>\n",
       "      <th>4</th>\n",
       "      <td>2.65</td>\n",
       "      <td>2354571</td>\n",
       "      <td>Single Family Residence</td>\n",
       "      <td>Cary</td>\n",
       "      <td>27519</td>\n",
       "      <td>5</td>\n",
       "      <td>4</td>\n",
       "      <td>3795</td>\n",
       "      <td>1</td>\n",
       "      <td>2009</td>\n",
       "      <td>2020-11-20</td>\n",
       "      <td>2021-01-04</td>\n",
       "      <td>549900</td>\n",
       "      <td>590000</td>\n",
       "      <td>45</td>\n",
       "      <td>40100</td>\n",
       "      <td>35.8072</td>\n",
       "      <td>-78.8870</td>\n",
       "    </tr>\n",
       "  </tbody>\n",
       "</table>\n",
       "</div>"
      ],
      "text/plain": [
       "   Mortgage Rates    MLS #            Property Type           City    Zip  \\\n",
       "0            2.65  2326882  Single Family Residence        Raleigh  27608   \n",
       "1            2.65  2355109  Single Family Residence  Holly Springs  27540   \n",
       "2            2.65  2354513  Single Family Residence         Durham  27705   \n",
       "3            2.65  2345181  Single Family Residence    Chapel Hill  27514   \n",
       "4            2.65  2354571  Single Family Residence           Cary  27519   \n",
       "\n",
       "   Bedrooms  Total Baths  SqFt  Acres  Year Built   List Date Closing Date  \\\n",
       "0         3            4  2450      1        2020  2020-06-24   2021-01-04   \n",
       "1         6            6  4100      3        2012  2020-11-23   2021-01-08   \n",
       "2         4            5  4433      5        2017  2020-11-19   2021-01-05   \n",
       "3         4            3  2314      3        1970  2020-09-27   2021-01-04   \n",
       "4         5            4  3795      1        2009  2020-11-20   2021-01-04   \n",
       "\n",
       "   List Price  Sold Price  Days on Market  Over Asking      Lat      Lon  \n",
       "0      700000      770796             194        70796  35.8077 -78.6463  \n",
       "1      890000      955000              46        65000  35.6263 -78.8458  \n",
       "2     1219075     1275000              47        55925  36.0218 -78.9478  \n",
       "3      680000      730000              99        50000  35.9203 -79.0372  \n",
       "4      549900      590000              45        40100  35.8072 -78.8870  "
      ]
     },
     "execution_count": 2,
     "metadata": {},
     "output_type": "execute_result"
    }
   ],
   "source": [
    "# Import the data from the CSV file\n",
    "mls_df = pd.read_csv(\"Clean_Data/mls_cleaned.csv\")\n",
    "mls_df.head()"
   ]
  },
  {
   "cell_type": "code",
   "execution_count": 3,
   "metadata": {},
   "outputs": [
    {
     "data": {
      "text/plain": [
       "Property Type\n",
       "Single Family Residence    112589\n",
       "Townhouse                   21343\n",
       "Condo                        4022\n",
       "Manufactured                 2943\n",
       "Duplex                        258\n",
       "Ranch                         128\n",
       "Other                          21\n",
       "Farm                           16\n",
       "Cabin                           4\n",
       "Triplex                         2\n",
       "Quadruplex                      1\n",
       "Name: count, dtype: int64"
      ]
     },
     "execution_count": 3,
     "metadata": {},
     "output_type": "execute_result"
    }
   ],
   "source": [
    "#List all the values in the Property Type column\n",
    "mls_df['Property Type'].value_counts()"
   ]
  },
  {
   "cell_type": "code",
   "execution_count": 4,
   "metadata": {},
   "outputs": [
    {
     "data": {
      "text/html": [
       "<div>\n",
       "<style scoped>\n",
       "    .dataframe tbody tr th:only-of-type {\n",
       "        vertical-align: middle;\n",
       "    }\n",
       "\n",
       "    .dataframe tbody tr th {\n",
       "        vertical-align: top;\n",
       "    }\n",
       "\n",
       "    .dataframe thead th {\n",
       "        text-align: right;\n",
       "    }\n",
       "</style>\n",
       "<table border=\"1\" class=\"dataframe\">\n",
       "  <thead>\n",
       "    <tr style=\"text-align: right;\">\n",
       "      <th></th>\n",
       "      <th>Mortgage Rates</th>\n",
       "      <th>MLS #</th>\n",
       "      <th>City</th>\n",
       "      <th>Zip</th>\n",
       "      <th>Bedrooms</th>\n",
       "      <th>Total Baths</th>\n",
       "      <th>SqFt</th>\n",
       "      <th>Acres</th>\n",
       "      <th>Year Built</th>\n",
       "      <th>List Date</th>\n",
       "      <th>Closing Date</th>\n",
       "      <th>List Price</th>\n",
       "      <th>Sold Price</th>\n",
       "      <th>Days on Market</th>\n",
       "      <th>Over Asking</th>\n",
       "      <th>Lat</th>\n",
       "      <th>Lon</th>\n",
       "    </tr>\n",
       "  </thead>\n",
       "  <tbody>\n",
       "    <tr>\n",
       "      <th>38</th>\n",
       "      <td>2.65</td>\n",
       "      <td>2358250</td>\n",
       "      <td>Elon</td>\n",
       "      <td>27244</td>\n",
       "      <td>3</td>\n",
       "      <td>2</td>\n",
       "      <td>1166</td>\n",
       "      <td>1</td>\n",
       "      <td>1986</td>\n",
       "      <td>2020-12-17</td>\n",
       "      <td>2021-01-07</td>\n",
       "      <td>180000</td>\n",
       "      <td>197500</td>\n",
       "      <td>21</td>\n",
       "      <td>17500</td>\n",
       "      <td>36.1029</td>\n",
       "      <td>-79.5067</td>\n",
       "    </tr>\n",
       "    <tr>\n",
       "      <th>65</th>\n",
       "      <td>2.65</td>\n",
       "      <td>2202465</td>\n",
       "      <td>Raleigh</td>\n",
       "      <td>27601</td>\n",
       "      <td>2</td>\n",
       "      <td>2</td>\n",
       "      <td>1251</td>\n",
       "      <td>1</td>\n",
       "      <td>2018</td>\n",
       "      <td>2018-07-09</td>\n",
       "      <td>2021-01-08</td>\n",
       "      <td>575500</td>\n",
       "      <td>587702</td>\n",
       "      <td>914</td>\n",
       "      <td>12202</td>\n",
       "      <td>35.7727</td>\n",
       "      <td>-78.6324</td>\n",
       "    </tr>\n",
       "    <tr>\n",
       "      <th>103</th>\n",
       "      <td>2.65</td>\n",
       "      <td>2170728</td>\n",
       "      <td>Raleigh</td>\n",
       "      <td>27601</td>\n",
       "      <td>2</td>\n",
       "      <td>2</td>\n",
       "      <td>1251</td>\n",
       "      <td>1</td>\n",
       "      <td>2018</td>\n",
       "      <td>2018-02-01</td>\n",
       "      <td>2021-01-08</td>\n",
       "      <td>535000</td>\n",
       "      <td>543546</td>\n",
       "      <td>1072</td>\n",
       "      <td>8546</td>\n",
       "      <td>35.7727</td>\n",
       "      <td>-78.6324</td>\n",
       "    </tr>\n",
       "    <tr>\n",
       "      <th>131</th>\n",
       "      <td>2.65</td>\n",
       "      <td>2175010</td>\n",
       "      <td>Cary</td>\n",
       "      <td>27511</td>\n",
       "      <td>2</td>\n",
       "      <td>2</td>\n",
       "      <td>1631</td>\n",
       "      <td>1</td>\n",
       "      <td>2019</td>\n",
       "      <td>2018-02-25</td>\n",
       "      <td>2021-01-05</td>\n",
       "      <td>450000</td>\n",
       "      <td>455904</td>\n",
       "      <td>1045</td>\n",
       "      <td>5904</td>\n",
       "      <td>35.7641</td>\n",
       "      <td>-78.7786</td>\n",
       "    </tr>\n",
       "    <tr>\n",
       "      <th>136</th>\n",
       "      <td>2.65</td>\n",
       "      <td>2355989</td>\n",
       "      <td>Raleigh</td>\n",
       "      <td>27609</td>\n",
       "      <td>2</td>\n",
       "      <td>2</td>\n",
       "      <td>942</td>\n",
       "      <td>1</td>\n",
       "      <td>1972</td>\n",
       "      <td>2020-12-02</td>\n",
       "      <td>2021-01-07</td>\n",
       "      <td>120000</td>\n",
       "      <td>125200</td>\n",
       "      <td>36</td>\n",
       "      <td>5200</td>\n",
       "      <td>35.8480</td>\n",
       "      <td>-78.6317</td>\n",
       "    </tr>\n",
       "  </tbody>\n",
       "</table>\n",
       "</div>"
      ],
      "text/plain": [
       "     Mortgage Rates    MLS #     City    Zip  Bedrooms  Total Baths  SqFt  \\\n",
       "38             2.65  2358250     Elon  27244         3            2  1166   \n",
       "65             2.65  2202465  Raleigh  27601         2            2  1251   \n",
       "103            2.65  2170728  Raleigh  27601         2            2  1251   \n",
       "131            2.65  2175010     Cary  27511         2            2  1631   \n",
       "136            2.65  2355989  Raleigh  27609         2            2   942   \n",
       "\n",
       "     Acres  Year Built   List Date Closing Date  List Price  Sold Price  \\\n",
       "38       1        1986  2020-12-17   2021-01-07      180000      197500   \n",
       "65       1        2018  2018-07-09   2021-01-08      575500      587702   \n",
       "103      1        2018  2018-02-01   2021-01-08      535000      543546   \n",
       "131      1        2019  2018-02-25   2021-01-05      450000      455904   \n",
       "136      1        1972  2020-12-02   2021-01-07      120000      125200   \n",
       "\n",
       "     Days on Market  Over Asking      Lat      Lon  \n",
       "38               21        17500  36.1029 -79.5067  \n",
       "65              914        12202  35.7727 -78.6324  \n",
       "103            1072         8546  35.7727 -78.6324  \n",
       "131            1045         5904  35.7641 -78.7786  \n",
       "136              36         5200  35.8480 -78.6317  "
      ]
     },
     "execution_count": 4,
     "metadata": {},
     "output_type": "execute_result"
    }
   ],
   "source": [
    "# Copy the data frame to a new data frame\n",
    "condo_df = mls_df.copy()\n",
    "\n",
    "# Keep only the 'Single Family Residence' values in column 'Property Type'\n",
    "condo_df = condo_df[condo_df['Property Type'] == 'Condo']\n",
    "\n",
    "# Drop the 'Property Type' column\n",
    "condo_df = condo_df.drop(columns=['Property Type'])\n",
    "\n",
    "\n",
    "condo_df.head()"
   ]
  },
  {
   "cell_type": "code",
   "execution_count": 5,
   "metadata": {},
   "outputs": [
    {
     "data": {
      "text/html": [
       "<div>\n",
       "<style scoped>\n",
       "    .dataframe tbody tr th:only-of-type {\n",
       "        vertical-align: middle;\n",
       "    }\n",
       "\n",
       "    .dataframe tbody tr th {\n",
       "        vertical-align: top;\n",
       "    }\n",
       "\n",
       "    .dataframe thead th {\n",
       "        text-align: right;\n",
       "    }\n",
       "</style>\n",
       "<table border=\"1\" class=\"dataframe\">\n",
       "  <thead>\n",
       "    <tr style=\"text-align: right;\">\n",
       "      <th></th>\n",
       "      <th>Mortgage Rates</th>\n",
       "      <th>Zip</th>\n",
       "      <th>Bedrooms</th>\n",
       "      <th>Total Baths</th>\n",
       "      <th>SqFt</th>\n",
       "      <th>Acres</th>\n",
       "      <th>Year Built</th>\n",
       "      <th>List Price</th>\n",
       "      <th>Sold Price</th>\n",
       "      <th>Days on Market</th>\n",
       "      <th>Over Asking</th>\n",
       "      <th>Lat</th>\n",
       "      <th>Lon</th>\n",
       "    </tr>\n",
       "  </thead>\n",
       "  <tbody>\n",
       "    <tr>\n",
       "      <th>count</th>\n",
       "      <td>4022.000000</td>\n",
       "      <td>4022.000000</td>\n",
       "      <td>4022.000000</td>\n",
       "      <td>4022.000000</td>\n",
       "      <td>4022.000000</td>\n",
       "      <td>4022.000000</td>\n",
       "      <td>4022.000000</td>\n",
       "      <td>4.022000e+03</td>\n",
       "      <td>4.022000e+03</td>\n",
       "      <td>4022.000000</td>\n",
       "      <td>4022.000000</td>\n",
       "      <td>4022.000000</td>\n",
       "      <td>4022.000000</td>\n",
       "    </tr>\n",
       "    <tr>\n",
       "      <th>mean</th>\n",
       "      <td>4.860288</td>\n",
       "      <td>27582.185231</td>\n",
       "      <td>2.114371</td>\n",
       "      <td>2.139234</td>\n",
       "      <td>1211.022377</td>\n",
       "      <td>1.047737</td>\n",
       "      <td>1998.844853</td>\n",
       "      <td>3.164240e+05</td>\n",
       "      <td>3.185641e+05</td>\n",
       "      <td>89.987568</td>\n",
       "      <td>2140.125808</td>\n",
       "      <td>35.836770</td>\n",
       "      <td>-78.811351</td>\n",
       "    </tr>\n",
       "    <tr>\n",
       "      <th>std</th>\n",
       "      <td>1.764637</td>\n",
       "      <td>206.232515</td>\n",
       "      <td>0.739242</td>\n",
       "      <td>0.794164</td>\n",
       "      <td>544.980100</td>\n",
       "      <td>0.417485</td>\n",
       "      <td>404.436625</td>\n",
       "      <td>2.073207e+05</td>\n",
       "      <td>2.057952e+05</td>\n",
       "      <td>162.115017</td>\n",
       "      <td>20880.020179</td>\n",
       "      <td>0.183086</td>\n",
       "      <td>0.292711</td>\n",
       "    </tr>\n",
       "    <tr>\n",
       "      <th>min</th>\n",
       "      <td>2.650000</td>\n",
       "      <td>23927.000000</td>\n",
       "      <td>0.000000</td>\n",
       "      <td>1.000000</td>\n",
       "      <td>-19996.000000</td>\n",
       "      <td>1.000000</td>\n",
       "      <td>1854.000000</td>\n",
       "      <td>4.500000e+04</td>\n",
       "      <td>4.950000e+04</td>\n",
       "      <td>0.000000</td>\n",
       "      <td>-200000.000000</td>\n",
       "      <td>33.883600</td>\n",
       "      <td>-82.175200</td>\n",
       "    </tr>\n",
       "    <tr>\n",
       "      <th>25%</th>\n",
       "      <td>3.020000</td>\n",
       "      <td>27517.000000</td>\n",
       "      <td>2.000000</td>\n",
       "      <td>2.000000</td>\n",
       "      <td>939.000000</td>\n",
       "      <td>1.000000</td>\n",
       "      <td>1983.000000</td>\n",
       "      <td>1.950000e+05</td>\n",
       "      <td>2.000000e+05</td>\n",
       "      <td>33.000000</td>\n",
       "      <td>-5000.000000</td>\n",
       "      <td>35.772700</td>\n",
       "      <td>-78.947800</td>\n",
       "    </tr>\n",
       "    <tr>\n",
       "      <th>50%</th>\n",
       "      <td>5.100000</td>\n",
       "      <td>27604.000000</td>\n",
       "      <td>2.000000</td>\n",
       "      <td>2.000000</td>\n",
       "      <td>1149.500000</td>\n",
       "      <td>1.000000</td>\n",
       "      <td>1997.000000</td>\n",
       "      <td>2.650000e+05</td>\n",
       "      <td>2.680000e+05</td>\n",
       "      <td>45.000000</td>\n",
       "      <td>0.000000</td>\n",
       "      <td>35.852000</td>\n",
       "      <td>-78.744700</td>\n",
       "    </tr>\n",
       "    <tr>\n",
       "      <th>75%</th>\n",
       "      <td>6.700000</td>\n",
       "      <td>27613.000000</td>\n",
       "      <td>3.000000</td>\n",
       "      <td>3.000000</td>\n",
       "      <td>1405.750000</td>\n",
       "      <td>1.000000</td>\n",
       "      <td>2006.000000</td>\n",
       "      <td>3.747070e+05</td>\n",
       "      <td>3.720702e+05</td>\n",
       "      <td>73.000000</td>\n",
       "      <td>9193.750000</td>\n",
       "      <td>35.918200</td>\n",
       "      <td>-78.653000</td>\n",
       "    </tr>\n",
       "    <tr>\n",
       "      <th>max</th>\n",
       "      <td>7.790000</td>\n",
       "      <td>28746.000000</td>\n",
       "      <td>5.000000</td>\n",
       "      <td>7.000000</td>\n",
       "      <td>4532.000000</td>\n",
       "      <td>8.000000</td>\n",
       "      <td>27606.000000</td>\n",
       "      <td>2.600000e+06</td>\n",
       "      <td>2.600000e+06</td>\n",
       "      <td>1478.000000</td>\n",
       "      <td>500000.000000</td>\n",
       "      <td>36.624000</td>\n",
       "      <td>-76.740200</td>\n",
       "    </tr>\n",
       "  </tbody>\n",
       "</table>\n",
       "</div>"
      ],
      "text/plain": [
       "       Mortgage Rates           Zip     Bedrooms  Total Baths          SqFt  \\\n",
       "count     4022.000000   4022.000000  4022.000000  4022.000000   4022.000000   \n",
       "mean         4.860288  27582.185231     2.114371     2.139234   1211.022377   \n",
       "std          1.764637    206.232515     0.739242     0.794164    544.980100   \n",
       "min          2.650000  23927.000000     0.000000     1.000000 -19996.000000   \n",
       "25%          3.020000  27517.000000     2.000000     2.000000    939.000000   \n",
       "50%          5.100000  27604.000000     2.000000     2.000000   1149.500000   \n",
       "75%          6.700000  27613.000000     3.000000     3.000000   1405.750000   \n",
       "max          7.790000  28746.000000     5.000000     7.000000   4532.000000   \n",
       "\n",
       "             Acres    Year Built    List Price    Sold Price  Days on Market  \\\n",
       "count  4022.000000   4022.000000  4.022000e+03  4.022000e+03     4022.000000   \n",
       "mean      1.047737   1998.844853  3.164240e+05  3.185641e+05       89.987568   \n",
       "std       0.417485    404.436625  2.073207e+05  2.057952e+05      162.115017   \n",
       "min       1.000000   1854.000000  4.500000e+04  4.950000e+04        0.000000   \n",
       "25%       1.000000   1983.000000  1.950000e+05  2.000000e+05       33.000000   \n",
       "50%       1.000000   1997.000000  2.650000e+05  2.680000e+05       45.000000   \n",
       "75%       1.000000   2006.000000  3.747070e+05  3.720702e+05       73.000000   \n",
       "max       8.000000  27606.000000  2.600000e+06  2.600000e+06     1478.000000   \n",
       "\n",
       "         Over Asking          Lat          Lon  \n",
       "count    4022.000000  4022.000000  4022.000000  \n",
       "mean     2140.125808    35.836770   -78.811351  \n",
       "std     20880.020179     0.183086     0.292711  \n",
       "min   -200000.000000    33.883600   -82.175200  \n",
       "25%     -5000.000000    35.772700   -78.947800  \n",
       "50%         0.000000    35.852000   -78.744700  \n",
       "75%      9193.750000    35.918200   -78.653000  \n",
       "max    500000.000000    36.624000   -76.740200  "
      ]
     },
     "execution_count": 5,
     "metadata": {},
     "output_type": "execute_result"
    }
   ],
   "source": [
    "condo_df.describe()"
   ]
  },
  {
   "cell_type": "code",
   "execution_count": 6,
   "metadata": {},
   "outputs": [
    {
     "name": "stdout",
     "output_type": "stream",
     "text": [
      "<class 'pandas.core.frame.DataFrame'>\n",
      "Index: 4022 entries, 38 to 141292\n",
      "Data columns (total 17 columns):\n",
      " #   Column          Non-Null Count  Dtype  \n",
      "---  ------          --------------  -----  \n",
      " 0   Mortgage Rates  4022 non-null   float64\n",
      " 1   MLS #           4022 non-null   object \n",
      " 2   City            4022 non-null   object \n",
      " 3   Zip             4022 non-null   int64  \n",
      " 4   Bedrooms        4022 non-null   int64  \n",
      " 5   Total Baths     4022 non-null   int64  \n",
      " 6   SqFt            4022 non-null   int64  \n",
      " 7   Acres           4022 non-null   int64  \n",
      " 8   Year Built      4022 non-null   int64  \n",
      " 9   List Date       4022 non-null   object \n",
      " 10  Closing Date    4022 non-null   object \n",
      " 11  List Price      4022 non-null   int64  \n",
      " 12  Sold Price      4022 non-null   int64  \n",
      " 13  Days on Market  4022 non-null   int64  \n",
      " 14  Over Asking     4022 non-null   int64  \n",
      " 15  Lat             4022 non-null   float64\n",
      " 16  Lon             4022 non-null   float64\n",
      "dtypes: float64(3), int64(10), object(4)\n",
      "memory usage: 565.6+ KB\n"
     ]
    }
   ],
   "source": [
    "condo_df.info()"
   ]
  },
  {
   "cell_type": "code",
   "execution_count": 7,
   "metadata": {},
   "outputs": [
    {
     "data": {
      "text/plain": [
       "Sold Price        1.000000\n",
       "List Price        0.994918\n",
       "SqFt              0.492272\n",
       "Total Baths       0.310607\n",
       "Days on Market    0.260160\n",
       "Bedrooms          0.199994\n",
       "Mortgage Rates    0.147387\n",
       "Lon               0.078496\n",
       "Zip               0.028250\n",
       "Acres             0.026070\n",
       "Lat               0.009995\n",
       "Year Built        0.003419\n",
       "Over Asking      -0.022597\n",
       "Name: Sold Price, dtype: float64"
      ]
     },
     "execution_count": 7,
     "metadata": {},
     "output_type": "execute_result"
    }
   ],
   "source": [
    "#Create a copy of the data frame and drop the non-numeric columns\n",
    "condo_nostr_df = condo_df.copy()\n",
    "condo_nostr_df = condo_nostr_df.drop(columns=['City'])\n",
    "condo_nostr_df = condo_nostr_df.drop(columns=['List Date'])\n",
    "condo_nostr_df = condo_nostr_df.drop(columns=['Closing Date'])\n",
    "condo_nostr_df = condo_nostr_df.drop(columns=['MLS #'])\n",
    "\n",
    "#Create a correlation matrix\n",
    "corr_matrix = condo_nostr_df.corr()\n",
    "corr_matrix[\"Sold Price\"].sort_values(ascending=False)"
   ]
  },
  {
   "cell_type": "code",
   "execution_count": 8,
   "metadata": {},
   "outputs": [
    {
     "data": {
      "text/plain": [
       "array([[<Axes: xlabel='Sold Price', ylabel='Sold Price'>,\n",
       "        <Axes: xlabel='SqFt', ylabel='Sold Price'>,\n",
       "        <Axes: xlabel='Total Baths', ylabel='Sold Price'>,\n",
       "        <Axes: xlabel='Bedrooms', ylabel='Sold Price'>,\n",
       "        <Axes: xlabel='Lat', ylabel='Sold Price'>,\n",
       "        <Axes: xlabel='Lon', ylabel='Sold Price'>],\n",
       "       [<Axes: xlabel='Sold Price', ylabel='SqFt'>,\n",
       "        <Axes: xlabel='SqFt', ylabel='SqFt'>,\n",
       "        <Axes: xlabel='Total Baths', ylabel='SqFt'>,\n",
       "        <Axes: xlabel='Bedrooms', ylabel='SqFt'>,\n",
       "        <Axes: xlabel='Lat', ylabel='SqFt'>,\n",
       "        <Axes: xlabel='Lon', ylabel='SqFt'>],\n",
       "       [<Axes: xlabel='Sold Price', ylabel='Total Baths'>,\n",
       "        <Axes: xlabel='SqFt', ylabel='Total Baths'>,\n",
       "        <Axes: xlabel='Total Baths', ylabel='Total Baths'>,\n",
       "        <Axes: xlabel='Bedrooms', ylabel='Total Baths'>,\n",
       "        <Axes: xlabel='Lat', ylabel='Total Baths'>,\n",
       "        <Axes: xlabel='Lon', ylabel='Total Baths'>],\n",
       "       [<Axes: xlabel='Sold Price', ylabel='Bedrooms'>,\n",
       "        <Axes: xlabel='SqFt', ylabel='Bedrooms'>,\n",
       "        <Axes: xlabel='Total Baths', ylabel='Bedrooms'>,\n",
       "        <Axes: xlabel='Bedrooms', ylabel='Bedrooms'>,\n",
       "        <Axes: xlabel='Lat', ylabel='Bedrooms'>,\n",
       "        <Axes: xlabel='Lon', ylabel='Bedrooms'>],\n",
       "       [<Axes: xlabel='Sold Price', ylabel='Lat'>,\n",
       "        <Axes: xlabel='SqFt', ylabel='Lat'>,\n",
       "        <Axes: xlabel='Total Baths', ylabel='Lat'>,\n",
       "        <Axes: xlabel='Bedrooms', ylabel='Lat'>,\n",
       "        <Axes: xlabel='Lat', ylabel='Lat'>,\n",
       "        <Axes: xlabel='Lon', ylabel='Lat'>],\n",
       "       [<Axes: xlabel='Sold Price', ylabel='Lon'>,\n",
       "        <Axes: xlabel='SqFt', ylabel='Lon'>,\n",
       "        <Axes: xlabel='Total Baths', ylabel='Lon'>,\n",
       "        <Axes: xlabel='Bedrooms', ylabel='Lon'>,\n",
       "        <Axes: xlabel='Lat', ylabel='Lon'>,\n",
       "        <Axes: xlabel='Lon', ylabel='Lon'>]], dtype=object)"
      ]
     },
     "execution_count": 8,
     "metadata": {},
     "output_type": "execute_result"
    },
    {
     "data": {
      "image/png": "[encoded data removed]",
      "text/plain": [
       "<Figure size 1200x800 with 36 Axes>"
      ]
     },
     "metadata": {},
     "output_type": "display_data"
    }
   ],
   "source": [
    "#Visualize the scatter matrix\n",
    "scatter_columns = [\"Sold Price\", \"SqFt\", \"Total Baths\", \"Bedrooms\", 'Lat', 'Lon']\n",
    "scatter_matrix(condo_nostr_df[scatter_columns], figsize=(12, 8))\n",
    "#plt.savefig('matrix.png')"
   ]
  },
  {
   "cell_type": "code",
   "execution_count": 9,
   "metadata": {},
   "outputs": [
    {
     "data": {
      "text/plain": [
       "<Axes: xlabel='SqFt', ylabel='Sold Price'>"
      ]
     },
     "execution_count": 9,
     "metadata": {},
     "output_type": "execute_result"
    },
    {
     "data": {
      "image/png": "[encoded data removed]",
      "text/plain": [
       "<Figure size 640x480 with 1 Axes>"
      ]
     },
     "metadata": {},
     "output_type": "display_data"
    }
   ],
   "source": [
    "#Visualize the scatter plot for Total Living Area SqFt vs Sold Price\n",
    "condo_nostr_df.plot(kind=\"scatter\", x=\"SqFt\", y=\"Sold Price\", alpha=0.5)\n",
    "#plt.savefig('scatter.png')"
   ]
  },
  {
   "cell_type": "code",
   "execution_count": null,
   "metadata": {},
   "outputs": [],
   "source": [
    "#Create a new column for the price per square foot\n",
    "condo_nostr_df['Price per SqFt'] = condo_nostr_df['Sold Price'] / condo_nostr_df['SqFt']\n",
    "\n",
    "#Create a correlation matrix to see what the correlation is for Price per SqFt\n",
    "corr_matrix = condo_nostr_df.corr()\n",
    "corr_matrix[\"Sold Price\"].sort_values(ascending=False)"
   ]
  },
  {
   "cell_type": "code",
   "execution_count": null,
   "metadata": {},
   "outputs": [],
   "source": [
    "#Check the orginal data frame to see how many cities are in the data\n",
    "len(condo_df['City'].value_counts())"
   ]
  },
  {
   "cell_type": "code",
   "execution_count": null,
   "metadata": {},
   "outputs": [],
   "source": [
    "#Cluster the Lat and  Lon into groups\n",
    "from sklearn.cluster import KMeans\n",
    "condo_df['Cluster'] = KMeans(n_clusters=5).fit_predict(condo_df[['Lat', 'Lon']])\n",
    "condo_df.plot(kind=\"scatter\", x=\"Lon\", y=\"Lat\", c=\"Cluster\", cmap='viridis', colorbar=False, alpha=0.5)\n",
    "plt.title('Clustered Lat and Lon')\n",
    "plt.savefig('clustered.png')\n"
   ]
  },
  {
   "cell_type": "code",
   "execution_count": null,
   "metadata": {},
   "outputs": [],
   "source": [
    "#Create a variable for the top 10 cities with the highest average sold price\n",
    "top10 = condo_df.groupby('City')['Sold Price'].mean().nlargest(373).reset_index()\n",
    "\n",
    "#Plot the top 10 cities with the highest average sold price\n",
    "fig = px.bar(top10, x='City', y='Sold Price',color='City', template='plotly',\n",
    "             title='Cities with Highest Avg. Sold Price') \n",
    "fig.update_traces(textposition='outside')\n",
    "fig.show()"
   ]
  },
  {
   "cell_type": "code",
   "execution_count": null,
   "metadata": {},
   "outputs": [],
   "source": [
    "top10 = condo_df.groupby('City')['Total Baths'].mean().nlargest(10).reset_index()\n",
    "\n",
    "fig = px.bar(top10, x='City', y='Total Baths',color='Total Baths', template='plotly', \n",
    "             title='Top 10 Cities with the Most Avg Total Baths')\n",
    "fig.update_traces(texttemplate='%{y:.}', textposition='outside')\n",
    "fig.show()"
   ]
  },
  {
   "cell_type": "code",
   "execution_count": null,
   "metadata": {},
   "outputs": [],
   "source": [
    "df_mean = condo_df.groupby('Over Asking')['SqFt'].mean().reset_index()\n",
    "\n",
    "fig = px.scatter(df_mean, x='Over Asking', y='SqFt', trendline='ols', \n",
    "                 labels={'Over Asking':'Over Asking', 'SqFt':'Mean House Size'})\n",
    "fig.update_layout(title='Distribution of Mean House Size by Over Asking')\n",
    "fig.show()"
   ]
  },
  {
   "cell_type": "code",
   "execution_count": null,
   "metadata": {},
   "outputs": [],
   "source": [
    "fig = px.scatter(condo_df, x='SqFt', y='Over Asking', color='Bedrooms', size='Total Baths',trendline='ols')\n",
    "fig.update_layout(title='House Size vs Over Asking',\n",
    "                  xaxis_title='House Size',\n",
    "                  yaxis_title='Over Asking')\n",
    "fig.show()"
   ]
  },
  {
   "cell_type": "code",
   "execution_count": null,
   "metadata": {},
   "outputs": [],
   "source": [
    "condo_df.hist(bins=5, figsize=(20,15))\n",
    "#plt.savefig(\"attribute_histogram_plots\")\n",
    "plt.show()"
   ]
  },
  {
   "cell_type": "code",
   "execution_count": null,
   "metadata": {},
   "outputs": [],
   "source": [
    "condo_df.head()"
   ]
  },
  {
   "cell_type": "code",
   "execution_count": null,
   "metadata": {},
   "outputs": [],
   "source": [
    "# Variable with the Longitude and Latitude\n",
    "X=condo_df.loc[:,['MLS #','Lat','Lon']]\n",
    "X.head(10)"
   ]
  },
  {
   "cell_type": "code",
   "execution_count": null,
   "metadata": {},
   "outputs": [],
   "source": [
    "K_clusters = range(1,10)\n",
    "kmeans = [KMeans(n_clusters=i) for i in K_clusters]\n",
    "Y_axis = condo_df[['Lat']]\n",
    "X_axis = condo_df[['Lon']]\n",
    "score = [kmeans[i].fit(Y_axis).score(Y_axis) for i in range(len(kmeans))]\n",
    "# Visualize\n",
    "plt.plot(K_clusters, score)\n",
    "plt.xlabel('Number of Clusters')\n",
    "plt.ylabel('Score')\n",
    "plt.title('Elbow Curve')\n",
    "plt.show()"
   ]
  },
  {
   "cell_type": "code",
   "execution_count": null,
   "metadata": {},
   "outputs": [],
   "source": [
    "kmeans = KMeans(n_clusters = 4, init ='k-means++')\n",
    "kmeans.fit(X[X.columns[1:3]]) # Compute k-means clustering.\n",
    "X['cluster_label'] = kmeans.fit_predict(X[X.columns[1:3]])\n",
    "centers = kmeans.cluster_centers_ # Coordinates of cluster centers.\n",
    "labels = kmeans.predict(X[X.columns[1:3]]) # Labels of each point\n",
    "X.head(10)"
   ]
  },
  {
   "cell_type": "code",
   "execution_count": null,
   "metadata": {},
   "outputs": [],
   "source": [
    "X.plot.scatter(x = 'Lat', y = 'Lon', c=labels, s=50, cmap='viridis')\n",
    "plt.scatter(centers[:, 0], centers[:, 1], c='black', s=200, alpha=0.5)"
   ]
  },
  {
   "cell_type": "code",
   "execution_count": null,
   "metadata": {},
   "outputs": [],
   "source": [
    "#Visualize the distribution of each numerical feature using box plots. Points beyond the “whiskers” of the box plot can be considered potential outliers.  \n",
    "plt.figure(figsize=(8, 6)) \n",
    "sns.boxplot(x=condo_df['SqFt'], color='lightgreen')"
   ]
  },
  {
   "cell_type": "code",
   "execution_count": null,
   "metadata": {},
   "outputs": [],
   "source": [
    "plt.figure(figsize=(8, 6)) \n",
    "sns.boxplot(x=condo_df['Bedrooms'], color='lightgreen')"
   ]
  },
  {
   "cell_type": "code",
   "execution_count": null,
   "metadata": {},
   "outputs": [],
   "source": [
    "plt.figure(figsize=(8, 6)) \n",
    "sns.boxplot(x=condo_df['Total Baths'], color='lightgreen')"
   ]
  },
  {
   "cell_type": "code",
   "execution_count": null,
   "metadata": {},
   "outputs": [],
   "source": [
    "plt.figure(figsize=(8, 6)) \n",
    "sns.boxplot(x=condo_df['Acres'], color='lightgreen')"
   ]
  },
  {
   "cell_type": "code",
   "execution_count": null,
   "metadata": {},
   "outputs": [],
   "source": [
    "plt.figure(figsize=(8, 6)) \n",
    "sns.boxplot(x=condo_df['Days on Market'], color='lightgreen')"
   ]
  },
  {
   "cell_type": "code",
   "execution_count": null,
   "metadata": {},
   "outputs": [],
   "source": [
    "plt.figure(figsize=(8, 6)) \n",
    "sns.boxplot(x=condo_df['Year Built'], color='lightgreen')"
   ]
  },
  {
   "cell_type": "code",
   "execution_count": null,
   "metadata": {},
   "outputs": [],
   "source": [
    "#Find the row with the value of 44 in the 'Bedrooms' column\n",
    "condo_df.loc[condo_df['Bedrooms'] == 44]\n",
    "\n",
    "#Drop the row with the value of 44 in the 'Bedrooms' column\n",
    "condo_df = condo_df[condo_df['Bedrooms'] != 44]\n"
   ]
  },
  {
   "cell_type": "code",
   "execution_count": null,
   "metadata": {},
   "outputs": [],
   "source": [
    "#Find the row with the most 'Total Baths'\n",
    "max_idx = condo_df['Bedrooms'].idxmax()\n",
    "row_with_max_total_baths = condo_df.loc[max_idx]\n",
    "\n",
    "row_with_max_total_baths"
   ]
  },
  {
   "cell_type": "code",
   "execution_count": null,
   "metadata": {},
   "outputs": [],
   "source": [
    "#Drop the row with the value of 44 in the 'Bedrooms' column\n",
    "condo_df = condo_df[condo_df['Bedrooms'] != 43]\n",
    "condo_df = condo_df[condo_df['Bedrooms'] != 0]\n"
   ]
  },
  {
   "cell_type": "code",
   "execution_count": null,
   "metadata": {},
   "outputs": [],
   "source": [
    "#Find the row with the most 'Total Baths'\n",
    "max_idx = condo_df['Bedrooms'].idxmax()\n",
    "row_with_max_total_baths = condo_df.loc[max_idx]\n",
    "\n",
    "row_with_max_total_baths"
   ]
  },
  {
   "cell_type": "code",
   "execution_count": null,
   "metadata": {},
   "outputs": [],
   "source": [
    "#Find the row with the most 'Total Baths'\n",
    "max_idx = condo_df['Total Baths'].idxmax()\n",
    "row_with_max_total_baths = condo_df.loc[max_idx]\n",
    "\n",
    "row_with_max_total_baths"
   ]
  },
  {
   "cell_type": "code",
   "execution_count": null,
   "metadata": {},
   "outputs": [],
   "source": [
    "#Drop the row with the value of 34 in the 'Total Baths' column\n",
    "condo_df = condo_df[condo_df['Total Baths'] != 34]\n",
    "condo_df = condo_df[condo_df['Total Baths'] != 0]"
   ]
  },
  {
   "cell_type": "code",
   "execution_count": null,
   "metadata": {},
   "outputs": [],
   "source": [
    "#Find the row with the most 'Total Baths'\n",
    "max_idx = condo_df['Total Baths'].idxmax()\n",
    "row_with_max_total_baths = condo_df.loc[max_idx]\n",
    "\n",
    "row_with_max_total_baths"
   ]
  },
  {
   "cell_type": "code",
   "execution_count": null,
   "metadata": {},
   "outputs": [],
   "source": [
    "#Drop the row with the value of 34 in the 'Total Baths' column\n",
    "condo_df = condo_df[condo_df['Total Baths'] != 32]\n"
   ]
  },
  {
   "cell_type": "code",
   "execution_count": null,
   "metadata": {},
   "outputs": [],
   "source": [
    "#Find the row with the most 'Total Baths'\n",
    "max_idx = condo_df['Total Baths'].idxmax()\n",
    "row_with_max_total_baths = condo_df.loc[max_idx]\n",
    "\n",
    "row_with_max_total_baths"
   ]
  },
  {
   "cell_type": "code",
   "execution_count": null,
   "metadata": {},
   "outputs": [],
   "source": [
    "#Drop the row with the value of 26 in the 'Total Baths' column\n",
    "condo_df = condo_df[condo_df['Total Baths'] != 26]"
   ]
  },
  {
   "cell_type": "code",
   "execution_count": null,
   "metadata": {},
   "outputs": [],
   "source": [
    "#Find the row with the most 'Total Baths'\n",
    "max_idx = condo_df['Total Baths'].idxmax()\n",
    "row_with_max_total_baths = condo_df.loc[max_idx]\n",
    "\n",
    "row_with_max_total_baths"
   ]
  },
  {
   "cell_type": "code",
   "execution_count": null,
   "metadata": {},
   "outputs": [],
   "source": [
    "#Drop the row with the value of 26 in the 'Total Baths' column\n",
    "condo_df = condo_df[condo_df['Total Baths'] != 23]"
   ]
  },
  {
   "cell_type": "code",
   "execution_count": null,
   "metadata": {},
   "outputs": [],
   "source": [
    "#Find the row with the most 'Total Baths'\n",
    "max_idx = condo_df['Total Baths'].idxmax()\n",
    "row_with_max_total_baths = condo_df.loc[max_idx]\n",
    "\n",
    "row_with_max_total_baths"
   ]
  },
  {
   "cell_type": "code",
   "execution_count": null,
   "metadata": {},
   "outputs": [],
   "source": [
    "#Find the row with the most 'Total Baths'\n",
    "max_idx = condo_df['Year Built'].idxmax()\n",
    "row_with_max_total_baths = condo_df.loc[max_idx]\n",
    "\n",
    "row_with_max_total_baths"
   ]
  },
  {
   "cell_type": "code",
   "execution_count": null,
   "metadata": {},
   "outputs": [],
   "source": [
    "condo_df.sort_values('Year Built', ascending=True)"
   ]
  },
  {
   "cell_type": "code",
   "execution_count": null,
   "metadata": {},
   "outputs": [],
   "source": [
    "condo_df = condo_df[condo_df['Year Built'] != 0]\n",
    "condo_df = condo_df[condo_df['Year Built'] != 1]\n",
    "condo_df = condo_df[condo_df['Year Built'] != 3]\n",
    "condo_df = condo_df[condo_df['Year Built'] != 97]\n",
    "condo_df = condo_df[condo_df['Year Built'] != 202]\n",
    "\n",
    "condo_df.sort_values('Year Built', ascending=True)"
   ]
  },
  {
   "cell_type": "code",
   "execution_count": null,
   "metadata": {},
   "outputs": [],
   "source": [
    "condo_df.sort_values('Year Built', ascending=False)"
   ]
  },
  {
   "cell_type": "code",
   "execution_count": null,
   "metadata": {},
   "outputs": [],
   "source": [
    "# Edit the first occurrence of '3837737' in the 'List Price' column to '383737'\n",
    "index = (condo_df['Year Built'] == 20223).idxmax()\n",
    "condo_df.loc[index, 'Year Built'] = 2023"
   ]
  },
  {
   "cell_type": "code",
   "execution_count": null,
   "metadata": {},
   "outputs": [],
   "source": [
    "condo_df.sort_values('Year Built', ascending=False)"
   ]
  },
  {
   "cell_type": "code",
   "execution_count": null,
   "metadata": {},
   "outputs": [],
   "source": [
    "index = (condo_df['Year Built'] == 20211).idxmax()\n",
    "condo_df.loc[index, 'Year Built'] = 2021"
   ]
  },
  {
   "cell_type": "code",
   "execution_count": null,
   "metadata": {},
   "outputs": [],
   "source": [
    "condo_df.sort_values('Year Built', ascending=False)"
   ]
  },
  {
   "cell_type": "code",
   "execution_count": null,
   "metadata": {},
   "outputs": [],
   "source": [
    "index = (condo_df['Year Built'] == 20116).idxmax()\n",
    "condo_df.loc[index, 'Year Built'] = 2016"
   ]
  },
  {
   "cell_type": "code",
   "execution_count": null,
   "metadata": {},
   "outputs": [],
   "source": [
    "condo_df.sort_values('Year Built', ascending=False)"
   ]
  },
  {
   "cell_type": "code",
   "execution_count": null,
   "metadata": {},
   "outputs": [],
   "source": [
    "index = (condo_df['Year Built'] == 20023).idxmax()\n",
    "condo_df.loc[index, 'Year Built'] = 2023"
   ]
  },
  {
   "cell_type": "code",
   "execution_count": null,
   "metadata": {},
   "outputs": [],
   "source": [
    "condo_df.sort_values('Year Built', ascending=False)"
   ]
  },
  {
   "cell_type": "code",
   "execution_count": null,
   "metadata": {},
   "outputs": [],
   "source": [
    "index = (condo_df['Year Built'] == 20006).idxmax()\n",
    "condo_df.loc[index, 'Year Built'] = 2006"
   ]
  },
  {
   "cell_type": "code",
   "execution_count": null,
   "metadata": {},
   "outputs": [],
   "source": [
    "condo_df.sort_values('Year Built', ascending=False)\n"
   ]
  },
  {
   "cell_type": "code",
   "execution_count": null,
   "metadata": {},
   "outputs": [],
   "source": [
    "index = (condo_df['Year Built'] == 19496).idxmax()\n",
    "condo_df.loc[index, 'Year Built'] = 1949"
   ]
  },
  {
   "cell_type": "code",
   "execution_count": null,
   "metadata": {},
   "outputs": [],
   "source": [
    "condo_df.sort_values('Year Built', ascending=False)\n"
   ]
  },
  {
   "cell_type": "code",
   "execution_count": null,
   "metadata": {},
   "outputs": [],
   "source": [
    "condo_df = condo_df[condo_df['Year Built'] != 3023]\n",
    "condo_df = condo_df[condo_df['Year Built'] != 2083]\n",
    "condo_df = condo_df[condo_df['Year Built'] != 2121]\n",
    "\n",
    "\n",
    "\n",
    "#Remove all the rows where the 'SqFt' is less than 100\n",
    "condo_df = condo_df[condo_df['SqFt'] > 199]\n",
    "\n",
    "condo_df.sort_values('Year Built', ascending=False)\n"
   ]
  },
  {
   "cell_type": "code",
   "execution_count": null,
   "metadata": {},
   "outputs": [],
   "source": [
    "condo_df.sort_values('Year Built', ascending=True)\n"
   ]
  },
  {
   "cell_type": "code",
   "execution_count": null,
   "metadata": {},
   "outputs": [],
   "source": [
    "condo_df = condo_df[condo_df['Year Built'] != 1073]\n",
    "condo_df = condo_df[condo_df['Year Built'] != 1577]\n",
    "condo_df = condo_df[condo_df['Year Built'] != 1647]"
   ]
  },
  {
   "cell_type": "code",
   "execution_count": null,
   "metadata": {},
   "outputs": [],
   "source": [
    "condo_df.sort_values('Year Built', ascending=False)\n"
   ]
  },
  {
   "cell_type": "code",
   "execution_count": null,
   "metadata": {},
   "outputs": [],
   "source": [
    "#Add the Price per SqFt to this data frame\n",
    "condo_df[\"Price per SqFt\"] = condo_df[\"Sold Price\"]/condo_df[\"SqFt\"]\n",
    "condo_df.head()"
   ]
  },
  {
   "cell_type": "code",
   "execution_count": null,
   "metadata": {},
   "outputs": [],
   "source": [
    "# Save the DataFrame to a CSV file\n",
    "condo_df.to_csv('Clean_Data/mls_condo_cleaned_2.csv', index=False)"
   ]
  },
  {
   "cell_type": "code",
   "execution_count": null,
   "metadata": {},
   "outputs": [],
   "source": [
    "condo_df.sort_values('Zip', ascending=False)\n"
   ]
  }
 ],
 "metadata": {
  "kernelspec": {
   "display_name": "dev",
   "language": "python",
   "name": "dev"
  },
  "language_info": {
   "codemirror_mode": {
    "name": "ipython",
    "version": 3
   },
   "file_extension": ".py",
   "mimetype": "text/x-python",
   "name": "python",
   "nbconvert_exporter": "python",
   "pygments_lexer": "ipython3",
   "version": "3.10.13"
  }
 },
 "nbformat": 4,
 "nbformat_minor": 2
}
