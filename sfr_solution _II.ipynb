{
 "cells": [
  {
   "cell_type": "code",
   "execution_count": 1,
   "metadata": {},
   "outputs": [
    {
     "data": {
      "text/html": [
       "<div>\n",
       "<style scoped>\n",
       "    .dataframe tbody tr th:only-of-type {\n",
       "        vertical-align: middle;\n",
       "    }\n",
       "\n",
       "    .dataframe tbody tr th {\n",
       "        vertical-align: top;\n",
       "    }\n",
       "\n",
       "    .dataframe thead th {\n",
       "        text-align: right;\n",
       "    }\n",
       "</style>\n",
       "<table border=\"1\" class=\"dataframe\">\n",
       "  <thead>\n",
       "    <tr style=\"text-align: right;\">\n",
       "      <th></th>\n",
       "      <th>Zip</th>\n",
       "      <th>Bedrooms</th>\n",
       "      <th>Total Baths</th>\n",
       "      <th>SqFt</th>\n",
       "      <th>Acres</th>\n",
       "      <th>Year Built</th>\n",
       "      <th>List Date</th>\n",
       "      <th>Closing Date</th>\n",
       "      <th>List Price</th>\n",
       "      <th>Sold Price</th>\n",
       "      <th>...</th>\n",
       "      <th>Cluster</th>\n",
       "      <th>Price per SqFt</th>\n",
       "      <th>List Year</th>\n",
       "      <th>List Month</th>\n",
       "      <th>Closing Year</th>\n",
       "      <th>Closing Month</th>\n",
       "      <th>Price Increase Percentage</th>\n",
       "      <th>Age of Property</th>\n",
       "      <th>Geo Cluster</th>\n",
       "      <th>Log Sold Price</th>\n",
       "    </tr>\n",
       "  </thead>\n",
       "  <tbody>\n",
       "    <tr>\n",
       "      <th>0</th>\n",
       "      <td>27607</td>\n",
       "      <td>5</td>\n",
       "      <td>8</td>\n",
       "      <td>2.646196</td>\n",
       "      <td>-0.219360</td>\n",
       "      <td>2022</td>\n",
       "      <td>2021-03-16</td>\n",
       "      <td>2022-02-23</td>\n",
       "      <td>2.397888</td>\n",
       "      <td>-0.608799</td>\n",
       "      <td>...</td>\n",
       "      <td>2</td>\n",
       "      <td>-2.543532</td>\n",
       "      <td>2021</td>\n",
       "      <td>3</td>\n",
       "      <td>2022</td>\n",
       "      <td>2</td>\n",
       "      <td>-10.283064</td>\n",
       "      <td>-0.895267</td>\n",
       "      <td>2</td>\n",
       "      <td>-0.938533</td>\n",
       "    </tr>\n",
       "    <tr>\n",
       "      <th>1</th>\n",
       "      <td>27377</td>\n",
       "      <td>5</td>\n",
       "      <td>7</td>\n",
       "      <td>2.646196</td>\n",
       "      <td>3.654051</td>\n",
       "      <td>1883</td>\n",
       "      <td>2021-09-27</td>\n",
       "      <td>2023-01-09</td>\n",
       "      <td>2.397888</td>\n",
       "      <td>2.361454</td>\n",
       "      <td>...</td>\n",
       "      <td>1</td>\n",
       "      <td>2.429647</td>\n",
       "      <td>2021</td>\n",
       "      <td>9</td>\n",
       "      <td>2023</td>\n",
       "      <td>1</td>\n",
       "      <td>-0.143221</td>\n",
       "      <td>4.608478</td>\n",
       "      <td>1</td>\n",
       "      <td>1.212374</td>\n",
       "    </tr>\n",
       "    <tr>\n",
       "      <th>2</th>\n",
       "      <td>27587</td>\n",
       "      <td>5</td>\n",
       "      <td>5</td>\n",
       "      <td>2.646196</td>\n",
       "      <td>3.008483</td>\n",
       "      <td>2005</td>\n",
       "      <td>2021-04-05</td>\n",
       "      <td>2021-05-27</td>\n",
       "      <td>2.397888</td>\n",
       "      <td>2.361454</td>\n",
       "      <td>...</td>\n",
       "      <td>0</td>\n",
       "      <td>2.429647</td>\n",
       "      <td>2021</td>\n",
       "      <td>4</td>\n",
       "      <td>2021</td>\n",
       "      <td>5</td>\n",
       "      <td>-0.143221</td>\n",
       "      <td>-0.266268</td>\n",
       "      <td>2</td>\n",
       "      <td>1.212374</td>\n",
       "    </tr>\n",
       "    <tr>\n",
       "      <th>3</th>\n",
       "      <td>27615</td>\n",
       "      <td>5</td>\n",
       "      <td>7</td>\n",
       "      <td>2.646196</td>\n",
       "      <td>0.426208</td>\n",
       "      <td>2022</td>\n",
       "      <td>2021-04-20</td>\n",
       "      <td>2022-09-28</td>\n",
       "      <td>2.397888</td>\n",
       "      <td>2.361454</td>\n",
       "      <td>...</td>\n",
       "      <td>0</td>\n",
       "      <td>2.429647</td>\n",
       "      <td>2021</td>\n",
       "      <td>4</td>\n",
       "      <td>2022</td>\n",
       "      <td>9</td>\n",
       "      <td>-0.143221</td>\n",
       "      <td>-0.895267</td>\n",
       "      <td>2</td>\n",
       "      <td>1.212374</td>\n",
       "    </tr>\n",
       "    <tr>\n",
       "      <th>4</th>\n",
       "      <td>27502</td>\n",
       "      <td>4</td>\n",
       "      <td>6</td>\n",
       "      <td>2.646196</td>\n",
       "      <td>1.717346</td>\n",
       "      <td>2023</td>\n",
       "      <td>2023-02-21</td>\n",
       "      <td>2023-11-21</td>\n",
       "      <td>2.397888</td>\n",
       "      <td>2.361454</td>\n",
       "      <td>...</td>\n",
       "      <td>2</td>\n",
       "      <td>2.429647</td>\n",
       "      <td>2023</td>\n",
       "      <td>2</td>\n",
       "      <td>2023</td>\n",
       "      <td>11</td>\n",
       "      <td>-0.143221</td>\n",
       "      <td>-0.895267</td>\n",
       "      <td>4</td>\n",
       "      <td>1.212374</td>\n",
       "    </tr>\n",
       "  </tbody>\n",
       "</table>\n",
       "<p>5 rows × 24 columns</p>\n",
       "</div>"
      ],
      "text/plain": [
       "     Zip  Bedrooms  Total Baths      SqFt     Acres  Year Built   List Date  \\\n",
       "0  27607         5            8  2.646196 -0.219360        2022  2021-03-16   \n",
       "1  27377         5            7  2.646196  3.654051        1883  2021-09-27   \n",
       "2  27587         5            5  2.646196  3.008483        2005  2021-04-05   \n",
       "3  27615         5            7  2.646196  0.426208        2022  2021-04-20   \n",
       "4  27502         4            6  2.646196  1.717346        2023  2023-02-21   \n",
       "\n",
       "  Closing Date  List Price  Sold Price  ...  Cluster  Price per SqFt  \\\n",
       "0   2022-02-23    2.397888   -0.608799  ...        2       -2.543532   \n",
       "1   2023-01-09    2.397888    2.361454  ...        1        2.429647   \n",
       "2   2021-05-27    2.397888    2.361454  ...        0        2.429647   \n",
       "3   2022-09-28    2.397888    2.361454  ...        0        2.429647   \n",
       "4   2023-11-21    2.397888    2.361454  ...        2        2.429647   \n",
       "\n",
       "   List Year  List Month  Closing Year  Closing Month  \\\n",
       "0       2021           3          2022              2   \n",
       "1       2021           9          2023              1   \n",
       "2       2021           4          2021              5   \n",
       "3       2021           4          2022              9   \n",
       "4       2023           2          2023             11   \n",
       "\n",
       "   Price Increase Percentage  Age of Property  Geo Cluster  Log Sold Price  \n",
       "0                 -10.283064        -0.895267            2       -0.938533  \n",
       "1                  -0.143221         4.608478            1        1.212374  \n",
       "2                  -0.143221        -0.266268            2        1.212374  \n",
       "3                  -0.143221        -0.895267            2        1.212374  \n",
       "4                  -0.143221        -0.895267            4        1.212374  \n",
       "\n",
       "[5 rows x 24 columns]"
      ]
     },
     "execution_count": 1,
     "metadata": {},
     "output_type": "execute_result"
    }
   ],
   "source": [
    "# Import the Utility Functions\n",
    "import pandas as pd\n",
    "import numpy as np\n",
    "import mls_utils as utils\n",
    "import matplotlib.pyplot as plt\n",
    "\n",
    "\n",
    "df = pd.read_csv(\"Clean_Data/mls_sfr_cleaned_3.csv\")\n",
    "df.head()"
   ]
  },
  {
   "cell_type": "code",
   "execution_count": 2,
   "metadata": {},
   "outputs": [],
   "source": [
    "#Covert the Nan values in Log Sold Price to 0\n",
    "df['Log Sold Price'] = df['Log Sold Price'].fillna(0)"
   ]
  },
  {
   "cell_type": "code",
   "execution_count": 3,
   "metadata": {},
   "outputs": [],
   "source": [
    "#Select features and target variables\n",
    "features = ['Bedrooms', 'Total Baths', 'SqFt', 'Acres', 'Year Built', 'Days on Market', 'Over Asking', 'Lat', 'Price per SqFt', 'List Year', 'Closing Year',\n",
    "       'Closing Month', 'Price Increase Percentage', 'Geo Cluster'] \n",
    "target = 'Sold Price'"
   ]
  },
  {
   "cell_type": "code",
   "execution_count": 4,
   "metadata": {},
   "outputs": [],
   "source": [
    "# Split the data\n",
    "X_train, X_test, y_train, y_test = utils.split_data(df, features, target)\n",
    "\n",
    "# Scale the data\n",
    "X_train_scaled, X_test_scaled = utils.scale_data(X_train, X_test)"
   ]
  },
  {
   "cell_type": "code",
   "execution_count": 5,
   "metadata": {},
   "outputs": [],
   "source": [
    "# Feature selection\n",
    "selected_features = utils.select_features(X_train_scaled, y_train)\n",
    "X_train_selected = X_train_scaled[:, selected_features]\n",
    "X_test_selected = X_test_scaled[:, selected_features]"
   ]
  },
  {
   "cell_type": "code",
   "execution_count": 6,
   "metadata": {},
   "outputs": [
    {
     "name": "stdout",
     "output_type": "stream",
     "text": [
      "Ridge Regression - Train MSE: 0.05706555568538567\n",
      "Ridge Regression - Test MSE: 0.05730122676041564\n",
      "Ridge Regression - Train R2: 0.9428755009883918\n",
      "Ridge Regression - Test R2: 0.9428362671415593\n"
     ]
    }
   ],
   "source": [
    "# Ridge Regression\n",
    "ridge_model = utils.tune_hyperparameters(X_train_selected, y_train, 'ridge')\n",
    "ridge_train_mse, ridge_test_mse, ridge_train_r2, ridge_test_r2 = utils.evaluate_model(ridge_model, X_train_selected, X_test_selected, y_train, y_test)\n",
    "\n",
    "print(f'Ridge Regression - Train MSE: {ridge_train_mse}')\n",
    "print(f'Ridge Regression - Test MSE: {ridge_test_mse}')\n",
    "print(f'Ridge Regression - Train R2: {ridge_train_r2}')\n",
    "print(f'Ridge Regression - Test R2: {ridge_test_r2}')"
   ]
  },
  {
   "cell_type": "code",
   "execution_count": 7,
   "metadata": {},
   "outputs": [
    {
     "name": "stdout",
     "output_type": "stream",
     "text": [
      "Lasso Regression - Train MSE: 0.07709216278528778\n",
      "Lasso Regression - Test MSE: 0.07755599974089376\n",
      "Lasso Regression - Train R2: 0.9228282082959068\n",
      "Lasso Regression - Test R2: 0.9226300953504125\n"
     ]
    }
   ],
   "source": [
    "# Lasso Regression\n",
    "lasso_model = utils.tune_hyperparameters(X_train_selected, y_train, 'lasso')\n",
    "lasso_train_mse, lasso_test_mse, lasso_train_r2, lasso_test_r2 = utils.evaluate_model(lasso_model, X_train_selected, X_test_selected, y_train, y_test)\n",
    "\n",
    "print(f'Lasso Regression - Train MSE: {lasso_train_mse}')\n",
    "print(f'Lasso Regression - Test MSE: {lasso_test_mse}')\n",
    "print(f'Lasso Regression - Train R2: {lasso_train_r2}')\n",
    "print(f'Lasso Regression - Test R2: {lasso_test_r2}')\n"
   ]
  },
  {
   "cell_type": "code",
   "execution_count": 8,
   "metadata": {},
   "outputs": [
    {
     "name": "stdout",
     "output_type": "stream",
     "text": [
      "Decision Tree Regressor - Train MSE: 0.00582971129415464\n",
      "Decision Tree Regressor - Test MSE: 0.00721456128115532\n",
      "Decision Tree Regressor - Train R2: 0.994164267164997\n",
      "Decision Tree Regressor - Test R2: 0.9928027500093295\n"
     ]
    }
   ],
   "source": [
    "# Decision Tree Regressor\n",
    "dt_model = utils.tune_hyperparameters(X_train_selected, y_train, 'decision_tree')\n",
    "dt_train_mse, dt_test_mse, dt_train_r2, dt_test_r2 = utils.evaluate_model(dt_model, X_train_selected, X_test_selected, y_train, y_test)\n",
    "\n",
    "print(f'Decision Tree Regressor - Train MSE: {dt_train_mse}')\n",
    "print(f'Decision Tree Regressor - Test MSE: {dt_test_mse}')\n",
    "print(f'Decision Tree Regressor - Train R2: {dt_train_r2}')\n",
    "print(f'Decision Tree Regressor - Test R2: {dt_test_r2}')"
   ]
  },
  {
   "cell_type": "code",
   "execution_count": 9,
   "metadata": {},
   "outputs": [
    {
     "name": "stdout",
     "output_type": "stream",
     "text": [
      "Random Forest Regressor - Train MSE: 0.005913432702432307\n",
      "Random Forest Regressor - Test MSE: 0.006077591020315428\n",
      "Random Forest Regressor - Train R2: 0.9940804592804164\n",
      "Random Forest Regressor - Test R2: 0.9939369921177993\n"
     ]
    }
   ],
   "source": [
    "# Random Forest Regressor\n",
    "rf_model = utils.tune_hyperparameters(X_train_selected, y_train, 'random_forest')\n",
    "rf_train_mse, rf_test_mse, rf_train_r2, rf_test_r2 = utils.evaluate_model(rf_model, X_train_selected, X_test_selected, y_train, y_test)\n",
    "\n",
    "print(f'Random Forest Regressor - Train MSE: {rf_train_mse}')\n",
    "print(f'Random Forest Regressor - Test MSE: {rf_test_mse}')\n",
    "print(f'Random Forest Regressor - Train R2: {rf_train_r2}')\n",
    "print(f'Random Forest Regressor - Test R2: {rf_test_r2}')"
   ]
  },
  {
   "cell_type": "code",
   "execution_count": 10,
   "metadata": {},
   "outputs": [
    {
     "name": "stdout",
     "output_type": "stream",
     "text": [
      "Support Vector Regressor - Train MSE: 0.011037361755347204\n",
      "Support Vector Regressor - Test MSE: 0.009461468538859225\n",
      "Support Vector Regressor - Train R2: 0.9889512376930106\n",
      "Support Vector Regressor - Test R2: 0.9905612341902335\n"
     ]
    }
   ],
   "source": [
    "# Support Vector Regressor\n",
    "svr_model = utils.tune_hyperparameters(X_train_selected, y_train, 'svm')\n",
    "svr_train_mse, svr_test_mse, svr_train_r2, svr_test_r2 = utils.evaluate_model(svr_model, X_train_selected, X_test_selected, y_train, y_test)\n",
    "\n",
    "print(f'Support Vector Regressor - Train MSE: {svr_train_mse}')\n",
    "print(f'Support Vector Regressor - Test MSE: {svr_test_mse}')\n",
    "print(f'Support Vector Regressor - Train R2: {svr_train_r2}')\n",
    "print(f'Support Vector Regressor - Test R2: {svr_test_r2}')\n"
   ]
  },
  {
   "cell_type": "code",
   "execution_count": 11,
   "metadata": {},
   "outputs": [
    {
     "name": "stdout",
     "output_type": "stream",
     "text": [
      "K-Nearest Neighbors Regressor - Train MSE: 0.006815964456707552\n",
      "K-Nearest Neighbors Regressor - Test MSE: 0.006279083957804405\n",
      "K-Nearest Neighbors Regressor - Train R2: 0.9931769952961299\n",
      "K-Nearest Neighbors Regressor - Test R2: 0.9937359826612366\n"
     ]
    }
   ],
   "source": [
    "# K-Nearest Neighbors Regressor\n",
    "knn_model = utils.tune_hyperparameters(X_train_selected, y_train, 'knn')\n",
    "knn_train_mse, knn_test_mse, knn_train_r2, knn_test_r2 = utils.evaluate_model(knn_model, X_train_selected, X_test_selected, y_train, y_test)\n",
    "\n",
    "print(f'K-Nearest Neighbors Regressor - Train MSE: {knn_train_mse}')\n",
    "print(f'K-Nearest Neighbors Regressor - Test MSE: {knn_test_mse}')\n",
    "print(f'K-Nearest Neighbors Regressor - Train R2: {knn_train_r2}')\n",
    "print(f'K-Nearest Neighbors Regressor - Test R2: {knn_test_r2}')\n"
   ]
  },
  {
   "cell_type": "markdown",
   "metadata": {},
   "source": [
    "Bar Charts for Error Metrics"
   ]
  },
  {
   "cell_type": "code",
   "execution_count": 12,
   "metadata": {},
   "outputs": [
    {
     "data": {
      "image/png": "[encoded data removed]",
      "text/plain": [
       "<Figure size 640x480 with 1 Axes>"
      ]
     },
     "metadata": {},
     "output_type": "display_data"
    }
   ],
   "source": [
    "# Data\n",
    "models = ['Ridge', 'Lasso', 'Decision Tree', 'Random Forest', 'SVM', 'KNN']\n",
    "train_mse = [ridge_train_mse, lasso_train_mse, dt_train_mse, rf_train_mse, svr_train_mse, knn_train_mse]\n",
    "test_mse = [ridge_test_mse, lasso_test_mse, dt_test_mse, rf_test_mse, svr_test_mse, knn_test_mse]\n",
    "\n",
    "x = range(len(models))  # the label locations\n",
    "\n",
    "fig, ax = plt.subplots()\n",
    "rects1 = ax.bar(x, train_mse, width=0.4, label='Train MSE')\n",
    "rects2 = ax.bar([p + 0.4 for p in x], test_mse, width=0.4, label='Test MSE')\n",
    "\n",
    "# Add some text for labels, title and custom x-axis tick labels, etc.\n",
    "ax.set_xlabel('Models')\n",
    "ax.set_ylabel('Mean Squared Error')\n",
    "ax.set_title('Comparison of Model MSE')\n",
    "ax.set_xticks([p + 0.2 for p in x])\n",
    "ax.set_xticklabels(models, rotation=45)\n",
    "ax.legend()\n",
    "\n",
    "fig.tight_layout()\n",
    "\n",
    "plt.show()"
   ]
  }
 ],
 "metadata": {
  "kernelspec": {
   "display_name": "dev",
   "language": "python",
   "name": "dev"
  },
  "language_info": {
   "codemirror_mode": {
    "name": "ipython",
    "version": 3
   },
   "file_extension": ".py",
   "mimetype": "text/x-python",
   "name": "python",
   "nbconvert_exporter": "python",
   "pygments_lexer": "ipython3",
   "version": "3.11.9"
  }
 },
 "nbformat": 4,
 "nbformat_minor": 4
}
